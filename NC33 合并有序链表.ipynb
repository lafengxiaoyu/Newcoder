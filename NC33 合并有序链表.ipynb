{
 "cells": [
  {
   "cell_type": "markdown",
   "metadata": {},
   "source": [
    "函数部分"
   ]
  },
  {
   "cell_type": "code",
   "execution_count": 1,
   "metadata": {},
   "outputs": [],
   "source": [
    "class ListNode:\n",
    "    def __init__(self, x):\n",
    "        self.val = x\n",
    "        self.next = None\n",
    "\n",
    "#\n",
    "# \n",
    "# @param l1 ListNode类 \n",
    "# @param l2 ListNode类 \n",
    "# @return ListNode类\n",
    "#\n",
    "class Solution:\n",
    "    def mergeTwoLists(self , l1 , l2 ):\n",
    "        # write code here\n",
    "        if l1 != None and l2!= None:\n",
    "            if l1.val <= l2.val:\n",
    "                # create a new link named pHead\n",
    "                pHead = ListNode(l1.val)\n",
    "                l1 = l1.next\n",
    "            else:\n",
    "                pHead = ListNode(l2.val)\n",
    "                l2 = l2.next\n",
    "\n",
    "            # difine current node\n",
    "            current = pHead\n",
    "\n",
    "            while (l1 != None) and (l2 != None): # one of them don't reach the final\n",
    "                val1 = l1.val\n",
    "                val2 = l2.val\n",
    "\n",
    "                if val1 <= val2: # value in list 1 is smaller\n",
    "                    current.next = ListNode(val1)\n",
    "                    l1 = l1.next\n",
    "                else:\n",
    "                    current.next = ListNode(val2)\n",
    "                    l2 = l2.next\n",
    "                current = current.next\n",
    "\n",
    "            if l1 != None: # if l1 still has element\n",
    "                current.next = l1\n",
    "            else: # l2 has element\n",
    "                current.next = l2\n",
    "            return pHead\n",
    "        elif l1 == None:\n",
    "            return l2\n",
    "        else:\n",
    "            return l1"
   ]
  },
  {
   "cell_type": "markdown",
   "metadata": {},
   "source": [
    "测试部分"
   ]
  },
  {
   "cell_type": "code",
   "execution_count": 2,
   "metadata": {},
   "outputs": [],
   "source": [
    "def print_link(pHead):\n",
    "    while pHead.next != None:\n",
    "        print(pHead,\":\",pHead.val)\n",
    "        pHead = pHead.next\n",
    "    print(pHead,\":\",pHead.val)"
   ]
  },
  {
   "cell_type": "code",
   "execution_count": 3,
   "metadata": {},
   "outputs": [
    {
     "name": "stdout",
     "output_type": "stream",
     "text": [
      "<__main__.ListNode object at 0x7f88d1774160> : 1\n",
      "<__main__.ListNode object at 0x7f88d1774c40> : 3\n",
      "<__main__.ListNode object at 0x7f88d1774af0> : 5\n"
     ]
    }
   ],
   "source": [
    "a = [1, 3, 5]\n",
    "\n",
    "n10 = ListNode(a[0])\n",
    "n11 = ListNode(a[1])\n",
    "n12 = ListNode(a[2])\n",
    "\n",
    "n10.next = n11\n",
    "n11.next = n12\n",
    "\n",
    "print_link(n10)"
   ]
  },
  {
   "cell_type": "code",
   "execution_count": 4,
   "metadata": {},
   "outputs": [
    {
     "name": "stdout",
     "output_type": "stream",
     "text": [
      "<__main__.ListNode object at 0x7f88d17740a0> : 2\n",
      "<__main__.ListNode object at 0x7f88d1774b20> : 4\n",
      "<__main__.ListNode object at 0x7f88d1750ee0> : 6\n"
     ]
    }
   ],
   "source": [
    "b = [2, 4, 6]\n",
    "\n",
    "n20 = ListNode(b[0])\n",
    "n21 = ListNode(b[1])\n",
    "n22 = ListNode(b[2])\n",
    "\n",
    "n20.next = n21\n",
    "n21.next = n22\n",
    "\n",
    "print_link(n20)"
   ]
  },
  {
   "cell_type": "code",
   "execution_count": 5,
   "metadata": {},
   "outputs": [
    {
     "name": "stdout",
     "output_type": "stream",
     "text": [
      "<__main__.ListNode object at 0x7f88d1774220> : 1\n",
      "<__main__.ListNode object at 0x7f88d1774b80> : 2\n",
      "<__main__.ListNode object at 0x7f88d1774d90> : 3\n",
      "<__main__.ListNode object at 0x7f88d1774f70> : 4\n",
      "<__main__.ListNode object at 0x7f88d1774820> : 5\n",
      "<__main__.ListNode object at 0x7f88d1750ee0> : 6\n"
     ]
    }
   ],
   "source": [
    "s = Solution()\n",
    "print_link(s.mergeTwoLists(n10 , n20))"
   ]
  }
 ],
 "metadata": {
  "kernelspec": {
   "display_name": "Python 3",
   "language": "python",
   "name": "python3"
  },
  "language_info": {
   "codemirror_mode": {
    "name": "ipython",
    "version": 3
   },
   "file_extension": ".py",
   "mimetype": "text/x-python",
   "name": "python",
   "nbconvert_exporter": "python",
   "pygments_lexer": "ipython3",
   "version": "3.9.0"
  }
 },
 "nbformat": 4,
 "nbformat_minor": 4
}
