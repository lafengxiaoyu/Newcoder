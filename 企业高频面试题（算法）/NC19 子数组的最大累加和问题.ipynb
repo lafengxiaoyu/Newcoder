{
 "cells": [
  {
   "cell_type": "markdown",
   "metadata": {},
   "source": [
    "函数部分：\n",
    "\n",
    "    动态规划还得好好学啊。。\n",
    "    \n",
    "    参考知乎：https://www.zhihu.com/question/23995189"
   ]
  },
  {
   "cell_type": "code",
   "execution_count": 1,
   "metadata": {},
   "outputs": [],
   "source": [
    "#\n",
    "# max sum of the subarray\n",
    "# @param arr int整型一维数组 the array\n",
    "# @return int整型\n",
    "#\n",
    "class Solution:\n",
    "    def maxsumofSubarray(self , arr ):\n",
    "        # write code here\n",
    "        list_max_value = []\n",
    "        list_max_value.append(arr[0])\n",
    "\n",
    "        max_value = arr[0]\n",
    "\n",
    "        for i in range(1,len(arr)):\n",
    "            max_current = max(list_max_value[-1], 0) + arr[i]\n",
    "            list_max_value.append(max_current)\n",
    "            if  (max_current) > max_value:\n",
    "                max_value = max_current\n",
    "        return max_value"
   ]
  },
  {
   "cell_type": "markdown",
   "metadata": {},
   "source": [
    "测试部分"
   ]
  },
  {
   "cell_type": "code",
   "execution_count": 2,
   "metadata": {},
   "outputs": [],
   "source": [
    "arr = [1, -2, 3, 5, -2, 6, -1]"
   ]
  },
  {
   "cell_type": "code",
   "execution_count": 3,
   "metadata": {},
   "outputs": [
    {
     "data": {
      "text/plain": [
       "12"
      ]
     },
     "execution_count": 3,
     "metadata": {},
     "output_type": "execute_result"
    }
   ],
   "source": [
    "s = Solution()\n",
    "s.maxsumofSubarray(arr)"
   ]
  },
  {
   "cell_type": "code",
   "execution_count": null,
   "metadata": {},
   "outputs": [],
   "source": []
  },
  {
   "cell_type": "code",
   "execution_count": null,
   "metadata": {},
   "outputs": [],
   "source": []
  }
 ],
 "metadata": {
  "kernelspec": {
   "display_name": "Python 3",
   "language": "python",
   "name": "python3"
  },
  "language_info": {
   "codemirror_mode": {
    "name": "ipython",
    "version": 3
   },
   "file_extension": ".py",
   "mimetype": "text/x-python",
   "name": "python",
   "nbconvert_exporter": "python",
   "pygments_lexer": "ipython3",
   "version": "3.9.0"
  }
 },
 "nbformat": 4,
 "nbformat_minor": 4
}
