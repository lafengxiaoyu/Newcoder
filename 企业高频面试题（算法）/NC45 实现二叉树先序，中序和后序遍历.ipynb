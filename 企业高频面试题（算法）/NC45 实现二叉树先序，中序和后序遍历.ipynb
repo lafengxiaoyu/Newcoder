{
 "cells": [
  {
   "cell_type": "code",
   "execution_count": 1,
   "metadata": {},
   "outputs": [],
   "source": [
    "def create_tree(t):\n",
    "    if len(t) == 0:\n",
    "        return None\n",
    "    else:\n",
    "        root = TreeNode(t[0])\n",
    "        if len(t) == 1:\n",
    "            return root\n",
    "        else:\n",
    "            list_node = []\n",
    "            list_node.append(root)\n",
    "\n",
    "            # next is a left son\n",
    "            left = 1\n",
    "            for i in range(len(t) - 1):\n",
    "                val = t[i + 1]\n",
    "                # initialize a new node as null node\n",
    "                new_node = None\n",
    "                if val != '#':\n",
    "                    # create this new node\n",
    "                    new_node = TreeNode(val)\n",
    "                    # add it into the node list\n",
    "                    list_node.append(new_node)\n",
    "\n",
    "                if left == 1: # the left son\n",
    "                    # if right, do not need to pop\n",
    "                    parent_node = list_node.pop(0)\n",
    "                    parent_node.left = new_node\n",
    "                    left = 0\n",
    "                else:\n",
    "                    parent_node.right = new_node\n",
    "                    left = 1\n",
    "        return root"
   ]
  },
  {
   "cell_type": "markdown",
   "metadata": {},
   "source": [
    "函数部分：\n",
    "\n",
    "    还是得好好学递归啊。。"
   ]
  },
  {
   "cell_type": "code",
   "execution_count": 2,
   "metadata": {},
   "outputs": [],
   "source": [
    "class TreeNode:\n",
    "    def __init__(self, x):\n",
    "        self.val = x\n",
    "        self.left = None\n",
    "        self.right = None\n",
    "\n",
    "#\n",
    "# \n",
    "# @param root TreeNode类 the root of binary tree\n",
    "# @return int整型二维数组\n",
    "#\n",
    "class Solution:\n",
    "    def threeOrders(self , root ):\n",
    "        # write code here\n",
    "        list_val_front = []\n",
    "        list_val_mid = []\n",
    "        list_val_end = []\n",
    "\n",
    "        def front(t):\n",
    "            if t != None:\n",
    "                list_val_front.append(t.val)\n",
    "            if t.left != None:\n",
    "                front(t.left)\n",
    "            if t.right != None:\n",
    "                front(t.right)\n",
    "\n",
    "            return list_val_front\n",
    "\n",
    "        def mid(t):\n",
    "\n",
    "            if t.left != None:\n",
    "                mid(t.left)\n",
    "            if t != None:\n",
    "                list_val_mid.append(t.val)\n",
    "            if t.right != None:\n",
    "                mid(t.right)\n",
    "\n",
    "            return list_val_mid\n",
    "\n",
    "\n",
    "        def end(t):\n",
    "\n",
    "            if t.left != None:\n",
    "                end(t.left)\n",
    "            if t.right != None:\n",
    "                end(t.right)\n",
    "            if t != None:\n",
    "                list_val_end.append(t.val)\n",
    "\n",
    "            return list_val_end\n",
    "        \n",
    "        return[front(root), mid(root), end(root)]"
   ]
  },
  {
   "cell_type": "markdown",
   "metadata": {},
   "source": [
    "测试部分："
   ]
  },
  {
   "cell_type": "code",
   "execution_count": 3,
   "metadata": {},
   "outputs": [],
   "source": [
    "t = [1,2,3,4,'#','#',5]\n",
    "\n",
    "t = [1, 2, 3]\n",
    "t = create_tree(t)"
   ]
  },
  {
   "cell_type": "code",
   "execution_count": 4,
   "metadata": {},
   "outputs": [
    {
     "data": {
      "text/plain": [
       "[[1, 2, 3], [2, 1, 3], [2, 3, 1]]"
      ]
     },
     "execution_count": 4,
     "metadata": {},
     "output_type": "execute_result"
    }
   ],
   "source": [
    "s = Solution()\n",
    "s.threeOrders(t)"
   ]
  }
 ],
 "metadata": {
  "kernelspec": {
   "display_name": "Python 3",
   "language": "python",
   "name": "python3"
  },
  "language_info": {
   "codemirror_mode": {
    "name": "ipython",
    "version": 3
   },
   "file_extension": ".py",
   "mimetype": "text/x-python",
   "name": "python",
   "nbconvert_exporter": "python",
   "pygments_lexer": "ipython3",
   "version": "3.9.0"
  }
 },
 "nbformat": 4,
 "nbformat_minor": 4
}
