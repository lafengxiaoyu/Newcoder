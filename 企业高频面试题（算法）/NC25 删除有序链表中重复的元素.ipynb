{
 "cells": [
  {
   "cell_type": "markdown",
   "metadata": {},
   "source": [
    "函数部分"
   ]
  },
  {
   "cell_type": "code",
   "execution_count": 1,
   "metadata": {},
   "outputs": [],
   "source": [
    "class ListNode:\n",
    "    def __init__(self, x):\n",
    "        self.val = x\n",
    "        self.next = None\n",
    "\n",
    "#\n",
    "# \n",
    "# @param head ListNode类 \n",
    "# @return ListNode类\n",
    "#\n",
    "class Solution:\n",
    "    def deleteDuplicates(self , head ):\n",
    "        # write code here\n",
    "        if head == None or head.next == None:\n",
    "            return head\n",
    "        else:\n",
    "            current_node = head\n",
    "            next_node = None\n",
    "            while current_node.next != None:\n",
    "                next_node = current_node.next\n",
    "                # if duplicate element, connect this node to the next of next\n",
    "                if current_node.val == next_node.val:\n",
    "                    current_node.next = next_node.next\n",
    "                # else move to next node\n",
    "                else:\n",
    "                    current_node = current_node.next\n",
    "            return head"
   ]
  },
  {
   "cell_type": "markdown",
   "metadata": {},
   "source": [
    "测试部分：\n",
    "    关键在于处理边界条件"
   ]
  },
  {
   "cell_type": "code",
   "execution_count": 2,
   "metadata": {},
   "outputs": [],
   "source": [
    "def print_link(pHead):\n",
    "    while pHead.next != None:\n",
    "        print(pHead)\n",
    "        pHead = pHead.next\n",
    "    print(pHead)"
   ]
  },
  {
   "cell_type": "code",
   "execution_count": 3,
   "metadata": {},
   "outputs": [],
   "source": [
    "numbers = [1, 1, 2]\n",
    "n0 = ListNode(numbers[0])\n",
    "n1 = ListNode(numbers[1])\n",
    "n2 = ListNode(numbers[2])\n",
    "\n",
    "n0.next = n1\n",
    "n1.next = n2"
   ]
  },
  {
   "cell_type": "code",
   "execution_count": 4,
   "metadata": {},
   "outputs": [
    {
     "name": "stdout",
     "output_type": "stream",
     "text": [
      "<__main__.ListNode object at 0x7fb57489e640>\n",
      "<__main__.ListNode object at 0x7fb57489e790>\n",
      "<__main__.ListNode object at 0x7fb57489e310>\n"
     ]
    }
   ],
   "source": [
    "print_link(n0)"
   ]
  },
  {
   "cell_type": "code",
   "execution_count": 5,
   "metadata": {},
   "outputs": [
    {
     "name": "stdout",
     "output_type": "stream",
     "text": [
      "<__main__.ListNode object at 0x7fb57489e640>\n",
      "<__main__.ListNode object at 0x7fb57489e310>\n"
     ]
    }
   ],
   "source": [
    "s = Solution()\n",
    "print_link(s.deleteDuplicates(n0))"
   ]
  }
 ],
 "metadata": {
  "kernelspec": {
   "display_name": "Python 3",
   "language": "python",
   "name": "python3"
  },
  "language_info": {
   "codemirror_mode": {
    "name": "ipython",
    "version": 3
   },
   "file_extension": ".py",
   "mimetype": "text/x-python",
   "name": "python",
   "nbconvert_exporter": "python",
   "pygments_lexer": "ipython3",
   "version": "3.9.0"
  }
 },
 "nbformat": 4,
 "nbformat_minor": 4
}
