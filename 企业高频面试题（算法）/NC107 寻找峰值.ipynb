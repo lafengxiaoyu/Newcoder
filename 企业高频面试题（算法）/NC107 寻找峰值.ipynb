{
 "cells": [
  {
   "cell_type": "markdown",
   "metadata": {},
   "source": [
    "函数部分"
   ]
  },
  {
   "cell_type": "code",
   "execution_count": 1,
   "metadata": {},
   "outputs": [],
   "source": [
    "#\n",
    "# 寻找最后的山峰\n",
    "# @param a int整型一维数组 \n",
    "# @return int整型\n",
    "#\n",
    "class Solution:\n",
    "    def solve(self , a ):\n",
    "        # write code here\n",
    "        if len(a)==1:\n",
    "            return 0\n",
    "        else:\n",
    "            flag = 0\n",
    "            if a[-1] >= a[-2]:\n",
    "                flag = 1\n",
    "                return len(a)-1\n",
    "            else:\n",
    "                for i in range(len(a)-2,0,-1):\n",
    "                    if (a[i] >= a[i-1] and a[i] >= a[i+1]):\n",
    "                        flag = 1\n",
    "                        return i\n",
    "                if flag == 0:\n",
    "                    return 0"
   ]
  },
  {
   "cell_type": "markdown",
   "metadata": {},
   "source": [
    "测试部分"
   ]
  },
  {
   "cell_type": "code",
   "execution_count": 2,
   "metadata": {},
   "outputs": [
    {
     "data": {
      "text/plain": [
       "5"
      ]
     },
     "execution_count": 2,
     "metadata": {},
     "output_type": "execute_result"
    }
   ],
   "source": [
    "s = Solution()\n",
    "s.solve([2,4,1,2,7,8,4])"
   ]
  }
 ],
 "metadata": {
  "kernelspec": {
   "display_name": "Python 3",
   "language": "python",
   "name": "python3"
  },
  "language_info": {
   "codemirror_mode": {
    "name": "ipython",
    "version": 3
   },
   "file_extension": ".py",
   "mimetype": "text/x-python",
   "name": "python",
   "nbconvert_exporter": "python",
   "pygments_lexer": "ipython3",
   "version": "3.9.0"
  }
 },
 "nbformat": 4,
 "nbformat_minor": 4
}
