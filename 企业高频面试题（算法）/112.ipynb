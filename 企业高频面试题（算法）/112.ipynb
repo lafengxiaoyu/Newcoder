{
 "cells": [
  {
   "cell_type": "code",
   "execution_count": 4,
   "metadata": {},
   "outputs": [],
   "source": [
    "#\n",
    "# 进制转换\n",
    "# @param M int整型 给定整数\n",
    "# @param N int整型 转换到的进制\n",
    "# @return string字符串\n",
    "#\n",
    "class Solution:\n",
    "    def solve(self , M , N ):\n",
    "        # write code here\n",
    "        list_number = []\n",
    "        while M != 0:\n",
    "            list_number.append(M % N)\n",
    "            M = int((M - M % N) / N)\n",
    "            \n",
    "        strnum = \"\"\n",
    "        for i in range(len(list_number)):\n",
    "            strnum += str(list_number[-1 - i])\n",
    "        return strnum"
   ]
  },
  {
   "cell_type": "code",
   "execution_count": 5,
   "metadata": {},
   "outputs": [
    {
     "data": {
      "text/plain": [
       "'111'"
      ]
     },
     "execution_count": 5,
     "metadata": {},
     "output_type": "execute_result"
    }
   ],
   "source": [
    "M = 7\n",
    "N = 2\n",
    "\n",
    "s = Solution()\n",
    "s.solve(M,N)"
   ]
  },
  {
   "cell_type": "code",
   "execution_count": null,
   "metadata": {},
   "outputs": [],
   "source": []
  }
 ],
 "metadata": {
  "kernelspec": {
   "display_name": "Python 3",
   "language": "python",
   "name": "python3"
  },
  "language_info": {
   "codemirror_mode": {
    "name": "ipython",
    "version": 3
   },
   "file_extension": ".py",
   "mimetype": "text/x-python",
   "name": "python",
   "nbconvert_exporter": "python",
   "pygments_lexer": "ipython3",
   "version": "3.9.0"
  }
 },
 "nbformat": 4,
 "nbformat_minor": 4
}
