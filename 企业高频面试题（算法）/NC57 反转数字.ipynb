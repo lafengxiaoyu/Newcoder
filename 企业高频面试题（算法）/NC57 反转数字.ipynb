{
 "cells": [
  {
   "cell_type": "markdown",
   "metadata": {},
   "source": [
    "函数部分:\n",
    "    我发现其实不用考虑越界。。"
   ]
  },
  {
   "cell_type": "code",
   "execution_count": 1,
   "metadata": {},
   "outputs": [],
   "source": [
    "#\n",
    "# \n",
    "# @param x int整型 \n",
    "# @return int整型\n",
    "#\n",
    "class Solution:\n",
    "    def reverse(self , x ):\n",
    "        # write code here\n",
    "            xstr = str(x)\n",
    "            if xstr[0] == '-':\n",
    "                xinverse = \"\"\n",
    "                for c in xstr[1:]:\n",
    "                    xinverse = c + xinverse\n",
    "                xinverse = '-' + xinverse\n",
    "                return int(xinverse)\n",
    "            else:\n",
    "                xinverse = \"\"\n",
    "                for c in xstr:\n",
    "                    xinverse = c + xinverse\n",
    "                return int(xinverse)"
   ]
  },
  {
   "cell_type": "markdown",
   "metadata": {},
   "source": [
    "测试部分"
   ]
  },
  {
   "cell_type": "code",
   "execution_count": 2,
   "metadata": {},
   "outputs": [
    {
     "data": {
      "text/plain": [
       "-321"
      ]
     },
     "execution_count": 2,
     "metadata": {},
     "output_type": "execute_result"
    }
   ],
   "source": [
    "x = -123\n",
    "s = Solution()\n",
    "s.reverse(x)"
   ]
  }
 ],
 "metadata": {
  "kernelspec": {
   "display_name": "Python 3",
   "language": "python",
   "name": "python3"
  },
  "language_info": {
   "codemirror_mode": {
    "name": "ipython",
    "version": 3
   },
   "file_extension": ".py",
   "mimetype": "text/x-python",
   "name": "python",
   "nbconvert_exporter": "python",
   "pygments_lexer": "ipython3",
   "version": "3.9.0"
  }
 },
 "nbformat": 4,
 "nbformat_minor": 4
}
