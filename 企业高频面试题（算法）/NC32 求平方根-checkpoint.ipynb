{
 "cells": [
  {
   "cell_type": "markdown",
   "metadata": {},
   "source": [
    "函数部分"
   ]
  },
  {
   "cell_type": "code",
   "execution_count": 1,
   "metadata": {},
   "outputs": [],
   "source": [
    "#\n",
    "# \n",
    "# @param x int整型 \n",
    "# @return int整型\n",
    "#\n",
    "class Solution:\n",
    "    def sqrt(self , x ):\n",
    "        # write code here\n",
    "        begin = 1\n",
    "        end = x\n",
    "\n",
    "        while (end - begin) > 1:\n",
    "            if (int(begin + end)/2) ** 2 > x: # We search the left part\n",
    "                end = int((begin + end)/2)\n",
    "            else:\n",
    "                begin = int((begin + end)/2)\n",
    "        if end ** 2 <= x:\n",
    "            return end\n",
    "        else:\n",
    "            return begin"
   ]
  },
  {
   "cell_type": "markdown",
   "metadata": {},
   "source": [
    "测试部分"
   ]
  },
  {
   "cell_type": "code",
   "execution_count": 2,
   "metadata": {},
   "outputs": [
    {
     "data": {
      "text/plain": [
       "2"
      ]
     },
     "execution_count": 2,
     "metadata": {},
     "output_type": "execute_result"
    }
   ],
   "source": [
    "s = Solution()\n",
    "s.sqrt(4)"
   ]
  }
 ],
 "metadata": {
  "kernelspec": {
   "display_name": "Python 3",
   "language": "python",
   "name": "python3"
  },
  "language_info": {
   "codemirror_mode": {
    "name": "ipython",
    "version": 3
   },
   "file_extension": ".py",
   "mimetype": "text/x-python",
   "name": "python",
   "nbconvert_exporter": "python",
   "pygments_lexer": "ipython3",
   "version": "3.9.0"
  }
 },
 "nbformat": 4,
 "nbformat_minor": 4
}
