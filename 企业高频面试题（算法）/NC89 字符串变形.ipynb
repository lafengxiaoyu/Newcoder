{
 "cells": [
  {
   "cell_type": "markdown",
   "metadata": {},
   "source": [
    "函数部分"
   ]
  },
  {
   "cell_type": "code",
   "execution_count": 1,
   "metadata": {},
   "outputs": [],
   "source": [
    "# -*- coding:utf-8 -*-\n",
    "\n",
    "class Transform:\n",
    "    def trans(self, s, n):\n",
    "        # write code here\n",
    "        list_space = []   \n",
    "        number_of_space = 0\n",
    "        flag = 0 # means the previous character is not a space\n",
    "\n",
    "        for i in range(n):\n",
    "            if s[i] == ' ':\n",
    "                if flag == 0:\n",
    "                    number_of_space = 1\n",
    "                    flag = 1\n",
    "                else:\n",
    "                    number_of_space += 1\n",
    "            else:\n",
    "                if number_of_space != 0:\n",
    "                    list_space.append(number_of_space)\n",
    "                flag = 0\n",
    "                number_of_space = 0\n",
    "        if number_of_space != 0:\n",
    "            list_space.append(number_of_space)\n",
    "        \n",
    "        reverse_s = \"\"\n",
    "        if s[-1] == \" \":\n",
    "            if len(list_space) == len(s.split()):\n",
    "                list_space.insert(0,0)\n",
    "            reverse_s += \" \" * list_space[-1]\n",
    "            for i in range(len(s.split())):\n",
    "                for c in s.split()[-1-i]:\n",
    "                    if c >= 'a' and c <= 'z':\n",
    "                        reverse_s += c.upper()\n",
    "                    elif c >= 'A' and c <= 'Z':\n",
    "                        reverse_s += c.lower()\n",
    "                reverse_s += \" \" * list_space[-2 - i]\n",
    "        else:\n",
    "            if len(s.split()) - len(list_space) == 1:\n",
    "                list_space.insert(0,0)\n",
    "            for i in range(len(s.split())):\n",
    "                for c in s.split()[-1-i]:\n",
    "                    if c >= 'a' and c <= 'z':\n",
    "                        reverse_s += c.upper()\n",
    "                    elif c >= 'A' and c <= 'Z':\n",
    "                        reverse_s += c.lower()\n",
    "                reverse_s += \" \" * list_space[- 1 - i]\n",
    "        \n",
    "        return reverse_s"
   ]
  },
  {
   "cell_type": "markdown",
   "metadata": {},
   "source": [
    "测试部分"
   ]
  },
  {
   "cell_type": "code",
   "execution_count": 2,
   "metadata": {},
   "outputs": [],
   "source": [
    "s = \"This is a sample\"\n",
    "n = 16"
   ]
  },
  {
   "cell_type": "code",
   "execution_count": 3,
   "metadata": {},
   "outputs": [],
   "source": [
    "s = \" h i\"\n",
    "n = 4"
   ]
  },
  {
   "cell_type": "code",
   "execution_count": 4,
   "metadata": {},
   "outputs": [],
   "source": [
    "s = \"h i \"\n",
    "n = 4"
   ]
  },
  {
   "cell_type": "code",
   "execution_count": 5,
   "metadata": {},
   "outputs": [
    {
     "data": {
      "text/plain": [
       "' I H'"
      ]
     },
     "execution_count": 5,
     "metadata": {},
     "output_type": "execute_result"
    }
   ],
   "source": [
    "t = Transform()\n",
    "t.trans(s,n)"
   ]
  }
 ],
 "metadata": {
  "kernelspec": {
   "display_name": "Python 3",
   "language": "python",
   "name": "python3"
  },
  "language_info": {
   "codemirror_mode": {
    "name": "ipython",
    "version": 3
   },
   "file_extension": ".py",
   "mimetype": "text/x-python",
   "name": "python",
   "nbconvert_exporter": "python",
   "pygments_lexer": "ipython3",
   "version": "3.9.0"
  }
 },
 "nbformat": 4,
 "nbformat_minor": 4
}
