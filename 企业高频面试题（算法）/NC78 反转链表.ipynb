{
 "cells": [
  {
   "cell_type": "markdown",
   "metadata": {},
   "source": [
    "函数部分"
   ]
  },
  {
   "cell_type": "code",
   "execution_count": 1,
   "metadata": {},
   "outputs": [],
   "source": [
    "# -*- coding:utf-8 -*-\n",
    "class ListNode:\n",
    "    def __init__(self, x):\n",
    "        self.val = x\n",
    "        self.next = None\n",
    "\n",
    "class Solution:\n",
    "    # 返回ListNode\n",
    "    def ReverseList(self, pHead):\n",
    "        # write code here\n",
    "        if pHead == None:\n",
    "            return None\n",
    "        else:\n",
    "            pre = None\n",
    "            this = pHead\n",
    "            while this.next != None:\n",
    "                next = this.next;\n",
    "                this.next = pre;\n",
    "                pre = this;\n",
    "                this = next;\n",
    "            next = this.next;\n",
    "            this.next = pre;\n",
    "            return this"
   ]
  },
  {
   "cell_type": "markdown",
   "metadata": {},
   "source": [
    "测试部分"
   ]
  },
  {
   "cell_type": "code",
   "execution_count": 2,
   "metadata": {},
   "outputs": [],
   "source": [
    "def print_link(pHead):\n",
    "    while pHead.next != None:\n",
    "        print(pHead)\n",
    "        pHead = pHead.next\n",
    "    print(pHead)"
   ]
  },
  {
   "cell_type": "code",
   "execution_count": 3,
   "metadata": {},
   "outputs": [
    {
     "name": "stdout",
     "output_type": "stream",
     "text": [
      "<__main__.ListNode object at 0x7fecc5e805e0>\n",
      "<__main__.ListNode object at 0x7fecc5e80b50>\n",
      "<__main__.ListNode object at 0x7fecc5e80610>\n"
     ]
    }
   ],
   "source": [
    "# create a new link\n",
    "a = [1,2,3]\n",
    "\n",
    "n0 = ListNode(a[0])\n",
    "n1 = ListNode(a[1])\n",
    "n2 = ListNode(a[2])\n",
    "\n",
    "n0.next = n1\n",
    "n1.next = n2\n",
    "\n",
    "print_link(n0)"
   ]
  },
  {
   "cell_type": "code",
   "execution_count": 4,
   "metadata": {},
   "outputs": [
    {
     "name": "stdout",
     "output_type": "stream",
     "text": [
      "<__main__.ListNode object at 0x7fecc5e80610>\n",
      "<__main__.ListNode object at 0x7fecc5e80b50>\n",
      "<__main__.ListNode object at 0x7fecc5e805e0>\n"
     ]
    }
   ],
   "source": [
    "s = Solution()\n",
    "reverse_n0 = s.ReverseList(n0)\n",
    "\n",
    "print_link(reverse_n0)"
   ]
  }
 ],
 "metadata": {
  "kernelspec": {
   "display_name": "Python 3",
   "language": "python",
   "name": "python3"
  },
  "language_info": {
   "codemirror_mode": {
    "name": "ipython",
    "version": 3
   },
   "file_extension": ".py",
   "mimetype": "text/x-python",
   "name": "python",
   "nbconvert_exporter": "python",
   "pygments_lexer": "ipython3",
   "version": "3.9.0"
  }
 },
 "nbformat": 4,
 "nbformat_minor": 4
}
