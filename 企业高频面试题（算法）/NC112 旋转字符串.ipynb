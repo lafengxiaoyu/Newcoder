{
 "cells": [
  {
   "cell_type": "code",
   "execution_count": 11,
   "metadata": {},
   "outputs": [],
   "source": [
    "#\n",
    "# 旋转字符串\n",
    "# @param A string字符串 \n",
    "# @param B string字符串 \n",
    "# @return bool布尔型\n",
    "#\n",
    "class Solution:\n",
    "    def solve(self , A , B ):\n",
    "        # write code here\n",
    "        if len(A) != len(B):\n",
    "            return False\n",
    "        else:\n",
    "            flag = 0\n",
    "            for i in range(len(A)):\n",
    "                A1 = A[:i]\n",
    "                A2 = A[i:]\n",
    "                if (A2 + A1) == B:\n",
    "                    flag = 1\n",
    "                    return True\n",
    "            if flag == 0:\n",
    "                return False"
   ]
  },
  {
   "cell_type": "code",
   "execution_count": 12,
   "metadata": {},
   "outputs": [],
   "source": [
    "A = \"youzan\"\n",
    "B = \"zanyou\""
   ]
  },
  {
   "cell_type": "code",
   "execution_count": 14,
   "metadata": {},
   "outputs": [],
   "source": [
    "A = \"youzan\"\n",
    "B = \"zyouan\""
   ]
  },
  {
   "cell_type": "code",
   "execution_count": 15,
   "metadata": {},
   "outputs": [
    {
     "data": {
      "text/plain": [
       "False"
      ]
     },
     "execution_count": 15,
     "metadata": {},
     "output_type": "execute_result"
    }
   ],
   "source": [
    "s = Solution()\n",
    "s.solve(A, B)"
   ]
  },
  {
   "cell_type": "code",
   "execution_count": null,
   "metadata": {},
   "outputs": [],
   "source": []
  }
 ],
 "metadata": {
  "kernelspec": {
   "display_name": "Python 3",
   "language": "python",
   "name": "python3"
  },
  "language_info": {
   "codemirror_mode": {
    "name": "ipython",
    "version": 3
   },
   "file_extension": ".py",
   "mimetype": "text/x-python",
   "name": "python",
   "nbconvert_exporter": "python",
   "pygments_lexer": "ipython3",
   "version": "3.9.0"
  }
 },
 "nbformat": 4,
 "nbformat_minor": 4
}
