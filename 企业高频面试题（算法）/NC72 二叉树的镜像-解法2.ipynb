{
 "cells": [
  {
   "cell_type": "code",
   "execution_count": 16,
   "metadata": {},
   "outputs": [],
   "source": [
    "class TreeNode:\n",
    "    def __init__(self, x):\n",
    "        self.val = x\n",
    "        self.left = None\n",
    "        self.right = None\n",
    "\n",
    "\n",
    "def create_tree(t):\n",
    "    if len(t) == 0:\n",
    "        return None\n",
    "    else:\n",
    "        root = TreeNode(t[0])\n",
    "        if len(t) == 1:\n",
    "            return root\n",
    "        else:\n",
    "            list_node = []\n",
    "            list_node.append(root)\n",
    "\n",
    "            # next is a left son\n",
    "            left = 1\n",
    "            for i in range(len(t) - 1):\n",
    "                val = t[i + 1]\n",
    "                # initialize a new node as null node\n",
    "                new_node = None\n",
    "                if val != '#':\n",
    "                    # create this new node\n",
    "                    new_node = TreeNode(val)\n",
    "                    # add it into the node list\n",
    "                    list_node.append(new_node)\n",
    "\n",
    "                if left == 1: # the left son\n",
    "                    # if right, do not need to pop\n",
    "                    parent_node = list_node.pop(0)\n",
    "                    parent_node.left = new_node\n",
    "                    left = 0\n",
    "                else:\n",
    "                    parent_node.right = new_node\n",
    "                    left = 1\n",
    "        return root\n",
    "\n",
    "# 层序遍历\n",
    "def cengxu(root):\n",
    "    list_val = []\n",
    "    if root == None:\n",
    "        return list_val\n",
    "    else:\n",
    "        list_val.append([root.val])\n",
    "\n",
    "        list_node = []\n",
    "        list_node.append(root)\n",
    "\n",
    "        list_node_son = []\n",
    "        new_line = []\n",
    "\n",
    "        while len(list_node) != 0:    \n",
    "\n",
    "            parent_node = list_node.pop(0)\n",
    "            lnode = parent_node.left\n",
    "            rnode = parent_node.right\n",
    "\n",
    "            if lnode != None:\n",
    "                new_line.append(lnode.val)\n",
    "                list_node_son.append(lnode)\n",
    "            if rnode != None:\n",
    "                new_line.append(rnode.val)\n",
    "                list_node_son.append(rnode)\n",
    "\n",
    "            if len(list_node) == 0:\n",
    "                if len(new_line) != 0:\n",
    "                    list_val.append(new_line)\n",
    "                list_node = list_node_son\n",
    "                list_node_son = []\n",
    "                new_line = []\n",
    "\n",
    "\n",
    "    return list_val"
   ]
  },
  {
   "cell_type": "markdown",
   "metadata": {},
   "source": [
    "函数部分：\n",
    "\n",
    "    还是得好好学递归啊。。"
   ]
  },
  {
   "cell_type": "code",
   "execution_count": 4,
   "metadata": {},
   "outputs": [],
   "source": [
    "#\n",
    "# \n",
    "# @param root TreeNode类 the root of binary tree\n",
    "# @return int整型二维数组\n",
    "#\n",
    "class Solution1:\n",
    "    def threeOrders(self , root ):\n",
    "        # write code here\n",
    "        list_val_front = []\n",
    "        list_val_mid = []\n",
    "        list_val_end = []\n",
    "\n",
    "        def front(t):\n",
    "            if t != None:\n",
    "                list_val_front.append(t.val)\n",
    "            if t.left != None:\n",
    "                front(t.left)\n",
    "            if t.right != None:\n",
    "                front(t.right)\n",
    "\n",
    "            return list_val_front\n",
    "\n",
    "        def mid(t):\n",
    "\n",
    "            if t.left != None:\n",
    "                mid(t.left)\n",
    "            if t != None:\n",
    "                list_val_mid.append(t.val)\n",
    "            if t.right != None:\n",
    "                mid(t.right)\n",
    "\n",
    "            return list_val_mid\n",
    "\n",
    "\n",
    "        def end(t):\n",
    "\n",
    "            if t.left != None:\n",
    "                end(t.left)\n",
    "            if t.right != None:\n",
    "                end(t.right)\n",
    "            if t != None:\n",
    "                list_val_end.append(t.val)\n",
    "\n",
    "            return list_val_end\n",
    "        \n",
    "        return[front(root), mid(root), end(root)]"
   ]
  },
  {
   "cell_type": "code",
   "execution_count": 17,
   "metadata": {},
   "outputs": [],
   "source": [
    "class Solution:\n",
    "    def Mirror(self , pRoot ):\n",
    "        # write code here\n",
    "        if pRoot == None or (pRoot.left == None and pRoot.right == None):\n",
    "            return pRoot\n",
    "        else:\n",
    "            pRoot.left, pRoot.right = self.Mirror(pRoot.right), self.Mirror(pRoot.left)\n",
    "            \n",
    "        return pRoot\n",
    "                "
   ]
  },
  {
   "cell_type": "markdown",
   "metadata": {},
   "source": [
    "测试部分："
   ]
  },
  {
   "cell_type": "code",
   "execution_count": 18,
   "metadata": {},
   "outputs": [],
   "source": [
    "t = [8,6,10,5,7,9,11]\n",
    "\n",
    "\n",
    "t = create_tree(t)"
   ]
  },
  {
   "cell_type": "code",
   "execution_count": 19,
   "metadata": {},
   "outputs": [
    {
     "data": {
      "text/plain": [
       "<__main__.TreeNode at 0x7f8cb8a3cdf0>"
      ]
     },
     "execution_count": 19,
     "metadata": {},
     "output_type": "execute_result"
    }
   ],
   "source": [
    "s = Solution()\n",
    "s.Mirror(t)"
   ]
  },
  {
   "cell_type": "code",
   "execution_count": 21,
   "metadata": {},
   "outputs": [
    {
     "data": {
      "text/plain": [
       "[[8], [10, 6], [11, 9, 7, 5]]"
      ]
     },
     "execution_count": 21,
     "metadata": {},
     "output_type": "execute_result"
    }
   ],
   "source": [
    "cengxu(t)"
   ]
  }
 ],
 "metadata": {
  "kernelspec": {
   "display_name": "Python 3",
   "language": "python",
   "name": "python3"
  },
  "language_info": {
   "codemirror_mode": {
    "name": "ipython",
    "version": 3
   },
   "file_extension": ".py",
   "mimetype": "text/x-python",
   "name": "python",
   "nbconvert_exporter": "python",
   "pygments_lexer": "ipython3",
   "version": "3.9.0"
  }
 },
 "nbformat": 4,
 "nbformat_minor": 4
}
