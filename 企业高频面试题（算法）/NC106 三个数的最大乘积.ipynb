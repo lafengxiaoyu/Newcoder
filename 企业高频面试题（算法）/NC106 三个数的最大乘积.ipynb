{
 "cells": [
  {
   "cell_type": "markdown",
   "metadata": {},
   "source": [
    "函数部分"
   ]
  },
  {
   "cell_type": "code",
   "execution_count": 1,
   "metadata": {},
   "outputs": [],
   "source": [
    "#\n",
    "# 最大乘积\n",
    "# @param A int整型一维数组 \n",
    "# @return long长整型\n",
    "#\n",
    "class Solution:\n",
    "    def solve(self , A ):\n",
    "        # write code here\n",
    "        A.sort()\n",
    "        \n",
    "        candidate1 = 0\n",
    "        candidate2 = 0\n",
    "\n",
    "        # we have two negative element\n",
    "        candidate1 = A[0] * A[1] * A[-1]\n",
    "        \n",
    "        # three positive elements\n",
    "        candidate2 = A[-1] * A[-2] * A[-3]\n",
    "        \n",
    "        return max(candidate1, candidate2)"
   ]
  },
  {
   "cell_type": "markdown",
   "metadata": {},
   "source": [
    "测试部分"
   ]
  },
  {
   "cell_type": "code",
   "execution_count": 2,
   "metadata": {},
   "outputs": [],
   "source": [
    "A = [3,4,1,2]"
   ]
  },
  {
   "cell_type": "code",
   "execution_count": 3,
   "metadata": {},
   "outputs": [
    {
     "data": {
      "text/plain": [
       "24"
      ]
     },
     "execution_count": 3,
     "metadata": {},
     "output_type": "execute_result"
    }
   ],
   "source": [
    "s = Solution()\n",
    "s.solve(A)"
   ]
  }
 ],
 "metadata": {
  "kernelspec": {
   "display_name": "Python 3",
   "language": "python",
   "name": "python3"
  },
  "language_info": {
   "codemirror_mode": {
    "name": "ipython",
    "version": 3
   },
   "file_extension": ".py",
   "mimetype": "text/x-python",
   "name": "python",
   "nbconvert_exporter": "python",
   "pygments_lexer": "ipython3",
   "version": "3.9.0"
  }
 },
 "nbformat": 4,
 "nbformat_minor": 4
}
