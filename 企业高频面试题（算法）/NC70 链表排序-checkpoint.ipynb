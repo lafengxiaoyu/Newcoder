{
 "cells": [
  {
   "cell_type": "markdown",
   "metadata": {},
   "source": [
    "函数部分"
   ]
  },
  {
   "cell_type": "code",
   "execution_count": 1,
   "metadata": {},
   "outputs": [],
   "source": [
    "class ListNode:\n",
    "    def __init__(self, x):\n",
    "        self.val = x\n",
    "        self.next = None\n",
    "\n",
    "#\n",
    "# \n",
    "# @param head ListNode类 the head node\n",
    "# @return ListNode类\n",
    "#\n",
    "class Solution:\n",
    "    def sortInList(self , head ):\n",
    "        # write code here\n",
    "        print(\"hehe\")\n",
    "        if head == None or head.next == None:\n",
    "            return head\n",
    "        else:\n",
    "            # get the element of each node\n",
    "            list_element = []\n",
    "            current_node = head\n",
    "            while current_node.next != None:\n",
    "                list_element.append(current_node.val)\n",
    "                current_node = current_node.next\n",
    "            list_element.append(current_node.val)\n",
    "\n",
    "            # sort the elements in the list\n",
    "            list_element.sort()\n",
    "\n",
    "            # re-assign the value to nodes\n",
    "            current_node = head\n",
    "            k = 0\n",
    "            while current_node.next != None:\n",
    "                current_node.val = list_element[k]\n",
    "                current_node = current_node.next\n",
    "                k += 1\n",
    "            current_node.val = list_element[k]\n",
    "\n",
    "            return head"
   ]
  },
  {
   "cell_type": "markdown",
   "metadata": {},
   "source": [
    "测试部分：\n",
    "    这里我偷了点懒，直接用了sort方法。。"
   ]
  },
  {
   "cell_type": "code",
   "execution_count": 2,
   "metadata": {},
   "outputs": [],
   "source": [
    "def print_link(pHead):\n",
    "    while pHead.next != None:\n",
    "        print(pHead,':',pHead.val)\n",
    "        pHead = pHead.next\n",
    "    print(pHead,':',pHead.val)"
   ]
  },
  {
   "cell_type": "code",
   "execution_count": 3,
   "metadata": {},
   "outputs": [],
   "source": [
    "a = [1,3,2,4,5]"
   ]
  },
  {
   "cell_type": "code",
   "execution_count": 4,
   "metadata": {},
   "outputs": [
    {
     "name": "stdout",
     "output_type": "stream",
     "text": [
      "<__main__.ListNode object at 0x7f858d095fd0> : 1\n",
      "<__main__.ListNode object at 0x7f858d0954f0> : 3\n",
      "<__main__.ListNode object at 0x7f858d095f40> : 2\n",
      "<__main__.ListNode object at 0x7f858d095910> : 4\n",
      "<__main__.ListNode object at 0x7f858d095a30> : 5\n"
     ]
    }
   ],
   "source": [
    "head = ListNode(a[0])\n",
    "n1 = ListNode(a[1])\n",
    "n2 = ListNode(a[2])\n",
    "n3 = ListNode(a[3])\n",
    "n4 = ListNode(a[4])\n",
    "\n",
    "head.next = n1\n",
    "n1.next = n2\n",
    "n2.next = n3\n",
    "n3.next = n4\n",
    "\n",
    "print_link(head)"
   ]
  },
  {
   "cell_type": "code",
   "execution_count": 5,
   "metadata": {},
   "outputs": [
    {
     "name": "stdout",
     "output_type": "stream",
     "text": [
      "hehe\n",
      "<__main__.ListNode object at 0x7f858d095fd0> : 1\n",
      "<__main__.ListNode object at 0x7f858d0954f0> : 2\n",
      "<__main__.ListNode object at 0x7f858d095f40> : 3\n",
      "<__main__.ListNode object at 0x7f858d095910> : 4\n",
      "<__main__.ListNode object at 0x7f858d095a30> : 5\n"
     ]
    }
   ],
   "source": [
    "s = Solution()\n",
    "print_link(s.sortInList(head))"
   ]
  }
 ],
 "metadata": {
  "kernelspec": {
   "display_name": "Python 3",
   "language": "python",
   "name": "python3"
  },
  "language_info": {
   "codemirror_mode": {
    "name": "ipython",
    "version": 3
   },
   "file_extension": ".py",
   "mimetype": "text/x-python",
   "name": "python",
   "nbconvert_exporter": "python",
   "pygments_lexer": "ipython3",
   "version": "3.9.0"
  }
 },
 "nbformat": 4,
 "nbformat_minor": 4
}
