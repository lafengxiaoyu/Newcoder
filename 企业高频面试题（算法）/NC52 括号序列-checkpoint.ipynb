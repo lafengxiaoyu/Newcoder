{
 "cells": [
  {
   "cell_type": "markdown",
   "metadata": {},
   "source": [
    "函数部分"
   ]
  },
  {
   "cell_type": "code",
   "execution_count": 1,
   "metadata": {},
   "outputs": [],
   "source": [
    "#\n",
    "# \n",
    "# @param s string字符串 \n",
    "# @return bool布尔型\n",
    "#\n",
    "class Solution:\n",
    "    def isValid(self , s ):\n",
    "        # write code here\n",
    "        stack = []\n",
    "        for c in s:\n",
    "            if c == '(' or c == '[' or c == '{':\n",
    "                stack.append(c)\n",
    "            else:\n",
    "                if c == ')':\n",
    "                    if len(stack) == 0:\n",
    "                        return False\n",
    "                    elif stack[-1] == '(':\n",
    "                        stack.pop()\n",
    "                    else:\n",
    "                        return False\n",
    "                if c == ']':\n",
    "                    if len(stack) == 0:\n",
    "                        return False\n",
    "                    elif stack[-1] == '[':\n",
    "                        stack.pop()\n",
    "                    else:\n",
    "                        return False\n",
    "                if c == '}':\n",
    "                    if len(stack) == 0:\n",
    "                        return False\n",
    "                    elif stack[-1] == '{':\n",
    "                        stack.pop()\n",
    "                    else:\n",
    "                        return False\n",
    "        if len(stack) == 0:\n",
    "            return True\n",
    "        else:\n",
    "            return False"
   ]
  },
  {
   "cell_type": "markdown",
   "metadata": {},
   "source": [
    "测试部分"
   ]
  },
  {
   "cell_type": "code",
   "execution_count": 2,
   "metadata": {},
   "outputs": [],
   "source": [
    "strs = \"]\"\n",
    "\n",
    "s = Solution()\n",
    "s.isValid(strs)"
   ]
  }
 ],
 "metadata": {
  "kernelspec": {
   "display_name": "Python 3",
   "language": "python",
   "name": "python3"
  },
  "language_info": {
   "codemirror_mode": {
    "name": "ipython",
    "version": 3
   },
   "file_extension": ".py",
   "mimetype": "text/x-python",
   "name": "python",
   "nbconvert_exporter": "python",
   "pygments_lexer": "ipython3",
   "version": "3.9.0"
  }
 },
 "nbformat": 4,
 "nbformat_minor": 4
}
