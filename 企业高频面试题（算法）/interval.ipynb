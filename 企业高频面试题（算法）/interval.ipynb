{
 "cells": [
  {
   "cell_type": "code",
   "execution_count": 27,
   "metadata": {},
   "outputs": [],
   "source": [
    "intervals = [[10,30],[20,60],[80,100],[150,180]]"
   ]
  },
  {
   "cell_type": "code",
   "execution_count": 28,
   "metadata": {},
   "outputs": [],
   "source": [
    "class Interval:\n",
    "    def __init__(self, a=0, b=0):\n",
    "        self.start = a\n",
    "        self.end = b\n",
    "\n",
    "#\n",
    "# \n",
    "# @param intervals Interval类一维数组 \n",
    "# @return Interval类一维数组\n",
    "#\n",
    "class Solution:\n",
    "    def merge(self , intervals ):\n",
    "        # write code here\n",
    "        print(\"hehe\")"
   ]
  },
  {
   "cell_type": "code",
   "execution_count": 34,
   "metadata": {},
   "outputs": [],
   "source": [
    "i0 = Interval(intervals[0][0],intervals[0][1])\n",
    "i1 = Interval(intervals[1][0],intervals[1][1])\n",
    "i2 = Interval(intervals[2][0],intervals[2][1])\n",
    "i3 = Interval(intervals[3][0],intervals[3][1])"
   ]
  },
  {
   "cell_type": "code",
   "execution_count": 35,
   "metadata": {},
   "outputs": [],
   "source": [
    "def merge2interval(i1, i2):\n",
    "    if i1.start > i2.end or i2.start > i1.end:\n",
    "        return i1,i2"
   ]
  },
  {
   "cell_type": "code",
   "execution_count": null,
   "metadata": {},
   "outputs": [],
   "source": []
  }
 ],
 "metadata": {
  "kernelspec": {
   "display_name": "Python 3",
   "language": "python",
   "name": "python3"
  },
  "language_info": {
   "codemirror_mode": {
    "name": "ipython",
    "version": 3
   },
   "file_extension": ".py",
   "mimetype": "text/x-python",
   "name": "python",
   "nbconvert_exporter": "python",
   "pygments_lexer": "ipython3",
   "version": "3.9.0"
  }
 },
 "nbformat": 4,
 "nbformat_minor": 4
}
