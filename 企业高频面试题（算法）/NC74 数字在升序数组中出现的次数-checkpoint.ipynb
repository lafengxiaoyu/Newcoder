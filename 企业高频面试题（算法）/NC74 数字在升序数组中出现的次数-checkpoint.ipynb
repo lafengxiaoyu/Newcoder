{
 "cells": [
  {
   "cell_type": "markdown",
   "metadata": {},
   "source": [
    "函数部分"
   ]
  },
  {
   "cell_type": "code",
   "execution_count": 1,
   "metadata": {},
   "outputs": [],
   "source": [
    "# -*- coding:utf-8 -*-\n",
    "class Solution:\n",
    "    def GetNumberOfK(self, data, k):\n",
    "        # write code here\n",
    "        if len(data) == 0 or data[0] > k or data[-1] < k:\n",
    "            return 0\n",
    "        else:\n",
    "            begin = 0\n",
    "            end = len(data) - 1\n",
    "            while (end - begin) > 1:\n",
    "                if data[int((begin + end) / 2)] >= k:\n",
    "                    end = int((begin + end) / 2)\n",
    "                else:\n",
    "                    begin = int((begin + end) / 2)\n",
    "\n",
    "            # get the first index of \"k\"\n",
    "            if data[begin] == k:\n",
    "                first_index = begin\n",
    "            else:\n",
    "                first_index = end\n",
    "            \n",
    "            # calculate the number of \"k\"\n",
    "            total = 0\n",
    "            for i in range(first_index,len(data)):\n",
    "                if data[i] == k:\n",
    "                    total += 1\n",
    "                else:\n",
    "                    break\n",
    "\n",
    "            return total"
   ]
  },
  {
   "cell_type": "markdown",
   "metadata": {},
   "source": [
    "测试部分"
   ]
  },
  {
   "cell_type": "code",
   "execution_count": 2,
   "metadata": {},
   "outputs": [],
   "source": [
    "data = [3,3,3,3,4,5]\n",
    "k = 3"
   ]
  },
  {
   "cell_type": "code",
   "execution_count": 3,
   "metadata": {},
   "outputs": [],
   "source": [
    "data = [1,2,3,3,3,3,4,5]\n",
    "k = 3"
   ]
  },
  {
   "cell_type": "code",
   "execution_count": 4,
   "metadata": {},
   "outputs": [
    {
     "data": {
      "text/plain": [
       "4"
      ]
     },
     "execution_count": 4,
     "metadata": {},
     "output_type": "execute_result"
    }
   ],
   "source": [
    "s = Solution()\n",
    "s.GetNumberOfK(data, k)"
   ]
  }
 ],
 "metadata": {
  "kernelspec": {
   "display_name": "Python 3",
   "language": "python",
   "name": "python3"
  },
  "language_info": {
   "codemirror_mode": {
    "name": "ipython",
    "version": 3
   },
   "file_extension": ".py",
   "mimetype": "text/x-python",
   "name": "python",
   "nbconvert_exporter": "python",
   "pygments_lexer": "ipython3",
   "version": "3.9.0"
  }
 },
 "nbformat": 4,
 "nbformat_minor": 4
}
