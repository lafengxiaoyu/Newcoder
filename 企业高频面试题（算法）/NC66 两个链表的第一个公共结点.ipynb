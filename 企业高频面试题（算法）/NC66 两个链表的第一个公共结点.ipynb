{
 "cells": [
  {
   "cell_type": "markdown",
   "metadata": {},
   "source": [
    "函数部分"
   ]
  },
  {
   "cell_type": "code",
   "execution_count": 1,
   "metadata": {},
   "outputs": [],
   "source": [
    "class ListNode:\n",
    "    def __init__(self, x):\n",
    "        self.val = x\n",
    "        self.next = None\n",
    "\n",
    "#\n",
    "# \n",
    "# @param pHead1 ListNode类 \n",
    "# @param pHead2 ListNode类 \n",
    "# @return ListNode类\n",
    "#\n",
    "class Solution:\n",
    "    def FindFirstCommonNode(self , pHead1 , pHead2 ):\n",
    "        # write code here\n",
    "        if pHead1 == None or pHead2 == None:\n",
    "            return None\n",
    "        \n",
    "        c1 = pHead1\n",
    "        nodes1 = []\n",
    "        while c1.next != None:\n",
    "            nodes1.append(c1)\n",
    "            c1 = c1.next\n",
    "        nodes1.append(c1)\n",
    "\n",
    "        c2 = pHead2\n",
    "        nodes2 = []\n",
    "        while c2.next != None:\n",
    "            nodes2.append(c2)\n",
    "            c2 = c2.next\n",
    "        nodes2.append(c2)\n",
    "        \n",
    "        for node1 in nodes1:\n",
    "            for node2 in nodes2:\n",
    "                if node1 == node2:\n",
    "                    return node1"
   ]
  },
  {
   "cell_type": "markdown",
   "metadata": {},
   "source": [
    "测试部分：\n",
    "    就简单的遍历了一遍储存起来再对比就完了"
   ]
  },
  {
   "cell_type": "code",
   "execution_count": 2,
   "metadata": {},
   "outputs": [],
   "source": [
    "def print_link(pHead):\n",
    "    while pHead.next != None:\n",
    "        print(pHead,\":\",pHead.val)\n",
    "        pHead = pHead.next\n",
    "    print(pHead,\":\",pHead.val)"
   ]
  },
  {
   "cell_type": "code",
   "execution_count": 3,
   "metadata": {},
   "outputs": [],
   "source": [
    "a = [1,2,3,4]"
   ]
  },
  {
   "cell_type": "code",
   "execution_count": 4,
   "metadata": {},
   "outputs": [],
   "source": [
    "pHead1 = ListNode(a[0])\n",
    "\n",
    "pHead2 = ListNode(a[0])\n",
    "n1 = ListNode(a[1])\n",
    "pHead2.next = n1\n",
    "\n",
    "n_common = ListNode(a[2])\n",
    "n_common1 = ListNode(a[3])\n",
    "\n",
    "pHead1.next = n_common\n",
    "n1.next = n_common\n",
    "\n",
    "n_common.next = n_common1"
   ]
  },
  {
   "cell_type": "code",
   "execution_count": 5,
   "metadata": {},
   "outputs": [
    {
     "name": "stdout",
     "output_type": "stream",
     "text": [
      "<__main__.ListNode object at 0x7f82aa672970> : 1\n",
      "<__main__.ListNode object at 0x7f82aa6721c0> : 3\n",
      "<__main__.ListNode object at 0x7f82aa6720a0> : 4\n"
     ]
    }
   ],
   "source": [
    "print_link(pHead1)"
   ]
  },
  {
   "cell_type": "code",
   "execution_count": 6,
   "metadata": {},
   "outputs": [
    {
     "name": "stdout",
     "output_type": "stream",
     "text": [
      "<__main__.ListNode object at 0x7f82aa6720d0> : 1\n",
      "<__main__.ListNode object at 0x7f82aa672a90> : 2\n",
      "<__main__.ListNode object at 0x7f82aa6721c0> : 3\n",
      "<__main__.ListNode object at 0x7f82aa6720a0> : 4\n"
     ]
    }
   ],
   "source": [
    "print_link(pHead2)"
   ]
  },
  {
   "cell_type": "code",
   "execution_count": 7,
   "metadata": {},
   "outputs": [
    {
     "data": {
      "text/plain": [
       "<__main__.ListNode at 0x7f82aa6721c0>"
      ]
     },
     "execution_count": 7,
     "metadata": {},
     "output_type": "execute_result"
    }
   ],
   "source": [
    "s = Solution()\n",
    "s.FindFirstCommonNode(pHead1, pHead2)"
   ]
  }
 ],
 "metadata": {
  "kernelspec": {
   "display_name": "Python 3",
   "language": "python",
   "name": "python3"
  },
  "language_info": {
   "codemirror_mode": {
    "name": "ipython",
    "version": 3
   },
   "file_extension": ".py",
   "mimetype": "text/x-python",
   "name": "python",
   "nbconvert_exporter": "python",
   "pygments_lexer": "ipython3",
   "version": "3.9.0"
  }
 },
 "nbformat": 4,
 "nbformat_minor": 4
}
