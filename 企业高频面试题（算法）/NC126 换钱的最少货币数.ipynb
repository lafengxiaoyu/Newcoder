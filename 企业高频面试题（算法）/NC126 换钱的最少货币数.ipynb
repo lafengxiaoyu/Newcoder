{
 "cells": [
  {
   "cell_type": "markdown",
   "metadata": {},
   "source": [
    "函数部分：\n",
    "\n",
    "    总感觉哪里做复杂了。。"
   ]
  },
  {
   "cell_type": "code",
   "execution_count": 1,
   "metadata": {},
   "outputs": [],
   "source": [
    "#\n",
    "# 最少货币数\n",
    "# @param arr int整型一维数组 the array\n",
    "# @param aim int整型 the target\n",
    "# @return int整型\n",
    "#\n",
    "class Solution:\n",
    "    def minMoney(self , arr , aim ):\n",
    "        # write code here\n",
    "        \n",
    "        list_count = [0]\n",
    "\n",
    "        for i in range(1, aim + 1):\n",
    "            if i in arr:\n",
    "                list_count.append(1)\n",
    "\n",
    "            else:\n",
    "                aim_last = [(i - a) for a in arr]\n",
    "                \n",
    "                if max(aim_last) < 0:\n",
    "                    list_count.append(-1)\n",
    "                \n",
    "                else:        \n",
    "                    c_list = []\n",
    "                    for a in aim_last:\n",
    "                        # remove the negative values in aim_last\n",
    "                        if a > 0:\n",
    "                            if list_count[a] > 0:\n",
    "                                c_list.append(list_count[a])\n",
    "                    if len(c_list) != 0:\n",
    "                        list_count.append(min(c_list) + 1)\n",
    "                    else:\n",
    "                        list_count.append(-1)\n",
    "\n",
    "        return list_count[-1]"
   ]
  },
  {
   "cell_type": "markdown",
   "metadata": {},
   "source": [
    "测试部分"
   ]
  },
  {
   "cell_type": "code",
   "execution_count": 2,
   "metadata": {},
   "outputs": [],
   "source": [
    "arr = [2000,2,3]\n",
    "aim = 5000"
   ]
  },
  {
   "cell_type": "code",
   "execution_count": 3,
   "metadata": {},
   "outputs": [
    {
     "data": {
      "text/plain": [
       "336"
      ]
     },
     "execution_count": 3,
     "metadata": {},
     "output_type": "execute_result"
    }
   ],
   "source": [
    "s = Solution()\n",
    "s.minMoney(arr, aim)"
   ]
  },
  {
   "cell_type": "code",
   "execution_count": 4,
   "metadata": {},
   "outputs": [],
   "source": [
    "arr = [3, 5]\n",
    "aim = 2"
   ]
  },
  {
   "cell_type": "code",
   "execution_count": 5,
   "metadata": {},
   "outputs": [
    {
     "data": {
      "text/plain": [
       "-1"
      ]
     },
     "execution_count": 5,
     "metadata": {},
     "output_type": "execute_result"
    }
   ],
   "source": [
    "s = Solution()\n",
    "s.minMoney(arr, aim)"
   ]
  },
  {
   "cell_type": "code",
   "execution_count": 6,
   "metadata": {},
   "outputs": [
    {
     "data": {
      "text/plain": [
       "1000"
      ]
     },
     "execution_count": 6,
     "metadata": {},
     "output_type": "execute_result"
    }
   ],
   "source": [
    "arr = [5,2,3]\n",
    "aim = 5000\n",
    "\n",
    "s = Solution()\n",
    "s.minMoney(arr, aim)"
   ]
  }
 ],
 "metadata": {
  "kernelspec": {
   "display_name": "Python 3",
   "language": "python",
   "name": "python3"
  },
  "language_info": {
   "codemirror_mode": {
    "name": "ipython",
    "version": 3
   },
   "file_extension": ".py",
   "mimetype": "text/x-python",
   "name": "python",
   "nbconvert_exporter": "python",
   "pygments_lexer": "ipython3",
   "version": "3.9.0"
  }
 },
 "nbformat": 4,
 "nbformat_minor": 4
}
