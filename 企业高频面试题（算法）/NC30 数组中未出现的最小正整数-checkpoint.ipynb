{
 "cells": [
  {
   "cell_type": "markdown",
   "metadata": {},
   "source": [
    "函数部分"
   ]
  },
  {
   "cell_type": "code",
   "execution_count": 1,
   "metadata": {},
   "outputs": [],
   "source": [
    "#\n",
    "# return the min number\n",
    "# @param arr int整型一维数组 the array\n",
    "# @return int整型\n",
    "#\n",
    "class Solution:\n",
    "    def minNumberdisappered(self , arr ):\n",
    "        # write code here\n",
    "        mina = 1\n",
    "        while mina in arr:\n",
    "            mina += 1\n",
    "        return mina"
   ]
  },
  {
   "cell_type": "markdown",
   "metadata": {},
   "source": [
    "测试部分：\n",
    "\n",
    "用 python的in函数就可以"
   ]
  },
  {
   "cell_type": "code",
   "execution_count": 2,
   "metadata": {},
   "outputs": [],
   "source": [
    "arr = [-1, 2, 3, 4]"
   ]
  },
  {
   "cell_type": "code",
   "execution_count": 3,
   "metadata": {},
   "outputs": [],
   "source": [
    "arr = [1, 2, 3, 4]"
   ]
  },
  {
   "cell_type": "code",
   "execution_count": 4,
   "metadata": {},
   "outputs": [
    {
     "data": {
      "text/plain": [
       "5"
      ]
     },
     "execution_count": 4,
     "metadata": {},
     "output_type": "execute_result"
    }
   ],
   "source": [
    "s = Solution()\n",
    "s.minNumberdisappered(arr)"
   ]
  }
 ],
 "metadata": {
  "kernelspec": {
   "display_name": "Python 3",
   "language": "python",
   "name": "python3"
  },
  "language_info": {
   "codemirror_mode": {
    "name": "ipython",
    "version": 3
   },
   "file_extension": ".py",
   "mimetype": "text/x-python",
   "name": "python",
   "nbconvert_exporter": "python",
   "pygments_lexer": "ipython3",
   "version": "3.9.0"
  }
 },
 "nbformat": 4,
 "nbformat_minor": 4
}
