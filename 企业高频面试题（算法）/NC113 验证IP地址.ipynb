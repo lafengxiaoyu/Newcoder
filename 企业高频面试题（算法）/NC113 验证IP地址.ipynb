{
 "cells": [
  {
   "cell_type": "markdown",
   "metadata": {},
   "source": [
    "函数部分"
   ]
  },
  {
   "cell_type": "code",
   "execution_count": 1,
   "metadata": {},
   "outputs": [],
   "source": [
    "#\n",
    "# 验证IP地址\n",
    "# @param IP string字符串 一个IP地址字符串\n",
    "# @return string字符串\n",
    "#\n",
    "class Solution:\n",
    "    def solve(self , IP ):\n",
    "        # write code here\n",
    "        if len(IP.split('.')) == 4:\n",
    "            flag = True\n",
    "            for a in IP.split('.'):\n",
    "                if a[0] == '0':\n",
    "                    flag = False\n",
    "                    break\n",
    "                else:\n",
    "                    numbera = int(a)\n",
    "                    if numbera > 255:\n",
    "                        flag = False\n",
    "                        break\n",
    "            if flag:\n",
    "                return \"IPv4\"\n",
    "            else:\n",
    "                return \"Neither\"\n",
    "        elif len(IP.split(':')) == 8:\n",
    "            flag = True\n",
    "            for a in IP.split(':'):\n",
    "                if len(a) > 4 or len(a) == 0:\n",
    "                    flag = False\n",
    "                    break\n",
    "                else:\n",
    "                    for e in a:\n",
    "                        if (e >= 'a' and e <= 'z') or (e >= 'A' and e <= 'Z') or (e >= '0' and e <= '9'):\n",
    "                            pass\n",
    "                        else:\n",
    "                            flag = False\n",
    "                            break\n",
    "            if flag:\n",
    "                return \"IPv6\"\n",
    "            else:\n",
    "                return \"Neither\"\n",
    "        else:\n",
    "            return 'Neither'"
   ]
  },
  {
   "cell_type": "markdown",
   "metadata": {},
   "source": [
    "测试部分"
   ]
  },
  {
   "cell_type": "code",
   "execution_count": 2,
   "metadata": {},
   "outputs": [],
   "source": [
    "IP = '172.16.254.1'"
   ]
  },
  {
   "cell_type": "code",
   "execution_count": 3,
   "metadata": {},
   "outputs": [],
   "source": [
    "IP = \"2001:0db8:85a3:0:0:8A2E:0370:7334\""
   ]
  },
  {
   "cell_type": "code",
   "execution_count": 4,
   "metadata": {},
   "outputs": [
    {
     "data": {
      "text/plain": [
       "'IPv6'"
      ]
     },
     "execution_count": 4,
     "metadata": {},
     "output_type": "execute_result"
    }
   ],
   "source": [
    "s = Solution()\n",
    "s.solve(IP)"
   ]
  }
 ],
 "metadata": {
  "kernelspec": {
   "display_name": "Python 3",
   "language": "python",
   "name": "python3"
  },
  "language_info": {
   "codemirror_mode": {
    "name": "ipython",
    "version": 3
   },
   "file_extension": ".py",
   "mimetype": "text/x-python",
   "name": "python",
   "nbconvert_exporter": "python",
   "pygments_lexer": "ipython3",
   "version": "3.9.0"
  }
 },
 "nbformat": 4,
 "nbformat_minor": 4
}
