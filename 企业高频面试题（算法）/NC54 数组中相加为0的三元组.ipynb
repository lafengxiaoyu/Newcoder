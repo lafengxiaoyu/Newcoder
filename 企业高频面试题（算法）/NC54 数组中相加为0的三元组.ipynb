{
 "cells": [
  {
   "cell_type": "markdown",
   "metadata": {},
   "source": [
    "函数部分：\n",
    "\n",
    "    简直是废了老鼻子劲了，需要注意两点\n",
    "    1. 浅拷贝数组\n",
    "    2. 一开始就排序确保后面的输出结果没问题\n",
    "    3. 直接上$O(n^3)$会过不了"
   ]
  },
  {
   "cell_type": "code",
   "execution_count": 1,
   "metadata": {},
   "outputs": [],
   "source": [
    "#\n",
    "# \n",
    "# @param num int整型一维数组 \n",
    "# @return int整型二维数组\n",
    "#\n",
    "class Solution:\n",
    "    def threeSum(self , num ):\n",
    "        # write code here\n",
    "        \n",
    "        num.sort()\n",
    "        \n",
    "        list_all = []\n",
    "\n",
    "        for i in range(len(num)):       \n",
    "            list_i = list(range(i)) + list(range(i+1, len(num)))\n",
    "            for j in list_i:\n",
    "                a, b = num[i], num[j]\n",
    "                if a <= b and (2 * b + a) <= 0:\n",
    "                    c = - a - b\n",
    "                    \n",
    "                    new_num = num.copy()\n",
    "                    new_num.remove(a)\n",
    "                    new_num.remove(b)\n",
    "\n",
    "                    if c in new_num:\n",
    "                        if [a, b, c] not in list_all:\n",
    "                            list_all.append([a, b, c])\n",
    "        return list_all"
   ]
  },
  {
   "cell_type": "markdown",
   "metadata": {},
   "source": [
    "测试部分"
   ]
  },
  {
   "cell_type": "code",
   "execution_count": 2,
   "metadata": {},
   "outputs": [],
   "source": [
    "num = [-1,1,0]"
   ]
  },
  {
   "cell_type": "code",
   "execution_count": 3,
   "metadata": {},
   "outputs": [],
   "source": [
    "num = [0,0]"
   ]
  },
  {
   "cell_type": "code",
   "execution_count": 4,
   "metadata": {},
   "outputs": [],
   "source": [
    "num = [0,-1,1]"
   ]
  },
  {
   "cell_type": "code",
   "execution_count": 5,
   "metadata": {},
   "outputs": [],
   "source": [
    "num = [-1,0,1,2,-1,-4]"
   ]
  },
  {
   "cell_type": "code",
   "execution_count": 6,
   "metadata": {},
   "outputs": [
    {
     "data": {
      "text/plain": [
       "[[-1, -1, 2], [-1, 0, 1]]"
      ]
     },
     "execution_count": 6,
     "metadata": {},
     "output_type": "execute_result"
    }
   ],
   "source": [
    "s = Solution()\n",
    "s.threeSum(num)"
   ]
  },
  {
   "cell_type": "code",
   "execution_count": null,
   "metadata": {},
   "outputs": [],
   "source": []
  }
 ],
 "metadata": {
  "kernelspec": {
   "display_name": "Python 3",
   "language": "python",
   "name": "python3"
  },
  "language_info": {
   "codemirror_mode": {
    "name": "ipython",
    "version": 3
   },
   "file_extension": ".py",
   "mimetype": "text/x-python",
   "name": "python",
   "nbconvert_exporter": "python",
   "pygments_lexer": "ipython3",
   "version": "3.9.0"
  }
 },
 "nbformat": 4,
 "nbformat_minor": 4
}
