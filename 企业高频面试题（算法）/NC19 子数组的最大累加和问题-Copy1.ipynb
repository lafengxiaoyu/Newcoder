{
 "cells": [
  {
   "cell_type": "markdown",
   "metadata": {},
   "source": [
    "函数部分：\n",
    "\n",
    "    看来$O(n^2)$过不了啊，最终还是通过牛客网的解题思路过的。"
   ]
  },
  {
   "cell_type": "code",
   "execution_count": 1,
   "metadata": {},
   "outputs": [],
   "source": [
    "#\n",
    "# max length of the subarray sum = k\n",
    "# @param arr int整型一维数组 the array\n",
    "# @param k int整型 target\n",
    "# @return int整型\n",
    "#\n",
    "class Solution:\n",
    "    def maxlenEqualK(self , arr , k ):\n",
    "        # write code here\n",
    "        max_length = -1\n",
    "        for i in range(len(arr)):\n",
    "            for j in range(i+1, len(arr) + 1):\n",
    "                if sum(arr[i:j]) == k:\n",
    "                    if j - i > max_length:\n",
    "                        max_length = j - i\n",
    "        return max_length"
   ]
  },
  {
   "cell_type": "code",
   "execution_count": 19,
   "metadata": {},
   "outputs": [],
   "source": [
    "#\n",
    "# max length of the subarray sum = k\n",
    "# @param arr int整型一维数组 the array\n",
    "# @param k int整型 target\n",
    "# @return int整型\n",
    "#\n",
    "class Solution:\n",
    "    def maxlenEqualK(self , arr , k ):\n",
    "        # write code here\n",
    "        list_sum = []\n",
    "\n",
    "\n",
    "        sum_from_begin = 0\n",
    "        for i in range(len(arr)):\n",
    "            sum_from_begin += arr[i]\n",
    "            list_sum.append(sum_from_begin)\n",
    "\n",
    "        max_length = -1\n",
    "        for i in range(len(arr) - 1):\n",
    "            for j in range(i+1, len(arr)):\n",
    "                if (list_sum[j] - list_sum[i] == k) and (j - i > max_length):\n",
    "                    max_length = j - i\n",
    "        return max_length"
   ]
  },
  {
   "cell_type": "markdown",
   "metadata": {},
   "source": [
    "测试部分"
   ]
  },
  {
   "cell_type": "code",
   "execution_count": 20,
   "metadata": {},
   "outputs": [],
   "source": [
    "arr = [1,-2,1,1,1]\n",
    "k = 0"
   ]
  },
  {
   "cell_type": "code",
   "execution_count": 21,
   "metadata": {},
   "outputs": [
    {
     "data": {
      "text/plain": [
       "3"
      ]
     },
     "execution_count": 21,
     "metadata": {},
     "output_type": "execute_result"
    }
   ],
   "source": [
    "s = Solution()\n",
    "s.maxlenEqualK(arr, k)"
   ]
  },
  {
   "cell_type": "code",
   "execution_count": 15,
   "metadata": {},
   "outputs": [],
   "source": [
    "arr = [1,-2,1,1,1]\n",
    "k = 0"
   ]
  },
  {
   "cell_type": "code",
   "execution_count": 9,
   "metadata": {},
   "outputs": [],
   "source": [
    "def maxlenEqualK(arr , k ):\n",
    "    # write code here\n",
    "    list_sum = []\n",
    "    \n",
    "    \n",
    "    sum_from_begin = 0\n",
    "    for i in range(len(arr)):\n",
    "        sum_from_begin += arr[i]\n",
    "        list_sum.append(sum_from_begin)\n",
    "    \n",
    "    max_length = -1\n",
    "    for i in range(len(arr)):\n",
    "        for j in range(i+1, len(arr) + 1):\n",
    "            if (list_sum[j] - list_sum[i] == k) and (j - i > max_length):\n",
    "                max_length = j - i\n",
    "    return max_length\n",
    "        "
   ]
  },
  {
   "cell_type": "code",
   "execution_count": 11,
   "metadata": {},
   "outputs": [
    {
     "name": "stdout",
     "output_type": "stream",
     "text": [
      "[1, -1, 0, 1, 2]\n"
     ]
    },
    {
     "data": {
      "text/plain": [
       "0"
      ]
     },
     "execution_count": 11,
     "metadata": {},
     "output_type": "execute_result"
    }
   ],
   "source": [
    "maxlenEqualK( arr , k )"
   ]
  },
  {
   "cell_type": "code",
   "execution_count": null,
   "metadata": {},
   "outputs": [],
   "source": []
  },
  {
   "cell_type": "code",
   "execution_count": null,
   "metadata": {},
   "outputs": [],
   "source": []
  }
 ],
 "metadata": {
  "kernelspec": {
   "display_name": "Python 3",
   "language": "python",
   "name": "python3"
  },
  "language_info": {
   "codemirror_mode": {
    "name": "ipython",
    "version": 3
   },
   "file_extension": ".py",
   "mimetype": "text/x-python",
   "name": "python",
   "nbconvert_exporter": "python",
   "pygments_lexer": "ipython3",
   "version": "3.9.0"
  }
 },
 "nbformat": 4,
 "nbformat_minor": 4
}
