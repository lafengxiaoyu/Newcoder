{
 "cells": [
  {
   "cell_type": "code",
   "execution_count": 13,
   "metadata": {},
   "outputs": [],
   "source": [
    "def create_tree(t):\n",
    "    if len(t) == 0:\n",
    "        return None\n",
    "    else:\n",
    "        root = TreeNode(t[0])\n",
    "        if len(t) == 1:\n",
    "            return root\n",
    "        else:\n",
    "            list_node = []\n",
    "            list_node.append(root)\n",
    "\n",
    "            # next is a left son\n",
    "            left = 1\n",
    "            for i in range(len(t) - 1):\n",
    "                val = t[i + 1]\n",
    "                # initialize a new node as null node\n",
    "                new_node = None\n",
    "                if val != '#':\n",
    "                    # create this new node\n",
    "                    new_node = TreeNode(val)\n",
    "                    # add it into the node list\n",
    "                    list_node.append(new_node)\n",
    "\n",
    "                if left == 1: # the left son\n",
    "                    # if right, do not need to pop\n",
    "                    parent_node = list_node.pop(0)\n",
    "                    parent_node.left = new_node\n",
    "                    left = 0\n",
    "                else:\n",
    "                    parent_node.right = new_node\n",
    "                    left = 1\n",
    "        return root"
   ]
  },
  {
   "cell_type": "code",
   "execution_count": 14,
   "metadata": {},
   "outputs": [],
   "source": [
    "def cengxu_tree(t):\n",
    "    list_val = []\n",
    "    if t == None:\n",
    "        return list_val\n",
    "    else:\n",
    "        list_val.append(t.val)\n",
    "        \n",
    "        list_node = []\n",
    "        list_node.append(t)\n",
    "\n",
    "        while len(list_node) != 0:\n",
    "            parent_node = list_node.pop(0)\n",
    "            lnode = parent_node.left\n",
    "            rnode = parent_node.right\n",
    "            \n",
    "            if lnode != None:\n",
    "                list_val.append(lnode.val)\n",
    "                list_node.append(lnode)\n",
    "            else:\n",
    "                list_val.append('#')\n",
    "            if rnode != None:\n",
    "                list_val.append(rnode.val)\n",
    "                list_node.append(rnode)\n",
    "            else:\n",
    "                list_val.append('#')\n",
    "    return list_val"
   ]
  },
  {
   "cell_type": "markdown",
   "metadata": {},
   "source": [
    "函数部分:\n",
    "    还是得学会递归"
   ]
  },
  {
   "cell_type": "code",
   "execution_count": 15,
   "metadata": {},
   "outputs": [],
   "source": [
    "class TreeNode:\n",
    "    def __init__(self, x):\n",
    "        self.val = x\n",
    "        self.left = None\n",
    "        self.right = None\n",
    "\n",
    "#\n",
    "# \n",
    "# @param root TreeNode类 \n",
    "# @return int整型\n",
    "#\n",
    "class Solution:\n",
    "    def maxDepth(self , root ):\n",
    "        # write code here\n",
    "        if root == None:\n",
    "            return 0\n",
    "        elif root.left == None and root.right == None:\n",
    "            return 1\n",
    "        \n",
    "        lenleft = self.maxDepth(root.left)\n",
    "        lenright = self.maxDepth(root.right)\n",
    "        \n",
    "        return max(lenleft, lenright) + 1"
   ]
  },
  {
   "cell_type": "markdown",
   "metadata": {},
   "source": [
    "测试部分：\n",
    "    树和递归"
   ]
  },
  {
   "cell_type": "code",
   "execution_count": 16,
   "metadata": {},
   "outputs": [],
   "source": [
    "t1 = [1,3,2,5]"
   ]
  },
  {
   "cell_type": "code",
   "execution_count": 17,
   "metadata": {},
   "outputs": [],
   "source": [
    "t1 = create_tree(t1)"
   ]
  },
  {
   "cell_type": "code",
   "execution_count": 19,
   "metadata": {},
   "outputs": [
    {
     "data": {
      "text/plain": [
       "3"
      ]
     },
     "execution_count": 19,
     "metadata": {},
     "output_type": "execute_result"
    }
   ],
   "source": [
    "s = Solution()\n",
    "s.maxDepth(t1)"
   ]
  }
 ],
 "metadata": {
  "kernelspec": {
   "display_name": "Python 3",
   "language": "python",
   "name": "python3"
  },
  "language_info": {
   "codemirror_mode": {
    "name": "ipython",
    "version": 3
   },
   "file_extension": ".py",
   "mimetype": "text/x-python",
   "name": "python",
   "nbconvert_exporter": "python",
   "pygments_lexer": "ipython3",
   "version": "3.9.0"
  }
 },
 "nbformat": 4,
 "nbformat_minor": 4
}
