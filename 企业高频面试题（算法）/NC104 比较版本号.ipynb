{
 "cells": [
  {
   "cell_type": "markdown",
   "metadata": {},
   "source": [
    "函数部分:\n",
    "\n",
    "    就是个翻译工程"
   ]
  },
  {
   "cell_type": "code",
   "execution_count": 1,
   "metadata": {},
   "outputs": [],
   "source": [
    "#\n",
    "# 比较版本号\n",
    "# @param version1 string字符串 \n",
    "# @param version2 string字符串 \n",
    "# @return int整型\n",
    "#\n",
    "class Solution:\n",
    "    def compare(self , version1 , version2 ):\n",
    "        # write code here\n",
    "        v1 = version1.split('.')\n",
    "        v2 = version2.split('.')\n",
    "        \n",
    "        if len(v1) == len(v2):\n",
    "            flag = 0\n",
    "            for i in range(len(v1)):\n",
    "                value1 = int(v1[i])\n",
    "                value2 = int(v2[i])\n",
    "                if value1 < value2:\n",
    "                    flag = -1\n",
    "                    break\n",
    "                elif value2 < value1:\n",
    "                    flag = 1\n",
    "                    break\n",
    "\n",
    "            return flag\n",
    "        \n",
    "        elif len(v1) > len(v2):\n",
    "            flag = 0\n",
    "            for i in range(len(v2)):\n",
    "                value1 = int(v1[i])\n",
    "                value2 = int(v2[i])\n",
    "                if value1 < value2:\n",
    "                    flag = -1\n",
    "                    break\n",
    "                elif value2 < value1:\n",
    "                    flag = 1\n",
    "                    break\n",
    "            \n",
    "            if flag == 0:\n",
    "                flag = 1\n",
    "            return flag\n",
    "        \n",
    "        else:\n",
    "            flag = 0\n",
    "            for i in range(len(v1)):\n",
    "                value1 = int(v1[i])\n",
    "                value2 = int(v2[i])\n",
    "                if value1 < value2:\n",
    "                    flag = -1\n",
    "                    break\n",
    "                elif value2 < value1:\n",
    "                    flag = 1\n",
    "                    break\n",
    "            \n",
    "            if flag == 0:\n",
    "                flag = -1\n",
    "            return flag"
   ]
  },
  {
   "cell_type": "markdown",
   "metadata": {},
   "source": [
    "测试部分"
   ]
  },
  {
   "cell_type": "code",
   "execution_count": 2,
   "metadata": {},
   "outputs": [],
   "source": [
    "version1 = \"50.52.145.192\"\n",
    "version2 = \"185.223.215.112.122\""
   ]
  },
  {
   "cell_type": "code",
   "execution_count": 3,
   "metadata": {},
   "outputs": [
    {
     "data": {
      "text/plain": [
       "-1"
      ]
     },
     "execution_count": 3,
     "metadata": {},
     "output_type": "execute_result"
    }
   ],
   "source": [
    "s = Solution()\n",
    "s.compare(version1, version2)"
   ]
  }
 ],
 "metadata": {
  "kernelspec": {
   "display_name": "Python 3",
   "language": "python",
   "name": "python3"
  },
  "language_info": {
   "codemirror_mode": {
    "name": "ipython",
    "version": 3
   },
   "file_extension": ".py",
   "mimetype": "text/x-python",
   "name": "python",
   "nbconvert_exporter": "python",
   "pygments_lexer": "ipython3",
   "version": "3.9.0"
  }
 },
 "nbformat": 4,
 "nbformat_minor": 4
}
