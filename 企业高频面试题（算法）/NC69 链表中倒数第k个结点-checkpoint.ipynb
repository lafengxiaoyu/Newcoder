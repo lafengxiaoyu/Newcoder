{
 "cells": [
  {
   "cell_type": "markdown",
   "metadata": {},
   "source": [
    "函数部分"
   ]
  },
  {
   "cell_type": "code",
   "execution_count": 1,
   "metadata": {},
   "outputs": [],
   "source": [
    "# -*- coding:utf-8 -*-\n",
    "class ListNode:\n",
    "    def __init__(self, x):\n",
    "        self.val = x\n",
    "        self.next = None\n",
    "\n",
    "class Solution:\n",
    "    def FindKthToTail(self, head, k):\n",
    "        if head == None:\n",
    "            return None\n",
    "        # write code here\n",
    "        l = 0\n",
    "        current = head\n",
    "        \n",
    "        # calculate the l of array\n",
    "        while current.next != None:\n",
    "            current = current.next\n",
    "            l += 1\n",
    "        l += 1\n",
    "        \n",
    "        begin = l - k\n",
    "        if l < k:\n",
    "            return None\n",
    "        else:\n",
    "            current = head\n",
    "            for i in range(l-k):\n",
    "                current = current.next\n",
    "\n",
    "            return current"
   ]
  },
  {
   "cell_type": "markdown",
   "metadata": {},
   "source": [
    "测试部分：\n",
    "    这个题坚决不能反向链表"
   ]
  },
  {
   "cell_type": "code",
   "execution_count": 2,
   "metadata": {},
   "outputs": [],
   "source": [
    "def print_link(pHead):\n",
    "    while pHead.next != None:\n",
    "        print(pHead,\":\",pHead.val)\n",
    "        pHead = pHead.next\n",
    "    print(pHead,\":\",pHead.val)"
   ]
  },
  {
   "cell_type": "code",
   "execution_count": 3,
   "metadata": {},
   "outputs": [],
   "source": [
    "a = [1,2,3,4,5]"
   ]
  },
  {
   "cell_type": "code",
   "execution_count": 4,
   "metadata": {},
   "outputs": [],
   "source": [
    "pHead = ListNode(a[0])\n",
    "n1 = ListNode(a[1])\n",
    "n2 = ListNode(a[2])\n",
    "n3 = ListNode(a[3])\n",
    "n4 = ListNode(a[4])\n",
    "\n",
    "pHead.next = n1\n",
    "n1.next = n2\n",
    "n2.next = n3\n",
    "n3.next = n4"
   ]
  },
  {
   "cell_type": "code",
   "execution_count": 5,
   "metadata": {},
   "outputs": [
    {
     "name": "stdout",
     "output_type": "stream",
     "text": [
      "<__main__.ListNode object at 0x7fa07ff6a7f0> : 1\n",
      "<__main__.ListNode object at 0x7fa07ff6abe0> : 2\n",
      "<__main__.ListNode object at 0x7fa07ff6a550> : 3\n",
      "<__main__.ListNode object at 0x7fa07ff6a4f0> : 4\n",
      "<__main__.ListNode object at 0x7fa07ff6a490> : 5\n"
     ]
    }
   ],
   "source": [
    "print_link(pHead)"
   ]
  },
  {
   "cell_type": "code",
   "execution_count": 6,
   "metadata": {},
   "outputs": [],
   "source": [
    "k = 5\n",
    "head = pHead"
   ]
  },
  {
   "cell_type": "code",
   "execution_count": 7,
   "metadata": {},
   "outputs": [
    {
     "name": "stdout",
     "output_type": "stream",
     "text": [
      "<__main__.ListNode object at 0x7fa07ff6a7f0> : 1\n",
      "<__main__.ListNode object at 0x7fa07ff6abe0> : 2\n",
      "<__main__.ListNode object at 0x7fa07ff6a550> : 3\n",
      "<__main__.ListNode object at 0x7fa07ff6a4f0> : 4\n",
      "<__main__.ListNode object at 0x7fa07ff6a490> : 5\n"
     ]
    }
   ],
   "source": [
    "s = Solution()\n",
    "print_link(s.FindKthToTail(head, k))"
   ]
  },
  {
   "cell_type": "code",
   "execution_count": null,
   "metadata": {},
   "outputs": [],
   "source": []
  }
 ],
 "metadata": {
  "kernelspec": {
   "display_name": "Python 3",
   "language": "python",
   "name": "python3"
  },
  "language_info": {
   "codemirror_mode": {
    "name": "ipython",
    "version": 3
   },
   "file_extension": ".py",
   "mimetype": "text/x-python",
   "name": "python",
   "nbconvert_exporter": "python",
   "pygments_lexer": "ipython3",
   "version": "3.9.0"
  }
 },
 "nbformat": 4,
 "nbformat_minor": 4
}
