{
 "cells": [
  {
   "cell_type": "code",
   "execution_count": 1,
   "metadata": {},
   "outputs": [],
   "source": [
    "def create_tree(t):\n",
    "    if len(t) == 0:\n",
    "        return None\n",
    "    else:\n",
    "        root = TreeNode(t[0])\n",
    "        if len(t) == 1:\n",
    "            return root\n",
    "        else:\n",
    "            list_node = []\n",
    "            list_node.append(root)\n",
    "\n",
    "            # next is a left son\n",
    "            left = 1\n",
    "            for i in range(len(t) - 1):\n",
    "                val = t[i + 1]\n",
    "                # initialize a new node as null node\n",
    "                new_node = None\n",
    "                if val != '#':\n",
    "                    # create this new node\n",
    "                    new_node = TreeNode(val)\n",
    "                    # add it into the node list\n",
    "                    list_node.append(new_node)\n",
    "\n",
    "                if left == 1: # the left son\n",
    "                    # if right, do not need to pop\n",
    "                    parent_node = list_node.pop(0)\n",
    "                    parent_node.left = new_node\n",
    "                    left = 0\n",
    "                else:\n",
    "                    parent_node.right = new_node\n",
    "                    left = 1\n",
    "        return root"
   ]
  },
  {
   "cell_type": "code",
   "execution_count": 2,
   "metadata": {},
   "outputs": [],
   "source": [
    "def cengxu_tree(t):\n",
    "    list_val = []\n",
    "    if t == None:\n",
    "        return list_val\n",
    "    else:\n",
    "        list_val.append(t.val)\n",
    "        \n",
    "        list_node = []\n",
    "        list_node.append(t)\n",
    "\n",
    "        while len(list_node) != 0:\n",
    "            parent_node = list_node.pop(0)\n",
    "            lnode = parent_node.left\n",
    "            rnode = parent_node.right\n",
    "            \n",
    "            if lnode != None:\n",
    "                list_val.append(lnode.val)\n",
    "                list_node.append(lnode)\n",
    "            else:\n",
    "                list_val.append('#')\n",
    "            if rnode != None:\n",
    "                list_val.append(rnode.val)\n",
    "                list_node.append(rnode)\n",
    "            else:\n",
    "                list_val.append('#')\n",
    "    return list_val"
   ]
  },
  {
   "cell_type": "markdown",
   "metadata": {},
   "source": [
    "函数部分:\n",
    "    还是得学会递归"
   ]
  },
  {
   "cell_type": "code",
   "execution_count": 19,
   "metadata": {},
   "outputs": [],
   "source": [
    "class TreeNode:\n",
    "    def __init__(self, x):\n",
    "        self.val = x\n",
    "        self.left = None\n",
    "        self.right = None\n",
    "\n",
    "#\n",
    "# \n",
    "# @param root TreeNode类 \n",
    "# @return bool布尔型\n",
    "#\n",
    "class Solution:\n",
    "    \n",
    "    def isSymmetric(self , root ):\n",
    "        # write code here\n",
    "        if root == None or (root.left == None and root.right == None):\n",
    "            return True\n",
    "        elif (root.left != None and root.right == None) or (root.left == None and root.right != None):\n",
    "            return False\n",
    "        else:\n",
    "            if root.left.val == root.right.val:\n",
    "                return True\n",
    "            else:\n",
    "                return False\n",
    "        \n",
    "        return (self.isSymmetric(root.left) and self.isSymmetric(root.right))"
   ]
  },
  {
   "cell_type": "markdown",
   "metadata": {},
   "source": [
    "测试部分：\n",
    "    树和递归"
   ]
  },
  {
   "cell_type": "code",
   "execution_count": 20,
   "metadata": {},
   "outputs": [],
   "source": [
    "t1 = [1,2,2]"
   ]
  },
  {
   "cell_type": "code",
   "execution_count": 21,
   "metadata": {},
   "outputs": [],
   "source": [
    "t1 = [1,2,3,3,'#',2,'#']"
   ]
  },
  {
   "cell_type": "code",
   "execution_count": 22,
   "metadata": {},
   "outputs": [],
   "source": [
    "t1 = create_tree(t1)"
   ]
  },
  {
   "cell_type": "code",
   "execution_count": 23,
   "metadata": {},
   "outputs": [
    {
     "data": {
      "text/plain": [
       "False"
      ]
     },
     "execution_count": 23,
     "metadata": {},
     "output_type": "execute_result"
    }
   ],
   "source": [
    "s = Solution()\n",
    "s.isSymmetric(t1)"
   ]
  },
  {
   "cell_type": "code",
   "execution_count": null,
   "metadata": {},
   "outputs": [],
   "source": []
  }
 ],
 "metadata": {
  "kernelspec": {
   "display_name": "Python 3",
   "language": "python",
   "name": "python3"
  },
  "language_info": {
   "codemirror_mode": {
    "name": "ipython",
    "version": 3
   },
   "file_extension": ".py",
   "mimetype": "text/x-python",
   "name": "python",
   "nbconvert_exporter": "python",
   "pygments_lexer": "ipython3",
   "version": "3.9.0"
  }
 },
 "nbformat": 4,
 "nbformat_minor": 4
}
