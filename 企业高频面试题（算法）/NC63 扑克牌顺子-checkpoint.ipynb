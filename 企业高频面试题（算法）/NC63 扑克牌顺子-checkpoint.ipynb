{
 "cells": [
  {
   "cell_type": "markdown",
   "metadata": {},
   "source": [
    "函数部分：解法1"
   ]
  },
  {
   "cell_type": "code",
   "execution_count": 1,
   "metadata": {},
   "outputs": [],
   "source": [
    "# -*- coding:utf-8 -*-\n",
    "class Solution:\n",
    "    def IsContinuous(self, numbers):\n",
    "        # write code here\n",
    "        if len(numbers) != 5:\n",
    "            return False\n",
    "        else:\n",
    "            numbers.sort()\n",
    "            # mini is the smallest card, we have mini jokers\n",
    "            for mini in range(5):\n",
    "                if numbers[mini] != 0:\n",
    "                    n = numbers[mini]\n",
    "                    break\n",
    "\n",
    "            # they all minus the minimum value\n",
    "            for i in range(mini,5):\n",
    "                numbers[i] -= n\n",
    "\n",
    "            shunzi = [0,1,2,3,4]\n",
    "\n",
    "            num_values = 0\n",
    "            for n in numbers[mini:]:\n",
    "                if n in shunzi:\n",
    "                    num_values += 1\n",
    "                    shunzi.remove(n)\n",
    "            if (num_values + mini) == 5:\n",
    "                return True\n",
    "            else:\n",
    "                return False"
   ]
  },
  {
   "cell_type": "markdown",
   "metadata": {},
   "source": [
    "函数部分：解法2（参考解题思路，利用set）"
   ]
  },
  {
   "cell_type": "code",
   "execution_count": 2,
   "metadata": {},
   "outputs": [],
   "source": [
    "# -*- coding:utf-8 -*-\n",
    "class Solution:\n",
    "    def IsContinuous(self, numbers):\n",
    "        # write code here\n",
    "        if len(numbers) == 0:\n",
    "            return False\n",
    "        else:\n",
    "            mini = 0\n",
    "            nojoker = []\n",
    "            for n in numbers:\n",
    "                if n == 0:\n",
    "                    mini += 1\n",
    "                else:\n",
    "                    nojoker.append(n)\n",
    "\n",
    "            # there should not have deplicate cards\n",
    "            if len(nojoker) != len(set(nojoker)):\n",
    "                return False\n",
    "            else:\n",
    "                if max(nojoker) - min(nojoker) > 4:\n",
    "                    return False\n",
    "                else:\n",
    "                    return True"
   ]
  },
  {
   "cell_type": "markdown",
   "metadata": {},
   "source": [
    "测试部分"
   ]
  },
  {
   "cell_type": "code",
   "execution_count": 3,
   "metadata": {},
   "outputs": [],
   "source": [
    "numbers = [0,3,2,6,4]"
   ]
  },
  {
   "cell_type": "code",
   "execution_count": 4,
   "metadata": {},
   "outputs": [],
   "source": [
    "numbers = [1,0,0,1,0]"
   ]
  },
  {
   "cell_type": "code",
   "execution_count": 5,
   "metadata": {},
   "outputs": [],
   "source": [
    "numbers = []"
   ]
  },
  {
   "cell_type": "code",
   "execution_count": 6,
   "metadata": {},
   "outputs": [
    {
     "data": {
      "text/plain": [
       "False"
      ]
     },
     "execution_count": 6,
     "metadata": {},
     "output_type": "execute_result"
    }
   ],
   "source": [
    "s = Solution()\n",
    "s.IsContinuous(numbers)"
   ]
  }
 ],
 "metadata": {
  "kernelspec": {
   "display_name": "Python 3",
   "language": "python",
   "name": "python3"
  },
  "language_info": {
   "codemirror_mode": {
    "name": "ipython",
    "version": 3
   },
   "file_extension": ".py",
   "mimetype": "text/x-python",
   "name": "python",
   "nbconvert_exporter": "python",
   "pygments_lexer": "ipython3",
   "version": "3.9.0"
  }
 },
 "nbformat": 4,
 "nbformat_minor": 4
}
