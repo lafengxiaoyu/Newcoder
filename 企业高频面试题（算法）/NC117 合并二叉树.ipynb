{
 "cells": [
  {
   "cell_type": "code",
   "execution_count": 1,
   "metadata": {},
   "outputs": [],
   "source": [
    "def create_tree(t):\n",
    "    if len(t) == 0:\n",
    "        return None\n",
    "    else:\n",
    "        root = TreeNode(t[0])\n",
    "        if len(t) == 1:\n",
    "            return root\n",
    "        else:\n",
    "            list_node = []\n",
    "            list_node.append(root)\n",
    "\n",
    "            # next is a left son\n",
    "            left = 1\n",
    "            for i in range(len(t) - 1):\n",
    "                val = t[i + 1]\n",
    "                # initialize a new node as null node\n",
    "                new_node = None\n",
    "                if val != '#':\n",
    "                    # create this new node\n",
    "                    new_node = TreeNode(val)\n",
    "                    # add it into the node list\n",
    "                    list_node.append(new_node)\n",
    "\n",
    "                if left == 1: # the left son\n",
    "                    # if right, do not need to pop\n",
    "                    parent_node = list_node.pop(0)\n",
    "                    parent_node.left = new_node\n",
    "                    left = 0\n",
    "                else:\n",
    "                    parent_node.right = new_node\n",
    "                    left = 1\n",
    "        return root"
   ]
  },
  {
   "cell_type": "code",
   "execution_count": 2,
   "metadata": {},
   "outputs": [],
   "source": [
    "def cengxu_tree(t):\n",
    "    list_val = []\n",
    "    if t == None:\n",
    "        return list_val\n",
    "    else:\n",
    "        list_val.append(t.val)\n",
    "        \n",
    "        list_node = []\n",
    "        list_node.append(t)\n",
    "\n",
    "        while len(list_node) != 0:\n",
    "            parent_node = list_node.pop(0)\n",
    "            lnode = parent_node.left\n",
    "            rnode = parent_node.right\n",
    "            \n",
    "            if lnode != None:\n",
    "                list_val.append(lnode.val)\n",
    "                list_node.append(lnode)\n",
    "            else:\n",
    "                list_val.append('#')\n",
    "            if rnode != None:\n",
    "                list_val.append(rnode.val)\n",
    "                list_node.append(rnode)\n",
    "            else:\n",
    "                list_val.append('#')\n",
    "    return list_val"
   ]
  },
  {
   "cell_type": "markdown",
   "metadata": {},
   "source": [
    "函数部分"
   ]
  },
  {
   "cell_type": "code",
   "execution_count": 3,
   "metadata": {},
   "outputs": [],
   "source": [
    "class TreeNode:\n",
    "    def __init__(self, x):\n",
    "        self.val = x\n",
    "        self.left = None\n",
    "        self.right = None\n",
    "\n",
    "#\n",
    "# \n",
    "# @param t1 TreeNode类 \n",
    "# @param t2 TreeNode类 \n",
    "# @return TreeNode类\n",
    "#\n",
    "class Solution:\n",
    "    def mergeTrees(self , t1 , t2 ):\n",
    "        # write code here\n",
    "        if t1 == None:\n",
    "            return t2\n",
    "        if t2 == None:\n",
    "            return t1\n",
    "        \n",
    "        t1.val += t2.val\n",
    "            \n",
    "        t1.left = self.mergeTrees(t1.left, t2.left)\n",
    "        t1.right = self.mergeTrees(t1.right, t2.right)\n",
    "        \n",
    "        return t1"
   ]
  },
  {
   "cell_type": "markdown",
   "metadata": {},
   "source": [
    "测试部分：\n",
    "    树和递归"
   ]
  },
  {
   "cell_type": "code",
   "execution_count": 4,
   "metadata": {},
   "outputs": [],
   "source": [
    "t1 = [1,3,2,5]\n",
    "t2 = [2,1,3,'#',4,'#',7]"
   ]
  },
  {
   "cell_type": "code",
   "execution_count": 5,
   "metadata": {},
   "outputs": [],
   "source": [
    "t1 = [1,10,8,'#',1,'#','#',3]\n",
    "t2 = [9,4,2,'#',4,9]"
   ]
  },
  {
   "cell_type": "code",
   "execution_count": 6,
   "metadata": {},
   "outputs": [],
   "source": [
    "t1 = [7,2,5,1,'#',10,6,'#',6,9,9,'#','#','#','#','#','#',1]\n",
    "t2 = [9,5,9,'#','#',1,'#',10]"
   ]
  },
  {
   "cell_type": "code",
   "execution_count": 7,
   "metadata": {},
   "outputs": [],
   "source": [
    "t1 = create_tree(t1)\n",
    "t2 = create_tree(t2)"
   ]
  },
  {
   "cell_type": "code",
   "execution_count": 8,
   "metadata": {},
   "outputs": [
    {
     "data": {
      "text/plain": [
       "[16,\n",
       " 7,\n",
       " 14,\n",
       " 1,\n",
       " '#',\n",
       " 11,\n",
       " 6,\n",
       " '#',\n",
       " 6,\n",
       " 19,\n",
       " 9,\n",
       " '#',\n",
       " '#',\n",
       " '#',\n",
       " '#',\n",
       " '#',\n",
       " '#',\n",
       " 1,\n",
       " '#',\n",
       " '#',\n",
       " '#']"
      ]
     },
     "execution_count": 8,
     "metadata": {},
     "output_type": "execute_result"
    }
   ],
   "source": [
    "s = Solution()\n",
    "cengxu_tree(s.mergeTrees(t1, t2))"
   ]
  }
 ],
 "metadata": {
  "kernelspec": {
   "display_name": "Python 3",
   "language": "python",
   "name": "python3"
  },
  "language_info": {
   "codemirror_mode": {
    "name": "ipython",
    "version": 3
   },
   "file_extension": ".py",
   "mimetype": "text/x-python",
   "name": "python",
   "nbconvert_exporter": "python",
   "pygments_lexer": "ipython3",
   "version": "3.9.0"
  }
 },
 "nbformat": 4,
 "nbformat_minor": 4
}
