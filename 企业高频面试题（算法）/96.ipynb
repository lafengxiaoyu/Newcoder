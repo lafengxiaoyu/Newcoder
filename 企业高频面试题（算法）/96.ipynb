{
 "cells": [
  {
   "cell_type": "code",
   "execution_count": 1,
   "metadata": {},
   "outputs": [],
   "source": [
    "class ListNode:\n",
    "    def __init__(self, x):\n",
    "        self.val = x\n",
    "        self.next = None\n",
    "\n",
    "#\n",
    "# \n",
    "# @param head ListNode类 the head\n",
    "# @return bool布尔型\n",
    "#\n",
    "class Solution:\n",
    "    def isPail(self , head ):\n",
    "        # write code here\n",
    "        list_val = []\n",
    "        while head.next != None:\n",
    "            list_val.append(head.val)\n",
    "            head = head.next\n",
    "        list_val.append(head.val)\n",
    "        \n",
    "        flag = 0\n",
    "        for i in range(int(len(list_val)/2) + 1):\n",
    "            if list_val[i] != list_val[-1-i]:\n",
    "                flag = 1\n",
    "                break\n",
    "        if flag == 0:\n",
    "            return True\n",
    "        else:\n",
    "            return False"
   ]
  },
  {
   "cell_type": "code",
   "execution_count": null,
   "metadata": {},
   "outputs": [],
   "source": []
  },
  {
   "cell_type": "code",
   "execution_count": 2,
   "metadata": {},
   "outputs": [],
   "source": [
    "def print_link(pHead):\n",
    "    while pHead.next != None:\n",
    "        print(pHead,\":\",pHead.val)\n",
    "        pHead = pHead.next\n",
    "    print(pHead,\":\",pHead.val)"
   ]
  },
  {
   "cell_type": "code",
   "execution_count": 3,
   "metadata": {},
   "outputs": [],
   "source": [
    "a = [1,2,2,1]\n",
    "\n",
    "head = ListNode(a[0])\n",
    "n1 = ListNode(a[1])\n",
    "n2 = ListNode(a[2])\n",
    "n3 = ListNode(a[3])\n",
    "\n",
    "head.next = n1\n",
    "n1.next = n2\n",
    "n2.next = n3"
   ]
  },
  {
   "cell_type": "code",
   "execution_count": 4,
   "metadata": {},
   "outputs": [
    {
     "name": "stdout",
     "output_type": "stream",
     "text": [
      "<__main__.ListNode object at 0x7fa0f7775910> : 1\n",
      "<__main__.ListNode object at 0x7fa0f77758b0> : 2\n",
      "<__main__.ListNode object at 0x7fa0f77758e0> : 2\n",
      "<__main__.ListNode object at 0x7fa0f7775820> : 1\n"
     ]
    }
   ],
   "source": [
    "print_link(head)"
   ]
  },
  {
   "cell_type": "code",
   "execution_count": null,
   "metadata": {},
   "outputs": [],
   "source": []
  },
  {
   "cell_type": "code",
   "execution_count": 5,
   "metadata": {},
   "outputs": [
    {
     "data": {
      "text/plain": [
       "True"
      ]
     },
     "execution_count": 5,
     "metadata": {},
     "output_type": "execute_result"
    }
   ],
   "source": [
    "s = Solution()\n",
    "s.isPail(head)"
   ]
  }
 ],
 "metadata": {
  "kernelspec": {
   "display_name": "Python 3",
   "language": "python",
   "name": "python3"
  },
  "language_info": {
   "codemirror_mode": {
    "name": "ipython",
    "version": 3
   },
   "file_extension": ".py",
   "mimetype": "text/x-python",
   "name": "python",
   "nbconvert_exporter": "python",
   "pygments_lexer": "ipython3",
   "version": "3.9.0"
  }
 },
 "nbformat": 4,
 "nbformat_minor": 4
}
