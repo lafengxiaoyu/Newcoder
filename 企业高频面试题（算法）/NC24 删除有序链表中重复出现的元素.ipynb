{
 "cells": [
  {
   "cell_type": "code",
   "execution_count": 1,
   "metadata": {},
   "outputs": [],
   "source": [
    "def create(x):\n",
    "    head = ListNode(x[0])\n",
    "    current = head\n",
    "    for i in range(1,len(x)):\n",
    "        new_node = ListNode(x[i])\n",
    "        current.next = new_node\n",
    "        current = new_node\n",
    "    return head\n",
    "\n",
    "def print_link(head):\n",
    "    if head == None:\n",
    "        print(None)\n",
    "    else:\n",
    "        current = head\n",
    "        while current.next != None:\n",
    "            print(current.val, \"-> \",end='')\n",
    "            current = current.next\n",
    "        print(current.val)"
   ]
  },
  {
   "cell_type": "markdown",
   "metadata": {},
   "source": [
    "函数部分：\n",
    "    需要注意的好多啊。。我这里借助了再头结点之前再加更小的一个节点的办法（哑节点）。。怎么这么复杂的。。"
   ]
  },
  {
   "cell_type": "code",
   "execution_count": 2,
   "metadata": {},
   "outputs": [],
   "source": [
    "class ListNode:\n",
    "    def __init__(self, x):\n",
    "        self.val = x\n",
    "        self.next = None\n",
    "\n",
    "#\n",
    "# \n",
    "# @param head ListNode类 \n",
    "# @return ListNode类\n",
    "#\n",
    "class Solution:\n",
    "    def deleteDuplicates(self , head ):\n",
    "        # write code here\n",
    "        if head == None or head.next == None:\n",
    "            return head\n",
    "        elif head.next.next == None:\n",
    "            if head.val == head.next.val:\n",
    "                return None\n",
    "            else:\n",
    "                return head\n",
    "        else:\n",
    "            # 创建了一个虚拟头节点\n",
    "            virtual_head = ListNode(head.val - 1)\n",
    "            virtual_head.next = head\n",
    "            \n",
    "            previous = virtual_head\n",
    "            current = virtual_head.next\n",
    "            next_node = virtual_head.next.next\n",
    "            \n",
    "            while current.next != None:\n",
    "                #print(previous.val, current.val, next_node.val)\n",
    "                # 前后都不等于当前节点,那么当前节点只出现一次，保留之\n",
    "                if current.val != previous.val and current.val != next_node.val:\n",
    "                    # 都往后平移一个节点\n",
    "                    previous = previous.next\n",
    "                    current = current.next\n",
    "                    next_node = next_node.next\n",
    "\n",
    "                # 当前节点不可能与previous相同，是因为刚刚if查过了，因此只可能当前节点与之后节点相同\n",
    "                # current.val == next_node.val\n",
    "                else:\n",
    "                    while current.val == next_node.val:\n",
    "                        current = current.next\n",
    "                        if next_node.next != None:\n",
    "                            next_node = next_node.next\n",
    "                        # 后面的节点都相同\n",
    "                        else:\n",
    "                            previous.next = None\n",
    "                            return virtual_head.next\n",
    "                    previous.next = next_node\n",
    "                    # 不用更新previous节点\n",
    "                    current = next_node\n",
    "                    if current == None:\n",
    "                        return virtual_head.next\n",
    "                    else:\n",
    "                        next_node = current.next\n",
    "            \n",
    "            \n",
    "            return virtual_head.next"
   ]
  },
  {
   "cell_type": "markdown",
   "metadata": {},
   "source": [
    "测试部分"
   ]
  },
  {
   "cell_type": "code",
   "execution_count": 3,
   "metadata": {},
   "outputs": [
    {
     "name": "stdout",
     "output_type": "stream",
     "text": [
      "1 -> 2 -> 3\n",
      "1 -> 2 -> 3\n"
     ]
    }
   ],
   "source": [
    "x = [1,2,3]\n",
    "head = create(x)\n",
    "print_link(head)\n",
    "\n",
    "s = Solution()\n",
    "print_link(s.deleteDuplicates(head))"
   ]
  }
 ],
 "metadata": {
  "kernelspec": {
   "display_name": "Python 3",
   "language": "python",
   "name": "python3"
  },
  "language_info": {
   "codemirror_mode": {
    "name": "ipython",
    "version": 3
   },
   "file_extension": ".py",
   "mimetype": "text/x-python",
   "name": "python",
   "nbconvert_exporter": "python",
   "pygments_lexer": "ipython3",
   "version": "3.9.0"
  }
 },
 "nbformat": 4,
 "nbformat_minor": 4
}
