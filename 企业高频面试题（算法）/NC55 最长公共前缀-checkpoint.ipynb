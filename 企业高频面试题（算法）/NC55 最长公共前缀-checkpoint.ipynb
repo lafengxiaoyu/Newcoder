{
 "cells": [
  {
   "cell_type": "markdown",
   "metadata": {},
   "source": [
    "函数部分"
   ]
  },
  {
   "cell_type": "code",
   "execution_count": 1,
   "metadata": {},
   "outputs": [],
   "source": [
    "#\n",
    "# \n",
    "# @param strs string字符串一维数组 \n",
    "# @return string字符串\n",
    "#\n",
    "class Solution:\n",
    "    def longestCommonPrefix(self , strs ):\n",
    "        # write code here\n",
    "        if len(strs) == 0:\n",
    "            return \"\"\n",
    "        elif len(strs) == 1:\n",
    "            return strs[0]\n",
    "        else:\n",
    "            commons = \"\"\n",
    "            str0 = strs[0]\n",
    "            for i in range(len(str0)):\n",
    "                c = str0[i]\n",
    "                flag = 0 # 0 means all char are the same\n",
    "                for s in strs[1:]:\n",
    "                    if len(s) - i < 1:\n",
    "                        return commons\n",
    "                    if s[i] != c:\n",
    "                        flag = 1\n",
    "                        break\n",
    "                if flag == 0:\n",
    "                    commons += c\n",
    "                else:\n",
    "                    return commons\n",
    "            return commons"
   ]
  },
  {
   "cell_type": "markdown",
   "metadata": {},
   "source": [
    "测试部分"
   ]
  },
  {
   "cell_type": "code",
   "execution_count": 2,
   "metadata": {},
   "outputs": [],
   "source": [
    "strs = [\"abca\",\"abc\",\"abca\",\"abc\",\"abcc\"]"
   ]
  },
  {
   "cell_type": "code",
   "execution_count": 3,
   "metadata": {},
   "outputs": [],
   "source": [
    "strs = [\"\",\"\"]"
   ]
  },
  {
   "cell_type": "code",
   "execution_count": 4,
   "metadata": {},
   "outputs": [
    {
     "data": {
      "text/plain": [
       "''"
      ]
     },
     "execution_count": 4,
     "metadata": {},
     "output_type": "execute_result"
    }
   ],
   "source": [
    "s = Solution()\n",
    "s.longestCommonPrefix(strs)"
   ]
  }
 ],
 "metadata": {
  "kernelspec": {
   "display_name": "Python 3",
   "language": "python",
   "name": "python3"
  },
  "language_info": {
   "codemirror_mode": {
    "name": "ipython",
    "version": 3
   },
   "file_extension": ".py",
   "mimetype": "text/x-python",
   "name": "python",
   "nbconvert_exporter": "python",
   "pygments_lexer": "ipython3",
   "version": "3.9.0"
  }
 },
 "nbformat": 4,
 "nbformat_minor": 4
}
