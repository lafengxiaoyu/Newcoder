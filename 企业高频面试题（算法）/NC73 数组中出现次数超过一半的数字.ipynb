{
 "cells": [
  {
   "cell_type": "markdown",
   "metadata": {},
   "source": [
    "函数部分"
   ]
  },
  {
   "cell_type": "code",
   "execution_count": 1,
   "metadata": {},
   "outputs": [],
   "source": [
    "# -*- coding:utf-8 -*-\n",
    "class Solution:\n",
    "    def MoreThanHalfNum_Solution(self, numbers):\n",
    "        # write code here\n",
    "        set_numbers = set(numbers)\n",
    "        unique_numbers = list(set_numbers)\n",
    "        count = [0] * len(unique_numbers)\n",
    "        \n",
    "        for n in numbers:\n",
    "            for i in range(len(unique_numbers)):\n",
    "                if n == unique_numbers[i]:\n",
    "                    count[i] += 1\n",
    "                    break\n",
    "                    \n",
    "        flag = 0\n",
    "        for i in range(len(count)):\n",
    "            if count[i] > len(numbers)/2:\n",
    "                flag = 1\n",
    "                return unique_numbers[i]\n",
    "        if flag == 0:\n",
    "            return 0"
   ]
  },
  {
   "cell_type": "markdown",
   "metadata": {},
   "source": [
    "测试部分：\n",
    "    暴力破解， $O(N^2)$也能过"
   ]
  },
  {
   "cell_type": "code",
   "execution_count": 2,
   "metadata": {},
   "outputs": [],
   "source": [
    "numbers = [1,2,3,2,2,2,5,4,2]"
   ]
  },
  {
   "cell_type": "code",
   "execution_count": 3,
   "metadata": {},
   "outputs": [],
   "source": [
    "numbers = [1,2,3,2,4,2,5,2,3]"
   ]
  },
  {
   "cell_type": "code",
   "execution_count": 4,
   "metadata": {},
   "outputs": [
    {
     "data": {
      "text/plain": [
       "0"
      ]
     },
     "execution_count": 4,
     "metadata": {},
     "output_type": "execute_result"
    }
   ],
   "source": [
    "s = Solution()\n",
    "s.MoreThanHalfNum_Solution(numbers)"
   ]
  }
 ],
 "metadata": {
  "kernelspec": {
   "display_name": "Python 3",
   "language": "python",
   "name": "python3"
  },
  "language_info": {
   "codemirror_mode": {
    "name": "ipython",
    "version": 3
   },
   "file_extension": ".py",
   "mimetype": "text/x-python",
   "name": "python",
   "nbconvert_exporter": "python",
   "pygments_lexer": "ipython3",
   "version": "3.9.0"
  }
 },
 "nbformat": 4,
 "nbformat_minor": 4
}
