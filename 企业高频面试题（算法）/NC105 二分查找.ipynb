{
 "cells": [
  {
   "cell_type": "markdown",
   "metadata": {},
   "source": [
    "函数部分"
   ]
  },
  {
   "cell_type": "code",
   "execution_count": 1,
   "metadata": {},
   "outputs": [],
   "source": [
    "#\n",
    "# 二分查找\n",
    "# @param n int整型 数组长度\n",
    "# @param v int整型 查找值\n",
    "# @param a int整型一维数组 有序数组\n",
    "# @return int整型\n",
    "#\n",
    "class Solution:\n",
    "    def upper_bound_(self , n , v , a ):\n",
    "        # write code here\n",
    "        if a[-1] <= v:\n",
    "            return n + 1\n",
    "        elif a[0] >= v:\n",
    "            return 1\n",
    "        else:\n",
    "            begin = 0\n",
    "            final = n - 1\n",
    "            while (final - begin) > 1: # the length of range is larger than 1  \n",
    "                if a[int((begin + final) / 2)] >= v: # the middle value is larger than v, we search the left part\n",
    "                    final = int((begin + final) / 2)\n",
    "                else: # we search the right part\n",
    "                    begin = int((begin + final) / 2)\n",
    "            return final + 1"
   ]
  },
  {
   "cell_type": "markdown",
   "metadata": {},
   "source": [
    "测试部分"
   ]
  },
  {
   "cell_type": "code",
   "execution_count": 2,
   "metadata": {},
   "outputs": [],
   "source": [
    "n = 10\n",
    "v = 2\n",
    "a = [1,1,2,3,7,7,7,9,9,10]"
   ]
  },
  {
   "cell_type": "code",
   "execution_count": 3,
   "metadata": {},
   "outputs": [
    {
     "data": {
      "text/plain": [
       "3"
      ]
     },
     "execution_count": 3,
     "metadata": {},
     "output_type": "execute_result"
    }
   ],
   "source": [
    "s = Solution()\n",
    "s.upper_bound_(n,v,a)"
   ]
  }
 ],
 "metadata": {
  "kernelspec": {
   "display_name": "Python 3",
   "language": "python",
   "name": "python3"
  },
  "language_info": {
   "codemirror_mode": {
    "name": "ipython",
    "version": 3
   },
   "file_extension": ".py",
   "mimetype": "text/x-python",
   "name": "python",
   "nbconvert_exporter": "python",
   "pygments_lexer": "ipython3",
   "version": "3.9.0"
  }
 },
 "nbformat": 4,
 "nbformat_minor": 4
}
