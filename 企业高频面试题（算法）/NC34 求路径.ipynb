{
 "cells": [
  {
   "cell_type": "markdown",
   "metadata": {},
   "source": [
    "函数部分：\n",
    "\n",
    "    把问题分解为子问题，不过不能递归，只能储存。\n",
    "    \n",
    "    递归也太慢了。。"
   ]
  },
  {
   "cell_type": "code",
   "execution_count": 43,
   "metadata": {},
   "outputs": [],
   "source": [
    "#\n",
    "# \n",
    "# @param m int整型 \n",
    "# @param n int整型 \n",
    "# @return int整型\n",
    "#\n",
    "class Solution:\n",
    "    def uniquePaths(self , m , n ):\n",
    "        # write code here\n",
    "        if m == 1 or n == 1:\n",
    "            return 1\n",
    "        else:\n",
    "            matrix = []\n",
    "            \n",
    "            line0 = [1]*n\n",
    "            matrix.append(line0)\n",
    "            \n",
    "            for i in range(1,m):\n",
    "                newline = []\n",
    "                v0 = 1\n",
    "                \n",
    "                newline.append(v0)\n",
    "                for j in range(1,n):\n",
    "                    v = matrix[i - 1][j] +newline[j - 1]\n",
    "                    newline.append(v)\n",
    "                matrix.append(newline)\n",
    "                    \n",
    "            return matrix[m-1][n-1]"
   ]
  },
  {
   "cell_type": "markdown",
   "metadata": {},
   "source": [
    "测试部分"
   ]
  },
  {
   "cell_type": "code",
   "execution_count": 41,
   "metadata": {},
   "outputs": [],
   "source": [
    "m = 100\n",
    "n = 100"
   ]
  },
  {
   "cell_type": "code",
   "execution_count": 42,
   "metadata": {},
   "outputs": [
    {
     "data": {
      "text/plain": [
       "22750883079422934966181954039568885395604168260154104734000"
      ]
     },
     "execution_count": 42,
     "metadata": {},
     "output_type": "execute_result"
    }
   ],
   "source": [
    "s = Solution()\n",
    "s.uniquePaths(m, n)"
   ]
  }
 ],
 "metadata": {
  "kernelspec": {
   "display_name": "Python 3",
   "language": "python",
   "name": "python3"
  },
  "language_info": {
   "codemirror_mode": {
    "name": "ipython",
    "version": 3
   },
   "file_extension": ".py",
   "mimetype": "text/x-python",
   "name": "python",
   "nbconvert_exporter": "python",
   "pygments_lexer": "ipython3",
   "version": "3.9.0"
  }
 },
 "nbformat": 4,
 "nbformat_minor": 4
}
