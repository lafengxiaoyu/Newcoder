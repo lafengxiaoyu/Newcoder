{
 "cells": [
  {
   "cell_type": "markdown",
   "metadata": {},
   "source": [
    "函数部分"
   ]
  },
  {
   "cell_type": "code",
   "execution_count": 1,
   "metadata": {},
   "outputs": [],
   "source": [
    "#\n",
    "# 代码中的类名、方法名、参数名已经指定，请勿修改，直接返回方法规定的值即可\n",
    "# 计算两个数之和\n",
    "# @param s string字符串 表示第一个整数\n",
    "# @param t string字符串 表示第二个整数\n",
    "# @return string字符串\n",
    "#\n",
    "class Solution:\n",
    "    def solve(self , s , t ):\n",
    "        # write code here\n",
    "\n",
    "        if len(s) < len(t):\n",
    "            s = '0' * (len(t) - len(s)) + s\n",
    "        else:\n",
    "            t = '0' * (len(s) - len(t)) + t\n",
    "        \n",
    "        # use this list to save digit\n",
    "        sum_st = []\n",
    "\n",
    "        # 代表进位\n",
    "        flag = 0 \n",
    "        for i in range(len(s)):\n",
    "            st = int(s[- 1 - i]) + int(t[- 1 - i]) + flag\n",
    "            flag = 0\n",
    "\n",
    "            # 考虑进位\n",
    "            if st / 10 >= 1:\n",
    "                flag = 1\n",
    "\n",
    "            sum_st.append(st % 10)\n",
    "\n",
    "        if flag == 1:\n",
    "            sum_st.append(1)\n",
    "\n",
    "        sum_string = \"\"\n",
    "        for i in range(len(sum_st)):\n",
    "            sum_string += str(sum_st[- 1 - i])\n",
    "            \n",
    "        return sum_string"
   ]
  },
  {
   "cell_type": "markdown",
   "metadata": {},
   "source": [
    "测试部分"
   ]
  },
  {
   "cell_type": "code",
   "execution_count": 2,
   "metadata": {},
   "outputs": [
    {
     "data": {
      "text/plain": [
       "'100'"
      ]
     },
     "execution_count": 2,
     "metadata": {},
     "output_type": "execute_result"
    }
   ],
   "source": [
    "s = \"1\"\n",
    "t = \"99\"\n",
    "\n",
    "solution = Solution()\n",
    "solution.solve(s, t)"
   ]
  }
 ],
 "metadata": {
  "kernelspec": {
   "display_name": "Python 3",
   "language": "python",
   "name": "python3"
  },
  "language_info": {
   "codemirror_mode": {
    "name": "ipython",
    "version": 3
   },
   "file_extension": ".py",
   "mimetype": "text/x-python",
   "name": "python",
   "nbconvert_exporter": "python",
   "pygments_lexer": "ipython3",
   "version": "3.9.0"
  }
 },
 "nbformat": 4,
 "nbformat_minor": 4
}
