{
 "cells": [
  {
   "cell_type": "markdown",
   "metadata": {},
   "source": [
    "函数区域"
   ]
  },
  {
   "cell_type": "code",
   "execution_count": 1,
   "metadata": {},
   "outputs": [],
   "source": [
    "#\n",
    "# 反转字符串\n",
    "# @param str string字符串 \n",
    "# @return string字符串\n",
    "#\n",
    "class Solution:\n",
    "    def solve(self , str ):\n",
    "        # write code here\n",
    "        reverse_str = \"\"\n",
    "        for i in range(len(str)):\n",
    "            reverse_str += str[len(str)-i-1]\n",
    "        return reverse_str"
   ]
  },
  {
   "cell_type": "markdown",
   "metadata": {},
   "source": [
    "测试区域"
   ]
  },
  {
   "cell_type": "code",
   "execution_count": 2,
   "metadata": {},
   "outputs": [
    {
     "name": "stdout",
     "output_type": "stream",
     "text": [
      "dcba\n"
     ]
    }
   ],
   "source": [
    "s = Solution()\n",
    "print(s.solve(\"abcd\"))"
   ]
  }
 ],
 "metadata": {
  "kernelspec": {
   "display_name": "Python 3",
   "language": "python",
   "name": "python3"
  },
  "language_info": {
   "codemirror_mode": {
    "name": "ipython",
    "version": 3
   },
   "file_extension": ".py",
   "mimetype": "text/x-python",
   "name": "python",
   "nbconvert_exporter": "python",
   "pygments_lexer": "ipython3",
   "version": "3.9.0"
  }
 },
 "nbformat": 4,
 "nbformat_minor": 4
}
