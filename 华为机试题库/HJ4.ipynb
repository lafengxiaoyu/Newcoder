{
 "cells": [
  {
   "cell_type": "markdown",
   "metadata": {},
   "source": [
    "try和except用好"
   ]
  },
  {
   "cell_type": "code",
   "execution_count": 2,
   "metadata": {},
   "outputs": [
    {
     "name": "stdout",
     "output_type": "stream",
     "text": [
      "abc\n",
      "abc00000\n",
      "123456789\n",
      "12345678\n",
      "90000000\n",
      "\n"
     ]
    }
   ],
   "source": [
    "try:\n",
    "    while True:\n",
    "        a = input()\n",
    "        n = int(len(a)/8)\n",
    "        for i in range(n):\n",
    "            print(a[i * 8:i * 8 + 8])\n",
    "        if n == 0:\n",
    "            i = -1\n",
    "        if len(a[i * 8 + 8:]) > 0:\n",
    "            print(a[i * 8 + 8:] + '0' * (8 - len(a[i * 8 + 8:])))\n",
    "except:\n",
    "    pass"
   ]
  }
 ],
 "metadata": {
  "kernelspec": {
   "display_name": "Python 3",
   "language": "python",
   "name": "python3"
  },
  "language_info": {
   "codemirror_mode": {
    "name": "ipython",
    "version": 3
   },
   "file_extension": ".py",
   "mimetype": "text/x-python",
   "name": "python",
   "nbconvert_exporter": "python",
   "pygments_lexer": "ipython3",
   "version": "3.9.0"
  }
 },
 "nbformat": 4,
 "nbformat_minor": 4
}
