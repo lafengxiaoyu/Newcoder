{
 "cells": [
  {
   "cell_type": "markdown",
   "metadata": {},
   "source": [
    "问题不大，直白翻译"
   ]
  },
  {
   "cell_type": "code",
   "execution_count": 18,
   "metadata": {},
   "outputs": [
    {
     "name": "stdout",
     "output_type": "stream",
     "text": [
      "1\n"
     ]
    }
   ],
   "source": [
    "try:\n",
    "    while True:\n",
    "        #n = 5\n",
    "        n = int(input())\n",
    "\n",
    "        list_b = []\n",
    "\n",
    "        while n!= 0:\n",
    "            a = n % 2\n",
    "            list_b.append(a)\n",
    "\n",
    "            if a == 1:\n",
    "                n = int((n - 1) /2)\n",
    "            else:\n",
    "                n = int(n / 2)\n",
    "\n",
    "\n",
    "        m = 0\n",
    "\n",
    "        pre1 = False\n",
    "        temp_m = 0\n",
    "\n",
    "        for i in list_b:\n",
    "            if i == 1:\n",
    "                if pre1 == True:\n",
    "                    temp_m += 1\n",
    "                else:\n",
    "                    pre1 = True\n",
    "                    temp_m += 1\n",
    "            else:\n",
    "                if temp_m >= m:\n",
    "                    m = temp_m\n",
    "                temp_m = 0\n",
    "\n",
    "        if temp_m >= m:\n",
    "            m = temp_m\n",
    "\n",
    "        print(m)\n",
    "except:\n",
    "    pass"
   ]
  }
 ],
 "metadata": {
  "kernelspec": {
   "display_name": "Python 3",
   "language": "python",
   "name": "python3"
  },
  "language_info": {
   "codemirror_mode": {
    "name": "ipython",
    "version": 3
   },
   "file_extension": ".py",
   "mimetype": "text/x-python",
   "name": "python",
   "nbconvert_exporter": "python",
   "pygments_lexer": "ipython3",
   "version": "3.9.0"
  }
 },
 "nbformat": 4,
 "nbformat_minor": 4
}
