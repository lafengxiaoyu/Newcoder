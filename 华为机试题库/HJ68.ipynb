{
 "cells": [
  {
   "cell_type": "markdown",
   "metadata": {},
   "source": [
    "sorted 和 lambda的结合要会使用"
   ]
  },
  {
   "cell_type": "code",
   "execution_count": 5,
   "metadata": {},
   "outputs": [
    {
     "name": "stdout",
     "output_type": "stream",
     "text": [
      "3\n",
      "0\n",
      "fang 90\n",
      "yang 50\n",
      "ning 70\n",
      "fang 90\n",
      "ning 70\n",
      "yang 50\n"
     ]
    }
   ],
   "source": [
    "try:\n",
    "    while True:\n",
    "        n = int(input())\n",
    "        hl = int(input())\n",
    "        \n",
    "        list_grade = []\n",
    "        for i in range(n):\n",
    "            name_grade = input().split()\n",
    "            list_grade.append(name_grade)\n",
    "        \n",
    "        if hl == 1:\n",
    "            list_grade = sorted(list_grade, key = lambda x: int(x[1]), reverse = False)\n",
    "        elif hl == 0:\n",
    "            list_grade = sorted(list_grade, key = lambda x: int(x[1]), reverse = True)\n",
    "        \n",
    "        for name, grade in list_grade:\n",
    "            print(name, grade)\n",
    "except:\n",
    "    pass"
   ]
  }
 ],
 "metadata": {
  "kernelspec": {
   "display_name": "Python 3",
   "language": "python",
   "name": "python3"
  },
  "language_info": {
   "codemirror_mode": {
    "name": "ipython",
    "version": 3
   },
   "file_extension": ".py",
   "mimetype": "text/x-python",
   "name": "python",
   "nbconvert_exporter": "python",
   "pygments_lexer": "ipython3",
   "version": "3.9.0"
  }
 },
 "nbformat": 4,
 "nbformat_minor": 4
}
