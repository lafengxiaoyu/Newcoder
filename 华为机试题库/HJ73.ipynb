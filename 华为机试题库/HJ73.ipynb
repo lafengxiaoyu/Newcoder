{
 "cells": [
  {
   "cell_type": "markdown",
   "metadata": {},
   "source": [
    "四年一闰，百年不闰，四百年再闰"
   ]
  },
  {
   "cell_type": "code",
   "execution_count": 5,
   "metadata": {},
   "outputs": [
    {
     "name": "stdout",
     "output_type": "stream",
     "text": [
      "2012 12 31\n",
      "366\n"
     ]
    }
   ],
   "source": [
    "try:\n",
    "    while True:\n",
    "        year, month, day = list(map(int, input().split()))\n",
    "        \n",
    "        # 闰年\n",
    "        if (year % 4 == 0 and year % 100 != 0) or (year % 400 == 0):\n",
    "            listday = [31,29,31,30,31,30,31,31,30,31,30,31]\n",
    "        # 平年\n",
    "        else:\n",
    "            listday = [31,28,31,30,31,30,31,31,30,31,30,31]\n",
    "\n",
    "        number_day = sum(listday[:month-1]) + day\n",
    "        print(number_day)\n",
    "except:\n",
    "    pass"
   ]
  }
 ],
 "metadata": {
  "kernelspec": {
   "display_name": "Python 3",
   "language": "python",
   "name": "python3"
  },
  "language_info": {
   "codemirror_mode": {
    "name": "ipython",
    "version": 3
   },
   "file_extension": ".py",
   "mimetype": "text/x-python",
   "name": "python",
   "nbconvert_exporter": "python",
   "pygments_lexer": "ipython3",
   "version": "3.9.0"
  }
 },
 "nbformat": 4,
 "nbformat_minor": 4
}
