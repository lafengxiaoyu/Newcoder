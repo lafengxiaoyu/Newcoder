{
 "cells": [
  {
   "cell_type": "markdown",
   "metadata": {},
   "source": [
    "还行吧这个题"
   ]
  },
  {
   "cell_type": "code",
   "execution_count": null,
   "metadata": {},
   "outputs": [],
   "source": [
    "try:\n",
    "    while True:\n",
    "        x = int(input())\n",
    "        y = int(input())\n",
    "        z = int(input())\n",
    "        \n",
    "        m1 = []\n",
    "        for i in range(x):\n",
    "            m1.append(list(map(int,input().split())))\n",
    "            \n",
    "        m2 = []\n",
    "        for i in range(y):\n",
    "            m2.append(list(map(int,input().split())))\n",
    "            \n",
    "#         x = 2\n",
    "#         y = 3\n",
    "#         z = 2\n",
    "\n",
    "#         m1 = [[1,2,3],[3,2,1]]\n",
    "#         m2 = [[1,2],[2,1],[3,3]]\n",
    "\n",
    "        m2_lie = []\n",
    "        for i in range(z):\n",
    "            m2_lie.append([])\n",
    "            for j in range(y):\n",
    "                m2_lie[i].append(m2[j][i])\n",
    "\n",
    "\n",
    "        m = []\n",
    "        for i in range(x):\n",
    "            m.append([])\n",
    "            for j in range(z):\n",
    "                e = 0\n",
    "                hang = m1[i]\n",
    "                lie = m2_lie[j]\n",
    "\n",
    "                for ii in range(len(hang)):\n",
    "                    e += hang[ii] * lie[ii]\n",
    "\n",
    "                m[i].append(e)\n",
    "        \n",
    "        for i in range(x):\n",
    "            for j in range(z):\n",
    "                print(m[i][j], end = ' ')\n",
    "            print()\n",
    "except:\n",
    "    pass"
   ]
  }
 ],
 "metadata": {
  "kernelspec": {
   "display_name": "Python 3",
   "language": "python",
   "name": "python3"
  },
  "language_info": {
   "codemirror_mode": {
    "name": "ipython",
    "version": 3
   },
   "file_extension": ".py",
   "mimetype": "text/x-python",
   "name": "python",
   "nbconvert_exporter": "python",
   "pygments_lexer": "ipython3",
   "version": "3.9.0"
  }
 },
 "nbformat": 4,
 "nbformat_minor": 4
}
