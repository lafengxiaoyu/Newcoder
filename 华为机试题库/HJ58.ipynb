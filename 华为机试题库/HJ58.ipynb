{
 "cells": [
  {
   "cell_type": "code",
   "execution_count": 2,
   "metadata": {},
   "outputs": [
    {
     "name": "stdout",
     "output_type": "stream",
     "text": [
      "5 2\n",
      "1 3 5 7 2\n",
      "1 2 "
     ]
    }
   ],
   "source": [
    "try:\n",
    "    while True:\n",
    "        n, k = list(map(int, input().split()))\n",
    "        \n",
    "        listn = list(map(int, input().split()))\n",
    "        \n",
    "        listn = sorted(listn, reverse = False)\n",
    "        \n",
    "        for i in range(k):\n",
    "            print(listn[i], end = ' ')\n",
    "        print ()\n",
    "except:\n",
    "    pass"
   ]
  }
 ],
 "metadata": {
  "kernelspec": {
   "display_name": "Python 3",
   "language": "python",
   "name": "python3"
  },
  "language_info": {
   "codemirror_mode": {
    "name": "ipython",
    "version": 3
   },
   "file_extension": ".py",
   "mimetype": "text/x-python",
   "name": "python",
   "nbconvert_exporter": "python",
   "pygments_lexer": "ipython3",
   "version": "3.9.0"
  }
 },
 "nbformat": 4,
 "nbformat_minor": 4
}
