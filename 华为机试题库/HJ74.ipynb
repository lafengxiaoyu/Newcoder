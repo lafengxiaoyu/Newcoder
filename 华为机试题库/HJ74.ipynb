{
 "cells": [
  {
   "cell_type": "markdown",
   "metadata": {},
   "source": [
    "要细心一点就行"
   ]
  },
  {
   "cell_type": "code",
   "execution_count": 15,
   "metadata": {},
   "outputs": [
    {
     "data": {
      "text/plain": [
       "'“d:\\\\”'"
      ]
     },
     "execution_count": 15,
     "metadata": {},
     "output_type": "execute_result"
    }
   ],
   "source": [
    "try:\n",
    "    while True:\n",
    "        s = input()\n",
    "        \n",
    "        # s = \"xcopy /s “C:\\program files” “d:\\”\"\n",
    "        # s = \"xcopy /s c:\\\\ d:\\\\\"\n",
    "        \n",
    "        p_list = []\n",
    "\n",
    "        p = \"\"\n",
    "        yinhao = False\n",
    "\n",
    "        for c in s:\n",
    "            if yinhao == True:\n",
    "                if c == \"”\" or c == '\"':\n",
    "                    p_list.append(p)\n",
    "                    p = \"\"\n",
    "                    yinhao = False\n",
    "                else:\n",
    "                    p += c\n",
    "            else:\n",
    "                if c == \"“\" or c == '\"':\n",
    "                    yinhao = True\n",
    "                else:\n",
    "                    if c == ' ':\n",
    "                        if len(p) != 0:\n",
    "                            p_list.append(p)\n",
    "                            p = \"\"\n",
    "                    else:\n",
    "                        p += c\n",
    "        if len(p) != 0:\n",
    "            p_list.append(p)\n",
    "\n",
    "        print(len(p_list))\n",
    "        for p in p_list:\n",
    "            print(p)\n",
    "except:\n",
    "    pass"
   ]
  }
 ],
 "metadata": {
  "kernelspec": {
   "display_name": "Python 3",
   "language": "python",
   "name": "python3"
  },
  "language_info": {
   "codemirror_mode": {
    "name": "ipython",
    "version": 3
   },
   "file_extension": ".py",
   "mimetype": "text/x-python",
   "name": "python",
   "nbconvert_exporter": "python",
   "pygments_lexer": "ipython3",
   "version": "3.9.0"
  }
 },
 "nbformat": 4,
 "nbformat_minor": 4
}
