{
 "cells": [
  {
   "cell_type": "markdown",
   "metadata": {},
   "source": [
    "写好判断质数的函数"
   ]
  },
  {
   "cell_type": "code",
   "execution_count": 13,
   "metadata": {},
   "outputs": [
    {
     "name": "stdout",
     "output_type": "stream",
     "text": [
      "7\n",
      "13\n"
     ]
    }
   ],
   "source": [
    "def zhishu(n):\n",
    "    if n == 2 or n == 3 or n == 5:\n",
    "        return True\n",
    "    elif n == 4:\n",
    "        return False\n",
    "    else:\n",
    "        flag = 1\n",
    "        for i in range(2, int(n ** 0.5 + 1)):\n",
    "            if n % i == 0:\n",
    "                flag = 0\n",
    "                return False\n",
    "        if flag == 1:\n",
    "            return True\n",
    "\n",
    "try:\n",
    "    while True:\n",
    "        n = int(input())\n",
    "\n",
    "        mean = int(n / 2)\n",
    "\n",
    "\n",
    "        for i in range(mean):\n",
    "            if zhishu(mean - i) == True and zhishu(mean + i):\n",
    "                print(mean - i)\n",
    "                print(mean + i)\n",
    "                break\n",
    "except:\n",
    "    pass"
   ]
  }
 ],
 "metadata": {
  "kernelspec": {
   "display_name": "Python 3",
   "language": "python",
   "name": "python3"
  },
  "language_info": {
   "codemirror_mode": {
    "name": "ipython",
    "version": 3
   },
   "file_extension": ".py",
   "mimetype": "text/x-python",
   "name": "python",
   "nbconvert_exporter": "python",
   "pygments_lexer": "ipython3",
   "version": "3.9.0"
  }
 },
 "nbformat": 4,
 "nbformat_minor": 4
}
