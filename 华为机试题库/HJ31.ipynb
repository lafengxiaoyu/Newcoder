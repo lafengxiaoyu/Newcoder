{
 "cells": [
  {
   "cell_type": "markdown",
   "metadata": {},
   "source": [
    "总体上还行，记得非字母都算间隔就行"
   ]
  },
  {
   "cell_type": "code",
   "execution_count": null,
   "metadata": {},
   "outputs": [],
   "source": [
    "try:\n",
    "    while True:\n",
    "        s = input()\n",
    "        #s = \"I am a student\"\n",
    "\n",
    "        lists = []\n",
    "        subs = \"\"\n",
    "        for c in s:\n",
    "            if (c >= 'a' and c <= 'z') or (c >= 'A' and c <= 'Z'):\n",
    "                subs += c\n",
    "            else:\n",
    "                if len(subs) != 0:\n",
    "                    lists.append(subs)\n",
    "                    subs = \"\"\n",
    "        if len(subs) != 0:\n",
    "            lists.append(subs)\n",
    "\n",
    "        news = \"\"\n",
    "\n",
    "        for i in range(len(lists)):\n",
    "            news += lists[-1 - i]\n",
    "            if i != len(lists) - 1:\n",
    "                news += \" \"\n",
    "        \n",
    "        print(news)\n",
    "        print()\n",
    "\n",
    "\n",
    "except:\n",
    "    pass"
   ]
  }
 ],
 "metadata": {
  "kernelspec": {
   "display_name": "Python 3",
   "language": "python",
   "name": "python3"
  },
  "language_info": {
   "codemirror_mode": {
    "name": "ipython",
    "version": 3
   },
   "file_extension": ".py",
   "mimetype": "text/x-python",
   "name": "python",
   "nbconvert_exporter": "python",
   "pygments_lexer": "ipython3",
   "version": "3.9.0"
  }
 },
 "nbformat": 4,
 "nbformat_minor": 4
}
