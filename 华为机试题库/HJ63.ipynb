{
 "cells": [
  {
   "cell_type": "markdown",
   "metadata": {},
   "source": [
    "还行这个题"
   ]
  },
  {
   "cell_type": "code",
   "execution_count": null,
   "metadata": {},
   "outputs": [],
   "source": [
    "try:\n",
    "    while True:\n",
    "        s = input()\n",
    "        k = int(input())\n",
    "        \n",
    "        max_ratio = 0\n",
    "        max_sub = \"\"\n",
    "\n",
    "        for i in range(max(len(s) - k, 1)):\n",
    "\n",
    "            sub = s[i:i + k]\n",
    "            numcg = 0\n",
    "            for c in sub:\n",
    "                if c =='C' or c == 'G':\n",
    "                    numcg += 1\n",
    "            ratio = numcg / len(sub)\n",
    "            #print(sub, ratio)\n",
    "\n",
    "            if ratio > max_ratio:\n",
    "                max_ratio = ratio\n",
    "                max_sub = sub\n",
    "\n",
    "        print(max_sub)\n",
    "except:\n",
    "    pass"
   ]
  }
 ],
 "metadata": {
  "kernelspec": {
   "display_name": "Python 3",
   "language": "python",
   "name": "python3"
  },
  "language_info": {
   "codemirror_mode": {
    "name": "ipython",
    "version": 3
   },
   "file_extension": ".py",
   "mimetype": "text/x-python",
   "name": "python",
   "nbconvert_exporter": "python",
   "pygments_lexer": "ipython3",
   "version": "3.9.0"
  }
 },
 "nbformat": 4,
 "nbformat_minor": 4
}
