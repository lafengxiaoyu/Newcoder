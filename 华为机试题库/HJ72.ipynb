{
 "cells": [
  {
   "cell_type": "markdown",
   "metadata": {},
   "source": [
    "问题不大，直白翻译解方程"
   ]
  },
  {
   "cell_type": "code",
   "execution_count": 5,
   "metadata": {},
   "outputs": [
    {
     "name": "stdout",
     "output_type": "stream",
     "text": [
      "1\n",
      "0 25 75\n",
      "4 18 78\n",
      "8 11 81\n",
      "12 4 84\n"
     ]
    }
   ],
   "source": [
    "try:\n",
    "    x = int(input())\n",
    "\n",
    "    for jiweng in range (0, 101):\n",
    "        if 100 - jiweng * 7 >= 0 and (100 - jiweng * 7) % 4 == 0:\n",
    "            jimu = (100 - jiweng * 7) / 4    \n",
    "            jichu = 100 - jiweng - (100 - jiweng * 7) / 4\n",
    "\n",
    "\n",
    "            print(jiweng, int(jimu), int(jichu))\n",
    "except:\n",
    "    pass"
   ]
  }
 ],
 "metadata": {
  "kernelspec": {
   "display_name": "Python 3",
   "language": "python",
   "name": "python3"
  },
  "language_info": {
   "codemirror_mode": {
    "name": "ipython",
    "version": 3
   },
   "file_extension": ".py",
   "mimetype": "text/x-python",
   "name": "python",
   "nbconvert_exporter": "python",
   "pygments_lexer": "ipython3",
   "version": "3.9.0"
  }
 },
 "nbformat": 4,
 "nbformat_minor": 4
}
