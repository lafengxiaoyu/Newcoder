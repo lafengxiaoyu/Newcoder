{
 "cells": [
  {
   "cell_type": "markdown",
   "metadata": {},
   "source": [
    "利用列表,用两个列表记录"
   ]
  },
  {
   "cell_type": "code",
   "execution_count": 4,
   "metadata": {},
   "outputs": [
    {
     "name": "stdout",
     "output_type": "stream",
     "text": [
      "-1\n"
     ]
    }
   ],
   "source": [
    "try:\n",
    "    while True:\n",
    "        # s = \"asdfasdfo\"\n",
    "        # s = \"aabb\"\n",
    "        s = input()\n",
    "\n",
    "        list1 = []\n",
    "        listmore = []\n",
    "\n",
    "        for c in s:\n",
    "            if (c not in list1) and (c not in listmore):\n",
    "                list1.append(c)\n",
    "            else:\n",
    "                if c in list1:\n",
    "                    list1.remove(c)\n",
    "                listmore.append(c)\n",
    "\n",
    "        if len(list1) >= 1:\n",
    "            print (list1[0])\n",
    "        else:\n",
    "            print (-1)\n",
    "except:\n",
    "    pass"
   ]
  },
  {
   "cell_type": "code",
   "execution_count": null,
   "metadata": {},
   "outputs": [],
   "source": []
  }
 ],
 "metadata": {
  "kernelspec": {
   "display_name": "Python 3",
   "language": "python",
   "name": "python3"
  },
  "language_info": {
   "codemirror_mode": {
    "name": "ipython",
    "version": 3
   },
   "file_extension": ".py",
   "mimetype": "text/x-python",
   "name": "python",
   "nbconvert_exporter": "python",
   "pygments_lexer": "ipython3",
   "version": "3.9.0"
  }
 },
 "nbformat": 4,
 "nbformat_minor": 4
}
