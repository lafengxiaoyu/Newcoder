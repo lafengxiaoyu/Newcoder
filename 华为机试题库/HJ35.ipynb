{
 "cells": [
  {
   "cell_type": "markdown",
   "metadata": {},
   "source": [
    "考虑多组输入"
   ]
  },
  {
   "cell_type": "code",
   "execution_count": null,
   "metadata": {},
   "outputs": [
    {
     "name": "stdout",
     "output_type": "stream",
     "text": [
      "4\n",
      "1 3 6 10 \n",
      "2 5 9 \n",
      "4 8 \n",
      "7 \n"
     ]
    }
   ],
   "source": [
    "try:\n",
    "    while True:\n",
    "        n = int(input())\n",
    "\n",
    "        m = []\n",
    "        for i in range(n):\n",
    "            m.append([])\n",
    "\n",
    "        t = 1\n",
    "        for i in range(n + 1):\n",
    "            for j in range(i):\n",
    "                m[i - j - 1].append(t)\n",
    "                t += 1\n",
    "\n",
    "        for linem in m:\n",
    "            for e in linem:\n",
    "                print(e, end = ' ')\n",
    "            print()\n",
    "except:\n",
    "    pass"
   ]
  },
  {
   "cell_type": "code",
   "execution_count": null,
   "metadata": {},
   "outputs": [],
   "source": []
  }
 ],
 "metadata": {
  "kernelspec": {
   "display_name": "Python 3",
   "language": "python",
   "name": "python3"
  },
  "language_info": {
   "codemirror_mode": {
    "name": "ipython",
    "version": 3
   },
   "file_extension": ".py",
   "mimetype": "text/x-python",
   "name": "python",
   "nbconvert_exporter": "python",
   "pygments_lexer": "ipython3",
   "version": "3.9.0"
  }
 },
 "nbformat": 4,
 "nbformat_minor": 4
}
