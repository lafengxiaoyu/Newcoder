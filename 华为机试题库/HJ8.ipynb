{
 "cells": [
  {
   "cell_type": "markdown",
   "metadata": {},
   "source": [
    "注意sorted 之后还是要再赋值的！！"
   ]
  },
  {
   "cell_type": "code",
   "execution_count": null,
   "metadata": {},
   "outputs": [],
   "source": [
    "n = int(input())\n",
    "# n = 4\n",
    "# listn = [[0, 1],[0, 2],[1, 2],[3, 4]]\n",
    "\n",
    "listn = []\n",
    "for i in range(n):\n",
    "    listn.append(list(map(int, input().split())))\n",
    "\n",
    "\n",
    "listn = sorted(listn, key = (lambda x : x[0]), reverse = False)\n",
    "\n",
    "\n",
    "pre_key = -1\n",
    "sum_index = -1\n",
    "\n",
    "new_list = []\n",
    "\n",
    "for key, index in listn:\n",
    "    if key == pre_key: \n",
    "        sum_index += index\n",
    "    else:\n",
    "        if pre_key != -1:\n",
    "            new_list.append([pre_key, sum_index])\n",
    "        pre_key = key\n",
    "        sum_index = index\n",
    "        \n",
    "new_list.append([pre_key, sum_index])    \n",
    "\n",
    "\n",
    "for key, index in new_list:\n",
    "    print(key, index)"
   ]
  }
 ],
 "metadata": {
  "kernelspec": {
   "display_name": "Python 3",
   "language": "python",
   "name": "python3"
  },
  "language_info": {
   "codemirror_mode": {
    "name": "ipython",
    "version": 3
   },
   "file_extension": ".py",
   "mimetype": "text/x-python",
   "name": "python",
   "nbconvert_exporter": "python",
   "pygments_lexer": "ipython3",
   "version": "3.9.0"
  }
 },
 "nbformat": 4,
 "nbformat_minor": 4
}
