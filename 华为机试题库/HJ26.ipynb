{
 "cells": [
  {
   "cell_type": "markdown",
   "metadata": {},
   "source": [
    "sorted 里面的 str.lower 或者key = lambda"
   ]
  },
  {
   "cell_type": "code",
   "execution_count": 13,
   "metadata": {},
   "outputs": [
    {
     "name": "stdout",
     "output_type": "stream",
     "text": [
      "A aaAAbc dFgghh: iimM nNn oooos Sttuuuy (2012/8).\n"
     ]
    }
   ],
   "source": [
    "try:\n",
    "    while True:\n",
    "        s = input()\n",
    "\n",
    "        listc = []\n",
    "\n",
    "        for c in s:\n",
    "            if (c >= 'a' and c <= 'z') or (c >= 'A' and c <= 'Z'):\n",
    "                listc.append(c)\n",
    "\n",
    "        # 一种将所有都小写的做法，因此还是根据顺序整的\n",
    "        listc_ = sorted(listc, key = str.lower)\n",
    "        #listc_ = sorted(listc, key = lambda c: c.lower())\n",
    "\n",
    "        news = \"\"\n",
    "        j = 0\n",
    "        for i in range(len(s)):\n",
    "            c = s[i]\n",
    "            if (c >= 'a' and c <= 'z') or (c >= 'A' and c <= 'Z'):\n",
    "                news += listc_[j]\n",
    "                j += 1\n",
    "            else:\n",
    "                news += c\n",
    "        print(news)\n",
    "except:\n",
    "    pass"
   ]
  }
 ],
 "metadata": {
  "kernelspec": {
   "display_name": "Python 3",
   "language": "python",
   "name": "python3"
  },
  "language_info": {
   "codemirror_mode": {
    "name": "ipython",
    "version": 3
   },
   "file_extension": ".py",
   "mimetype": "text/x-python",
   "name": "python",
   "nbconvert_exporter": "python",
   "pygments_lexer": "ipython3",
   "version": "3.9.0"
  }
 },
 "nbformat": 4,
 "nbformat_minor": 4
}
