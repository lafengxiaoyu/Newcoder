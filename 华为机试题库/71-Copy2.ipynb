{
 "cells": [
  {
   "cell_type": "markdown",
   "metadata": {},
   "source": [
    "eval 这个函数可以直接求表达式，虽然说太耍赖了。。"
   ]
  },
  {
   "cell_type": "code",
   "execution_count": 9,
   "metadata": {},
   "outputs": [
    {
     "name": "stdout",
     "output_type": "stream",
     "text": [
      "12er\n"
     ]
    }
   ],
   "source": [
    "s = \"12ere2\"\n",
    "\n",
    "list1 = []\n",
    "list2 = []\n",
    "\n",
    "for c in s:\n",
    "    if c not in list1 and c not in list2:\n",
    "        list1.append(c)\n",
    "    elif c in list1:\n",
    "        list2.append(c)\n",
    "    else:\n",
    "        pass\n",
    "\n",
    "news = \"\"\n",
    "for e in list1:\n",
    "    news += e\n",
    "print(news)"
   ]
  },
  {
   "cell_type": "code",
   "execution_count": 8,
   "metadata": {},
   "outputs": [
    {
     "name": "stdout",
     "output_type": "stream",
     "text": [
      "1r\n"
     ]
    }
   ],
   "source": [
    "import sys \n",
    "for line in sys.stdin:\n",
    "    s = line\n",
    "\n",
    "    list1 = []\n",
    "    list2 = []\n",
    "\n",
    "    for c in s:\n",
    "        if c not in list1 and c not in list2:\n",
    "            list1.append(c)\n",
    "        elif c in list1:\n",
    "            list2.append(c)\n",
    "        else:\n",
    "            pass\n",
    "\n",
    "    news = \"\"\n",
    "    for e in list1:\n",
    "        news += e\n",
    "    print(news)"
   ]
  }
 ],
 "metadata": {
  "kernelspec": {
   "display_name": "Python 3",
   "language": "python",
   "name": "python3"
  },
  "language_info": {
   "codemirror_mode": {
    "name": "ipython",
    "version": 3
   },
   "file_extension": ".py",
   "mimetype": "text/x-python",
   "name": "python",
   "nbconvert_exporter": "python",
   "pygments_lexer": "ipython3",
   "version": "3.9.0"
  }
 },
 "nbformat": 4,
 "nbformat_minor": 4
}
