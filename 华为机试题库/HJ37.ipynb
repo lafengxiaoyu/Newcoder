{
 "cells": [
  {
   "cell_type": "markdown",
   "metadata": {},
   "source": [
    "我犯了两个错误，第一三个月就成长其实就两个月长大了，然后9个月之后的其实是八个整月"
   ]
  },
  {
   "cell_type": "code",
   "execution_count": 28,
   "metadata": {},
   "outputs": [
    {
     "name": "stdout",
     "output_type": "stream",
     "text": [
      "2584\n"
     ]
    }
   ],
   "source": [
    "try:\n",
    "    while True:\n",
    "        month = int(input())\n",
    "\n",
    "        total = 0\n",
    "\n",
    "        # new born\n",
    "        number0 = 1\n",
    "        # 1 month \n",
    "        number1 = 0\n",
    "        # adult, older than 2 month\n",
    "        adult = 0\n",
    "\n",
    "        for i in range(month - 1):\n",
    "\n",
    "            adult += number1\n",
    "            number1 = number0\n",
    "            number0 = adult\n",
    "\n",
    "\n",
    "        print(number0+number1+adult)\n",
    "except:\n",
    "    pass"
   ]
  }
 ],
 "metadata": {
  "kernelspec": {
   "display_name": "Python 3",
   "language": "python",
   "name": "python3"
  },
  "language_info": {
   "codemirror_mode": {
    "name": "ipython",
    "version": 3
   },
   "file_extension": ".py",
   "mimetype": "text/x-python",
   "name": "python",
   "nbconvert_exporter": "python",
   "pygments_lexer": "ipython3",
   "version": "3.9.0"
  }
 },
 "nbformat": 4,
 "nbformat_minor": 4
}
