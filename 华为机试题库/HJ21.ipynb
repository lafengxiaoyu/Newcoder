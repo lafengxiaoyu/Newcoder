{
 "cells": [
  {
   "cell_type": "markdown",
   "metadata": {},
   "source": [
    "还行这个题"
   ]
  },
  {
   "cell_type": "code",
   "execution_count": null,
   "metadata": {},
   "outputs": [],
   "source": [
    "try:\n",
    "    while True:\n",
    "        s = input()\n",
    "        # s = 'YUANzhi1987'\n",
    "\n",
    "        snew = \"\"\n",
    "        for c in s:\n",
    "            if c >= 'a' and c <= 'z':\n",
    "                if c >= 'a' and c <= 'c':\n",
    "                    snew += '2'\n",
    "                elif c <= 'f':\n",
    "                    snew += '3'\n",
    "                elif c <= 'i':\n",
    "                    snew += '4'\n",
    "                elif c <= 'l':\n",
    "                    snew += '5'\n",
    "                elif c <= 'o':\n",
    "                    snew += '6'\n",
    "                elif c <= 's':\n",
    "                    snew += '7'\n",
    "                elif c <= 'v':\n",
    "                    snew += '8'\n",
    "                elif c <= 'z':\n",
    "                    snew += '9'\n",
    "            elif c >= 'A' and c <= 'Y':\n",
    "                snew += chr(ord(c) - ord('A') + ord('a') + 1)\n",
    "            elif c == 'Z':\n",
    "                snew += 'a'\n",
    "            else:\n",
    "                snew += c\n",
    "        \n",
    "        print(snew)\n",
    "except:\n",
    "    pass"
   ]
  }
 ],
 "metadata": {
  "kernelspec": {
   "display_name": "Python 3",
   "language": "python",
   "name": "python3"
  },
  "language_info": {
   "codemirror_mode": {
    "name": "ipython",
    "version": 3
   },
   "file_extension": ".py",
   "mimetype": "text/x-python",
   "name": "python",
   "nbconvert_exporter": "python",
   "pygments_lexer": "ipython3",
   "version": "3.9.0"
  }
 },
 "nbformat": 4,
 "nbformat_minor": 4
}
