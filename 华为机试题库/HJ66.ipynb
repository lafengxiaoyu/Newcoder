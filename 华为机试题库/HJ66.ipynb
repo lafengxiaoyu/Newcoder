{
 "cells": [
  {
   "cell_type": "markdown",
   "metadata": {},
   "source": [
    "用两个list，考虑明白所有线索就可以了"
   ]
  },
  {
   "cell_type": "code",
   "execution_count": null,
   "metadata": {},
   "outputs": [],
   "source": [
    "order_list = ['reset', 'reset board', 'board add', 'board delete', 'reboot backplane', 'backplane abort']\n",
    "run = ['reset what', 'board fault', 'where to add', 'no board at all', 'impossible', 'install first']\n",
    "\n",
    "\n",
    "\n",
    "try:\n",
    "    while True:\n",
    "        s = input()\n",
    "        \n",
    "        #s = \"bo a\"\n",
    "\n",
    "        ourorder = \"\"\n",
    "\n",
    "        # 输入两个字串\n",
    "        if \" \" in s:\n",
    "            s1, s2 = s.split(\" \")\n",
    "            orders = []\n",
    "\n",
    "            for order in order_list:\n",
    "                if \" \" in order:\n",
    "                    sorder1, sorder2 = order.split(\" \")\n",
    "                    if (s1 == sorder1[:len(s1)]) and (s2 == sorder2[:len(s2)]):\n",
    "                        orders.append(order)\n",
    "\n",
    "            if len(orders) == 1:\n",
    "                ourorder = orders[0]\n",
    "            else:\n",
    "                print (\"unknown command\")\n",
    "\n",
    "        # 输入一个字串\n",
    "        else:\n",
    "            orders = []\n",
    "            for order in order_list:\n",
    "\n",
    "                if (s == order[:len(s)]) and (\" \" not in order):\n",
    "                    orders.append(order)\n",
    "            if len(orders) == 1:\n",
    "                ourorder = orders[0]\n",
    "            else:\n",
    "                print (\"unknown command\")\n",
    "\n",
    "        if ourorder == 'reset':\n",
    "            print ('reset what')\n",
    "        elif ourorder == 'reset board':\n",
    "            print ('board fault')\n",
    "        elif ourorder == 'board add':\n",
    "            print ('where to add')\n",
    "        elif ourorder == 'board delete':\n",
    "            print ('no board at all')\n",
    "        elif ourorder == 'reboot backplane':\n",
    "            print ('impossible')\n",
    "        elif ourorder == 'backplane abort':\n",
    "            print ('install first')\n",
    "except:\n",
    "    pass"
   ]
  }
 ],
 "metadata": {
  "kernelspec": {
   "display_name": "Python 3",
   "language": "python",
   "name": "python3"
  },
  "language_info": {
   "codemirror_mode": {
    "name": "ipython",
    "version": 3
   },
   "file_extension": ".py",
   "mimetype": "text/x-python",
   "name": "python",
   "nbconvert_exporter": "python",
   "pygments_lexer": "ipython3",
   "version": "3.9.0"
  }
 },
 "nbformat": 4,
 "nbformat_minor": 4
}
