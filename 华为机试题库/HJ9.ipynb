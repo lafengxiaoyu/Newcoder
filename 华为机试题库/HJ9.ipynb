{
 "cells": [
  {
   "cell_type": "markdown",
   "metadata": {},
   "source": [
    "简单题"
   ]
  },
  {
   "cell_type": "code",
   "execution_count": 6,
   "metadata": {},
   "outputs": [
    {
     "name": "stdout",
     "output_type": "stream",
     "text": [
      "9876673\n",
      "37689"
     ]
    }
   ],
   "source": [
    "s = input()\n",
    "\n",
    "list_morethan1 = []\n",
    "for i in range(len(s)):\n",
    "    if s[-1 - i] not in list_morethan1 :\n",
    "        print(s[-1 - i], end = '')\n",
    "        list_morethan1.append(s[-1 - i])"
   ]
  }
 ],
 "metadata": {
  "kernelspec": {
   "display_name": "Python 3",
   "language": "python",
   "name": "python3"
  },
  "language_info": {
   "codemirror_mode": {
    "name": "ipython",
    "version": 3
   },
   "file_extension": ".py",
   "mimetype": "text/x-python",
   "name": "python",
   "nbconvert_exporter": "python",
   "pygments_lexer": "ipython3",
   "version": "3.9.0"
  }
 },
 "nbformat": 4,
 "nbformat_minor": 4
}
