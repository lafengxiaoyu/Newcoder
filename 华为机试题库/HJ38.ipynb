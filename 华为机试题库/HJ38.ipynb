{
 "cells": [
  {
   "cell_type": "markdown",
   "metadata": {},
   "source": [
    "简单题"
   ]
  },
  {
   "cell_type": "code",
   "execution_count": null,
   "metadata": {},
   "outputs": [],
   "source": [
    "try:\n",
    "    while True:\n",
    "        l = int(input())\n",
    "        \n",
    "        #l = 1\n",
    "\n",
    "        length = 0\n",
    "        height = l\n",
    "\n",
    "        for i in range(5):\n",
    "            if i != 0:\n",
    "                length += 2 * height\n",
    "            else:\n",
    "                length += height\n",
    "\n",
    "            height /= 2\n",
    "\n",
    "        print(length)\n",
    "        print(height)\n",
    "except:\n",
    "    pass"
   ]
  }
 ],
 "metadata": {
  "kernelspec": {
   "display_name": "Python 3",
   "language": "python",
   "name": "python3"
  },
  "language_info": {
   "codemirror_mode": {
    "name": "ipython",
    "version": 3
   },
   "file_extension": ".py",
   "mimetype": "text/x-python",
   "name": "python",
   "nbconvert_exporter": "python",
   "pygments_lexer": "ipython3",
   "version": "3.9.0"
  }
 },
 "nbformat": 4,
 "nbformat_minor": 4
}
