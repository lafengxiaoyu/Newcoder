{
 "cells": [
  {
   "cell_type": "code",
   "execution_count": 9,
   "metadata": {},
   "outputs": [],
   "source": [
    "s = input()\n",
    "\n",
    "lists = s.split()\n",
    "number_of_blank = len(lists) - 1\n",
    "\n",
    "reverse_s = lists[-1]\n",
    "\n",
    "for i in range(number_of_blank):\n",
    "    reverse_s += ' ' + lists[-2 - i]\n",
    "    \n",
    "print(reverse_s)"
   ]
  }
 ],
 "metadata": {
  "kernelspec": {
   "display_name": "Python 3",
   "language": "python",
   "name": "python3"
  },
  "language_info": {
   "codemirror_mode": {
    "name": "ipython",
    "version": 3
   },
   "file_extension": ".py",
   "mimetype": "text/x-python",
   "name": "python",
   "nbconvert_exporter": "python",
   "pygments_lexer": "ipython3",
   "version": "3.9.0"
  }
 },
 "nbformat": 4,
 "nbformat_minor": 4
}
