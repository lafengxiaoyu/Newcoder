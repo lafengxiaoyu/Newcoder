{
 "cells": [
  {
   "cell_type": "markdown",
   "metadata": {},
   "source": [
    "需要注意的蛮多的\n",
    "- 1. insert 和remove的用法\n",
    "- 2. 输入和题目有区别\n",
    "- 3. 并不需要实现链表，有list也是可以的 "
   ]
  },
  {
   "cell_type": "code",
   "execution_count": 13,
   "metadata": {},
   "outputs": [
    {
     "name": "stdout",
     "output_type": "stream",
     "text": [
      "5\n",
      "2\n",
      "3 2\n",
      "4 3\n",
      "5 2\n",
      "1 4\n",
      "3\n",
      "2 5 4 1 \n"
     ]
    }
   ],
   "source": [
    "try:\n",
    "    while True:\n",
    "        s = list(map(int, input().split(\" \")))\n",
    "        k = s[0]\n",
    "        head = s[1]\n",
    "        listnode = []\n",
    "        for i in range(k - 1):\n",
    "            listnode.append([s[2 * (i + 1)], s[2 * (i + 1) + 1]])\n",
    "        delete = s[-1]    \n",
    "        \n",
    "#         k = int(input())\n",
    "#         head = int(input())\n",
    "#         listnode = []\n",
    "#         for i in range(k - 1):\n",
    "#             listnode.append(list(map(int, input().split())))\n",
    "#         delete = int(input())\n",
    "        \n",
    "#         k = 5\n",
    "#         head =2\n",
    "#         listnode = [[3, 2], [4, 3], [5, 2], [1, 4]]\n",
    "#         delete = 3\n",
    "\n",
    "        list1 = []\n",
    "        list1.append(head)\n",
    "\n",
    "        for node_tail, node_head in listnode:\n",
    "            for i in range(len(list1)):\n",
    "                if node_head == list1[i]:\n",
    "                    list1.insert(i + 1, node_tail)\n",
    "                    continue\n",
    "\n",
    "        while delete in list1:\n",
    "            list1.remove(delete)\n",
    "\n",
    "        for node in list1:\n",
    "            print(node, end = \" \")\n",
    "        print()\n",
    "except:\n",
    "    pass"
   ]
  },
  {
   "cell_type": "code",
   "execution_count": null,
   "metadata": {},
   "outputs": [],
   "source": []
  }
 ],
 "metadata": {
  "kernelspec": {
   "display_name": "Python 3",
   "language": "python",
   "name": "python3"
  },
  "language_info": {
   "codemirror_mode": {
    "name": "ipython",
    "version": 3
   },
   "file_extension": ".py",
   "mimetype": "text/x-python",
   "name": "python",
   "nbconvert_exporter": "python",
   "pygments_lexer": "ipython3",
   "version": "3.9.0"
  }
 },
 "nbformat": 4,
 "nbformat_minor": 4
}
