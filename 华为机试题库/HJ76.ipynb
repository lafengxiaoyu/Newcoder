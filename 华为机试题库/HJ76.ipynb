{
 "cells": [
  {
   "cell_type": "markdown",
   "metadata": {},
   "source": [
    "问题不大，直白翻译"
   ]
  },
  {
   "cell_type": "code",
   "execution_count": 1,
   "metadata": {},
   "outputs": [
    {
     "name": "stdout",
     "output_type": "stream",
     "text": [
      "6\n",
      "31+33+35+37+39+41\n"
     ]
    }
   ],
   "source": [
    "try:\n",
    "    while True:\n",
    "        #m = 101\n",
    "        m = int(input())\n",
    "\n",
    "        mean = int (m ** 3 / m)\n",
    "        # minm = mean - 2 * m / 2 + 1\n",
    "        minm = mean - m + 1\n",
    "\n",
    "        s = \"\"\n",
    "\n",
    "        for i in range(m):\n",
    "            s += str(minm + 2 * i)\n",
    "            if i != m - 1:\n",
    "                s += '+'\n",
    "        print(s)\n",
    "except:\n",
    "    pass"
   ]
  }
 ],
 "metadata": {
  "kernelspec": {
   "display_name": "Python 3",
   "language": "python",
   "name": "python3"
  },
  "language_info": {
   "codemirror_mode": {
    "name": "ipython",
    "version": 3
   },
   "file_extension": ".py",
   "mimetype": "text/x-python",
   "name": "python",
   "nbconvert_exporter": "python",
   "pygments_lexer": "ipython3",
   "version": "3.9.0"
  }
 },
 "nbformat": 4,
 "nbformat_minor": 4
}
