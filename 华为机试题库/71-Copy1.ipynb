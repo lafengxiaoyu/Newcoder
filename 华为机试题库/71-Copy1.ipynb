{
 "cells": [
  {
   "cell_type": "markdown",
   "metadata": {},
   "source": [
    "eval 这个函数可以直接求表达式，虽然说太耍赖了。。"
   ]
  },
  {
   "cell_type": "code",
   "execution_count": 17,
   "metadata": {},
   "outputs": [],
   "source": [
    "s = \"(A(BC))\"\n",
    "\n",
    "n = 3\n",
    "listm = [[50, 10], [10, 20], [20, 5]]"
   ]
  },
  {
   "cell_type": "code",
   "execution_count": 27,
   "metadata": {},
   "outputs": [
    {
     "name": "stdout",
     "output_type": "stream",
     "text": [
      "[1, 2]\n",
      "[10, 5]\n",
      "10000\n",
      "[0]\n",
      "[50, 10]\n",
      "10000\n"
     ]
    }
   ],
   "source": [
    "total = 0\n",
    "\n",
    "lists = []\n",
    "\n",
    "for c in s:\n",
    "    if c != \")\":\n",
    "        lists.append(c)\n",
    "    else:\n",
    "        sublist = []\n",
    "        while True:\n",
    "            head = lists.pop()\n",
    "            if head == '(':\n",
    "                break\n",
    "            else:\n",
    "                sublist.append(ord(head) - ord('A'))\n",
    "        sublist.reverse()\n",
    "        \n",
    "        \n",
    "        print(sublist)\n",
    "        for m in range(len(sublist) - 1):\n",
    "            x = listm[m][0]\n",
    "            y = listm[m][1]\n",
    "            z = listm[m + 1][1]\n",
    "            \n",
    "            total += x * y * z\n",
    "            \n",
    "        xinjuzhen = [listm[sublist[0]][0], listm[sublist[-1]][1]]\n",
    "        print(xinjuzhen)\n",
    "        print(total)\n",
    "            "
   ]
  },
  {
   "cell_type": "code",
   "execution_count": 11,
   "metadata": {},
   "outputs": [],
   "source": [
    "l1 = [1, 2, 3]"
   ]
  },
  {
   "cell_type": "code",
   "execution_count": null,
   "metadata": {},
   "outputs": [],
   "source": []
  }
 ],
 "metadata": {
  "kernelspec": {
   "display_name": "Python 3",
   "language": "python",
   "name": "python3"
  },
  "language_info": {
   "codemirror_mode": {
    "name": "ipython",
    "version": 3
   },
   "file_extension": ".py",
   "mimetype": "text/x-python",
   "name": "python",
   "nbconvert_exporter": "python",
   "pygments_lexer": "ipython3",
   "version": "3.9.0"
  }
 },
 "nbformat": 4,
 "nbformat_minor": 4
}
