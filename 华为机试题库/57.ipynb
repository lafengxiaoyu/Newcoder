{
 "cells": [
  {
   "cell_type": "markdown",
   "metadata": {},
   "source": [
    "利用列表"
   ]
  },
  {
   "cell_type": "code",
   "execution_count": 36,
   "metadata": {},
   "outputs": [
    {
     "name": "stdout",
     "output_type": "stream",
     "text": [
      "9876543210\n",
      "1234567890\n",
      "11111111100\n",
      "630222\n",
      "6450\n",
      "636672\n",
      "623192091\n",
      "14426202982832\n",
      "14426826174923\n"
     ]
    }
   ],
   "source": [
    "try:\n",
    "    while True:\n",
    "        # n1 = '9876543210'\n",
    "        # n2 = '1234567890'\n",
    "\n",
    "        n1 = input()\n",
    "        n2 = input()\n",
    "\n",
    "        list1 = []\n",
    "        list2 = []\n",
    "\n",
    "        for n in n1:\n",
    "            list1.append(int(n))\n",
    "        for n in n2:\n",
    "            list2.append(int(n))\n",
    "\n",
    "        len1 = len(list1)\n",
    "        len2 = len(list2)\n",
    "        \n",
    "        # 补成相同长度\n",
    "        if len1 < len2:\n",
    "            list1 = [0] * (len2 - len1) + list1\n",
    "        else:\n",
    "            list2 = [0] * (len1 - len2) + list2\n",
    "\n",
    "        jinwei = 0\n",
    "        for i in range(len(list1)):\n",
    "            list1[- 1 - i] += list2[- 1 - i] + jinwei\n",
    "            if list1[-1 - i] >= 10:\n",
    "                list1[-1 - i] -= 10\n",
    "                jinwei = 1\n",
    "            else:\n",
    "                jinwei = 0\n",
    "        if jinwei == 1:\n",
    "            list1 = [1] + list1\n",
    "\n",
    "        ssum = \"\"\n",
    "        for i in list1:\n",
    "            ssum += str(i)\n",
    "\n",
    "        print(ssum)\n",
    "except:\n",
    "    pass"
   ]
  },
  {
   "cell_type": "code",
   "execution_count": null,
   "metadata": {},
   "outputs": [],
   "source": []
  }
 ],
 "metadata": {
  "kernelspec": {
   "display_name": "Python 3",
   "language": "python",
   "name": "python3"
  },
  "language_info": {
   "codemirror_mode": {
    "name": "ipython",
    "version": 3
   },
   "file_extension": ".py",
   "mimetype": "text/x-python",
   "name": "python",
   "nbconvert_exporter": "python",
   "pygments_lexer": "ipython3",
   "version": "3.9.0"
  }
 },
 "nbformat": 4,
 "nbformat_minor": 4
}
