{
 "cells": [
  {
   "cell_type": "markdown",
   "metadata": {},
   "source": [
    "eval 这个函数可以直接求表达式，虽然说太耍赖了。。"
   ]
  },
  {
   "cell_type": "code",
   "execution_count": 10,
   "metadata": {},
   "outputs": [],
   "source": [
    "s1 = 't?t*.*'\n",
    "s2 = 'txt12.xls'"
   ]
  },
  {
   "cell_type": "code",
   "execution_count": 13,
   "metadata": {},
   "outputs": [
    {
     "name": "stdout",
     "output_type": "stream",
     "text": [
      "t t\n",
      "? x\n",
      "t t\n",
      "*\n",
      ". 1\n",
      "*\n"
     ]
    }
   ],
   "source": [
    "index2 = 0\n",
    "\n",
    "for i in range(len(s1)):\n",
    "    if s1[i] == '?':\n",
    "        print(s1[i], s2[index2])\n",
    "        index2 += 1\n",
    "    elif s1[i] == '*':\n",
    "        print(s1[i])\n",
    "    else:\n",
    "        print(s1[i], s2[index2])\n",
    "        index2 += 1"
   ]
  },
  {
   "cell_type": "code",
   "execution_count": null,
   "metadata": {},
   "outputs": [],
   "source": []
  }
 ],
 "metadata": {
  "kernelspec": {
   "display_name": "Python 3",
   "language": "python",
   "name": "python3"
  },
  "language_info": {
   "codemirror_mode": {
    "name": "ipython",
    "version": 3
   },
   "file_extension": ".py",
   "mimetype": "text/x-python",
   "name": "python",
   "nbconvert_exporter": "python",
   "pygments_lexer": "ipython3",
   "version": "3.9.0"
  }
 },
 "nbformat": 4,
 "nbformat_minor": 4
}
