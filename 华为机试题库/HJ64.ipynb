{
 "cells": [
  {
   "cell_type": "markdown",
   "metadata": {},
   "source": [
    "边界条件注意一下就好了"
   ]
  },
  {
   "cell_type": "code",
   "execution_count": 29,
   "metadata": {},
   "outputs": [
    {
     "name": "stdout",
     "output_type": "stream",
     "text": [
      "2\n",
      "UDDDUUUUUDD\n",
      "1 2 \n",
      "2\n"
     ]
    }
   ],
   "source": [
    "try:\n",
    "    while True:\n",
    "        n = int(input())\n",
    "        s = input()\n",
    "        # n = 10\n",
    "        # s = \"UUUU\"\n",
    "\n",
    "        if n > 4:\n",
    "            now = 1\n",
    "            page = list(range(1,5))\n",
    "\n",
    "            for order in s:\n",
    "                if now == 1 and order == 'U':\n",
    "                    now = n\n",
    "                    page = list(range(n - 3, n + 1))\n",
    "                elif now == n and order == 'D':\n",
    "                    now = 1\n",
    "                    page = list(range(1, 5))\n",
    "                else:\n",
    "                    # 普通翻页\n",
    "                    if now == page[0] and order == 'U':\n",
    "                        now -= 1\n",
    "                        page = [e - 1 for e in page]\n",
    "                    elif now == page[-1] and order == 'D':\n",
    "                        now += 1\n",
    "                        page = [e + 1 for e in page]\n",
    "                    # 不翻页\n",
    "                    else:\n",
    "                        if order == 'U':\n",
    "                            now -= 1\n",
    "                        else:\n",
    "                            now += 1\n",
    "\n",
    "        else:\n",
    "            now = 1\n",
    "            page = list(range(1,n + 1))\n",
    "\n",
    "            for order in s:\n",
    "                if now == 1 and order == 'U':\n",
    "                    now = n\n",
    "                elif now == n and order == 'D':\n",
    "                    now = 1\n",
    "                else:\n",
    "                    if order == 'U':\n",
    "                        now -= 1\n",
    "                    else:\n",
    "                        now += 1\n",
    "\n",
    "        for i in page:\n",
    "            print (i, end = ' ')\n",
    "        print()\n",
    "\n",
    "        print(now)\n",
    "except:\n",
    "    pass"
   ]
  }
 ],
 "metadata": {
  "kernelspec": {
   "display_name": "Python 3",
   "language": "python",
   "name": "python3"
  },
  "language_info": {
   "codemirror_mode": {
    "name": "ipython",
    "version": 3
   },
   "file_extension": ".py",
   "mimetype": "text/x-python",
   "name": "python",
   "nbconvert_exporter": "python",
   "pygments_lexer": "ipython3",
   "version": "3.9.0"
  }
 },
 "nbformat": 4,
 "nbformat_minor": 4
}
