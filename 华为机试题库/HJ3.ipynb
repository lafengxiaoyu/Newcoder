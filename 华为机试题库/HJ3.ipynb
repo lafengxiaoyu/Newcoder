{
 "cells": [
  {
   "cell_type": "markdown",
   "metadata": {},
   "source": [
    "还真是得try然后except"
   ]
  },
  {
   "cell_type": "code",
   "execution_count": 26,
   "metadata": {},
   "outputs": [],
   "source": [
    "try:\n",
    "    while True:\n",
    "        N = input()\n",
    "        N = int(N)\n",
    "        a = []\n",
    "        for i in range(N):\n",
    "            e = input()\n",
    "            a.append(int(e))\n",
    "\n",
    "        # 去重\n",
    "        a = list(set(a))\n",
    "        # 排序\n",
    "        a.sort()\n",
    "\n",
    "        for e in a:\n",
    "            print(e)\n",
    "except:\n",
    "    pass"
   ]
  }
 ],
 "metadata": {
  "kernelspec": {
   "display_name": "Python 3",
   "language": "python",
   "name": "python3"
  },
  "language_info": {
   "codemirror_mode": {
    "name": "ipython",
    "version": 3
   },
   "file_extension": ".py",
   "mimetype": "text/x-python",
   "name": "python",
   "nbconvert_exporter": "python",
   "pygments_lexer": "ipython3",
   "version": "3.9.0"
  }
 },
 "nbformat": 4,
 "nbformat_minor": 4
}
