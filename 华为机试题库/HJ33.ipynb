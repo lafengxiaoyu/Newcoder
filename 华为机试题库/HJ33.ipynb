{
 "cells": [
  {
   "cell_type": "markdown",
   "metadata": {},
   "source": [
    "分成两半做的✌️"
   ]
  },
  {
   "cell_type": "code",
   "execution_count": null,
   "metadata": {},
   "outputs": [],
   "source": [
    "try:\n",
    "    while True:\n",
    "        s = input()\n",
    "        # s = '10.0.3.193'\n",
    "        \n",
    "        ip2 = []\n",
    "        for c in s.split('.'):\n",
    "            n = int(c)\n",
    "\n",
    "            n2 = []\n",
    "            while n != 0:\n",
    "                yushu = n % 2\n",
    "                n2.append(yushu)\n",
    "\n",
    "                n = int((n - yushu) / 2)\n",
    "\n",
    "            n22 = []\n",
    "            for i in range(len(n2)):\n",
    "                n22.append(n2[- 1 - i])\n",
    "\n",
    "            n22 = [0] * (8 - len(n22)) + n22\n",
    "            ip2 += n22\n",
    "\n",
    "\n",
    "        ip10 = 0\n",
    "        for i in range(len(ip2)):\n",
    "            if ip2[i] == 1:\n",
    "                ip10 += 2 ** (31 - i)\n",
    "        print(ip10)\n",
    "        \n",
    "        n = int(input())\n",
    "        list_ip2 = []\n",
    "        while n != 0:\n",
    "                yushu = n % 2\n",
    "                list_ip2.append(yushu)\n",
    "\n",
    "                n = int((n - yushu) / 2)\n",
    "\n",
    "        reverse_list_ip2 = []\n",
    "        for i in range(len(list_ip2)):\n",
    "            reverse_list_ip2.append(list_ip2[-1 - i])\n",
    "\n",
    "        reverse_list_ip2 = [0] * (32 - len(reverse_list_ip2)) + reverse_list_ip2\n",
    "\n",
    "        ip10 = \"\"\n",
    "        for i in range(4):\n",
    "            ip2_i = reverse_list_ip2[i * 8: (i + 1) * 8]\n",
    "\n",
    "            ip10_i = 0\n",
    "            for j in range(8):\n",
    "                ip10_i += ip2_i[j] * (2 ** (7 - j))\n",
    "\n",
    "            ip10 += str(ip10_i)\n",
    "            if i != 3:\n",
    "                ip10 += '.'\n",
    "        print(ip10)\n",
    "        \n",
    "\n",
    "except:\n",
    "    pass"
   ]
  }
 ],
 "metadata": {
  "kernelspec": {
   "display_name": "Python 3",
   "language": "python",
   "name": "python3"
  },
  "language_info": {
   "codemirror_mode": {
    "name": "ipython",
    "version": 3
   },
   "file_extension": ".py",
   "mimetype": "text/x-python",
   "name": "python",
   "nbconvert_exporter": "python",
   "pygments_lexer": "ipython3",
   "version": "3.9.0"
  }
 },
 "nbformat": 4,
 "nbformat_minor": 4
}
