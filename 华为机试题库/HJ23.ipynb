{
 "cells": [
  {
   "cell_type": "markdown",
   "metadata": {},
   "source": [
    "先是算了半天出现次数"
   ]
  },
  {
   "cell_type": "code",
   "execution_count": 5,
   "metadata": {},
   "outputs": [],
   "source": [
    "try:\n",
    "    while True:\n",
    "        s = input()\n",
    "        \n",
    "        # s = 'abcdd'\n",
    "        # s = 'aabcddd'\n",
    "\n",
    "        lists = []\n",
    "        for c in s:\n",
    "            lists.append(c)\n",
    "\n",
    "        sortlists = sorted(lists)\n",
    "\n",
    "\n",
    "        setletter = []\n",
    "        count = []\n",
    "\n",
    "        letter = None\n",
    "        num = 1\n",
    "\n",
    "        for c in sortlists:\n",
    "            # 遇到新的字母\n",
    "            if c != letter:\n",
    "                setletter.append(c)\n",
    "                if letter != None:\n",
    "\n",
    "                    count.append(num)\n",
    "\n",
    "                letter = c\n",
    "                num = 1\n",
    "            else:\n",
    "                num += 1\n",
    "\n",
    "        count.append(num)\n",
    "\n",
    "\n",
    "        mincount = min(count)\n",
    "\n",
    "        minletter = []\n",
    "\n",
    "        for i in range(len(setletter)):\n",
    "            if count[i] == mincount:\n",
    "                minletter.append(setletter[i])\n",
    "\n",
    "        news = ''\n",
    "        for c in s:\n",
    "            if c not in minletter:\n",
    "                news += c\n",
    "        print(news)\n",
    "\n",
    "except:\n",
    "    pass"
   ]
  },
  {
   "cell_type": "code",
   "execution_count": null,
   "metadata": {},
   "outputs": [],
   "source": []
  }
 ],
 "metadata": {
  "kernelspec": {
   "display_name": "Python 3",
   "language": "python",
   "name": "python3"
  },
  "language_info": {
   "codemirror_mode": {
    "name": "ipython",
    "version": 3
   },
   "file_extension": ".py",
   "mimetype": "text/x-python",
   "name": "python",
   "nbconvert_exporter": "python",
   "pygments_lexer": "ipython3",
   "version": "3.9.0"
  }
 },
 "nbformat": 4,
 "nbformat_minor": 4
}
