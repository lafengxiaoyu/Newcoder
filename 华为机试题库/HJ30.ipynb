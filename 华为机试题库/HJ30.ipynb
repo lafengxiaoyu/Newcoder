{
 "cells": [
  {
   "cell_type": "markdown",
   "metadata": {},
   "source": [
    "需要相当的认真才行"
   ]
  },
  {
   "cell_type": "code",
   "execution_count": 50,
   "metadata": {},
   "outputs": [
    {
     "name": "stdout",
     "output_type": "stream",
     "text": [
      "dec fab\n",
      "5D37BF\n"
     ]
    }
   ],
   "source": [
    "def trans16(c):\n",
    "    n16 = 0\n",
    "    if c >= '0' and c <= '9':\n",
    "        n16 = ord(c) - ord('0')\n",
    "    elif c >= 'a' and c <= 'f':\n",
    "        n16 = ord(c) - ord('a') + 10\n",
    "    elif c >= 'A' and c <= 'F':\n",
    "        n16 = ord(c) - ord('A') + 10\n",
    "\n",
    "    list2 = []\n",
    "\n",
    "    while n16 != 0:\n",
    "        yushu = n16 % 2\n",
    "        list2.append(yushu)\n",
    "\n",
    "        n16 = int((n16 - yushu) / 2)\n",
    "\n",
    "    # 加到后面刚好就是反转之后的二进制数\n",
    "    newlist2 = list2 + [0] * (4 - len(list2))\n",
    "\n",
    "    nfanzhuan = 0\n",
    "    for i in range(4):\n",
    "        nfanzhuan += newlist2[i] * (2 ** (3 - i))\n",
    "\n",
    "    if nfanzhuan < 10:\n",
    "        return str(nfanzhuan)\n",
    "    else:\n",
    "        return chr(nfanzhuan - 10 + ord('A'))\n",
    "\n",
    "\n",
    "try:\n",
    "    while True:\n",
    "        s1, s2 = input().split()\n",
    "        \n",
    "#         s1 = \"dec\"\n",
    "#         s2 = \"fab\"\n",
    "\n",
    "        s = s1 + s2\n",
    "\n",
    "        s_ji = []\n",
    "        s_ou = []\n",
    "\n",
    "        for i in range(len(s)):\n",
    "            if i % 2 == 0:\n",
    "                s_ji.append(s[i])\n",
    "            else:\n",
    "                s_ou.append(s[i])\n",
    "\n",
    "        s_ji = sorted(s_ji, reverse = False)\n",
    "        s_ou = sorted(s_ou, reverse = False)\n",
    "        #print(s_ji, s_ou)\n",
    "\n",
    "        new_s = \"\"\n",
    "        for i in range(len(s_ji)):\n",
    "            new_s += s_ji[i]\n",
    "            if i < len(s_ou):\n",
    "                new_s += s_ou[i]\n",
    "\n",
    "        output = \"\"\n",
    "        for c in new_s:\n",
    "            if (c >= '0' and c <= '9') or (c >= 'a' and c <= 'f') or (c >= 'A' and c <= 'F'):\n",
    "                output += trans16(c)\n",
    "            else:\n",
    "                output += c\n",
    "        print(output)\n",
    "except:\n",
    "    pass"
   ]
  }
 ],
 "metadata": {
  "kernelspec": {
   "display_name": "Python 3",
   "language": "python",
   "name": "python3"
  },
  "language_info": {
   "codemirror_mode": {
    "name": "ipython",
    "version": 3
   },
   "file_extension": ".py",
   "mimetype": "text/x-python",
   "name": "python",
   "nbconvert_exporter": "python",
   "pygments_lexer": "ipython3",
   "version": "3.9.0"
  }
 },
 "nbformat": 4,
 "nbformat_minor": 4
}
