{
 "cells": [
  {
   "cell_type": "markdown",
   "metadata": {},
   "source": [
    "简单题，N**2也能过"
   ]
  },
  {
   "cell_type": "code",
   "execution_count": null,
   "metadata": {},
   "outputs": [],
   "source": [
    "try:\n",
    "    while True:\n",
    "        n = int(input())\n",
    "        listn = list(input().split())\n",
    "        k = int(input())\n",
    "        listk = list(input().split())\n",
    "#         n = 4\n",
    "#         listn = ['A', 'B', 'C', 'D']\n",
    "#         k = 8\n",
    "#         listk = ['A', 'D', 'E', 'CF', 'A', 'GG', 'A', 'B']\n",
    "\n",
    "        list_count = [0] * n\n",
    "        invalid = 0\n",
    "\n",
    "        for kk in listk:\n",
    "            flag = 0\n",
    "            for i in range(n):\n",
    "                if kk == listn[i]:\n",
    "                    list_count[i] += 1\n",
    "                    flag = 1\n",
    "                    break\n",
    "            if flag == 0:\n",
    "                invalid += 1\n",
    "\n",
    "        for i in range(n):\n",
    "            print(\"{} : {}\".format(listn[i],list_count[i]))\n",
    "        print(\"Invalid : {}\".format(invalid))\n",
    "except:\n",
    "    pass"
   ]
  }
 ],
 "metadata": {
  "kernelspec": {
   "display_name": "Python 3",
   "language": "python",
   "name": "python3"
  },
  "language_info": {
   "codemirror_mode": {
    "name": "ipython",
    "version": 3
   },
   "file_extension": ".py",
   "mimetype": "text/x-python",
   "name": "python",
   "nbconvert_exporter": "python",
   "pygments_lexer": "ipython3",
   "version": "3.9.0"
  }
 },
 "nbformat": 4,
 "nbformat_minor": 4
}
