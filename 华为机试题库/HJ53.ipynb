{
 "cells": [
  {
   "cell_type": "markdown",
   "metadata": {},
   "source": [
    "大胆的猜猜规律，其实不难"
   ]
  },
  {
   "cell_type": "code",
   "execution_count": null,
   "metadata": {},
   "outputs": [],
   "source": [
    "try:\n",
    "    while True:\n",
    "        n = int(input())\n",
    "        \n",
    "        if n <= 2:\n",
    "            print(-1)\n",
    "        else:\n",
    "            # 奇数的时候\n",
    "            if (n - 1) % 2 == 0:\n",
    "                print(2)\n",
    "            # 偶数的情形\n",
    "            else:\n",
    "                if (n % 4) == 0:\n",
    "                    print(3)\n",
    "                else:\n",
    "                    print(4)\n",
    "except:\n",
    "    pass"
   ]
  }
 ],
 "metadata": {
  "kernelspec": {
   "display_name": "Python 3",
   "language": "python",
   "name": "python3"
  },
  "language_info": {
   "codemirror_mode": {
    "name": "ipython",
    "version": 3
   },
   "file_extension": ".py",
   "mimetype": "text/x-python",
   "name": "python",
   "nbconvert_exporter": "python",
   "pygments_lexer": "ipython3",
   "version": "3.9.0"
  }
 },
 "nbformat": 4,
 "nbformat_minor": 4
}
