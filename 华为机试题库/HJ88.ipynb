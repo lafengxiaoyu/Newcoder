{
 "cells": [
  {
   "cell_type": "markdown",
   "metadata": {},
   "source": [
    "还行吧这个题，边界条件需要细心"
   ]
  },
  {
   "cell_type": "code",
   "execution_count": null,
   "metadata": {},
   "outputs": [],
   "source": [
    "try:\n",
    "    while True:\n",
    "        s = input()\n",
    "        \n",
    "        #s = '4 4 4 4-joker JOKER'\n",
    "\n",
    "        s1, s2 = s.split('-')\n",
    "\n",
    "        lists1 = s1.split(' ')\n",
    "        lists2 = s2.split(' ')\n",
    "\n",
    "        # 有一个是王炸\n",
    "        if set(lists1) == {'JOKER', 'joker'}:\n",
    "            print(s1)\n",
    "        elif set(lists2) == {'JOKER', 'joker'}:\n",
    "            print(s2)\n",
    "        # 存在其他炸弹\n",
    "        elif len(lists1)== 4 and len(lists2) != 4:\n",
    "            print(s1)\n",
    "        elif len(lists2)== 4 and len(lists1) != 4:\n",
    "            print(s2)\n",
    "        elif len(lists1)== 4 and len(lists2) == 4:\n",
    "            if lists1[0] > lists2[0]:\n",
    "                print (s1)\n",
    "            else:\n",
    "                print (s2)\n",
    "        # 不存在炸弹\n",
    "        elif len(lists1) == len(lists2):\n",
    "            if len(lists1) == 5:\n",
    "                if int(lists1[0]) > int(lists2[0]):\n",
    "                    print (s1)\n",
    "                else:\n",
    "                    print (s2)\n",
    "            else:\n",
    "                if lists1[0] > lists2[0]:\n",
    "                    print (s1)\n",
    "                else:\n",
    "                    print (s2)\n",
    "        else:\n",
    "            print (\"ERROR\")\n",
    "except:\n",
    "    pass"
   ]
  }
 ],
 "metadata": {
  "kernelspec": {
   "display_name": "Python 3",
   "language": "python",
   "name": "python3"
  },
  "language_info": {
   "codemirror_mode": {
    "name": "ipython",
    "version": 3
   },
   "file_extension": ".py",
   "mimetype": "text/x-python",
   "name": "python",
   "nbconvert_exporter": "python",
   "pygments_lexer": "ipython3",
   "version": "3.9.0"
  }
 },
 "nbformat": 4,
 "nbformat_minor": 4
}
