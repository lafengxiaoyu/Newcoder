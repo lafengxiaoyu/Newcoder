{
 "cells": [
  {
   "cell_type": "markdown",
   "metadata": {},
   "source": [
    "还行这个题，tricy在剩下两瓶的时候借一瓶这个事情上"
   ]
  },
  {
   "cell_type": "code",
   "execution_count": null,
   "metadata": {},
   "outputs": [],
   "source": [
    "try:\n",
    "    while True:\n",
    "        n = int(input())\n",
    "        \n",
    "        if n == 0:\n",
    "            break\n",
    "        else:\n",
    "            total = 0\n",
    "\n",
    "            while n >= 3:\n",
    "                yuxia = n % 3\n",
    "\n",
    "                huande = int((n - yuxia) / 3)\n",
    "                total += huande\n",
    "\n",
    "                n = yuxia + huande\n",
    "\n",
    "            if n == 2:\n",
    "                total += 1\n",
    "\n",
    "            print(total)\n",
    "except:\n",
    "    pass"
   ]
  }
 ],
 "metadata": {
  "kernelspec": {
   "display_name": "Python 3",
   "language": "python",
   "name": "python3"
  },
  "language_info": {
   "codemirror_mode": {
    "name": "ipython",
    "version": 3
   },
   "file_extension": ".py",
   "mimetype": "text/x-python",
   "name": "python",
   "nbconvert_exporter": "python",
   "pygments_lexer": "ipython3",
   "version": "3.9.0"
  }
 },
 "nbformat": 4,
 "nbformat_minor": 4
}
