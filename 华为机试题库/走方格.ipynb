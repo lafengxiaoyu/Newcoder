{
 "cells": [
  {
   "cell_type": "markdown",
   "metadata": {},
   "source": [
    "用二维数组代替递归"
   ]
  },
  {
   "cell_type": "code",
   "execution_count": 36,
   "metadata": {},
   "outputs": [
    {
     "name": "stdout",
     "output_type": "stream",
     "text": [
      "2 2\n",
      "6\n",
      "1 2\n",
      "3\n"
     ]
    }
   ],
   "source": [
    "try:\n",
    "    while True:\n",
    "        n, m = list(map(int, input().split()))\n",
    "        #print(n, m)\n",
    "        # n = 1\n",
    "        # m = 1\n",
    "        \n",
    "#         if N <= M:\n",
    "#             n = N\n",
    "#             m = M\n",
    "#         else:\n",
    "#             n = M\n",
    "#             m = N\n",
    "#        n, m = min(N,M), max(N,M)\n",
    "        if n > m:\n",
    "            n, m = m, n\n",
    "        \n",
    "        matrix = [[2]]\n",
    "\n",
    "        for i in range(n):\n",
    "            if i != 0:\n",
    "                matrix.append([matrix[0][i]])\n",
    "                for j in range(m - 1):\n",
    "                    #print (i,j,matrix[i][j - 1], matrix[i-1],matrix[i - 1][j + 1])\n",
    "                    matrix[i].append(matrix[i - 1][j + 1] + matrix[i][j])\n",
    "            else:\n",
    "                for j in range(m - 1):\n",
    "                    matrix[0].append(matrix[0][j] + 1)\n",
    "\n",
    "        #print(matrix)\n",
    "        print (matrix[n - 1][m - 1])\n",
    "except:\n",
    "    pass"
   ]
  }
 ],
 "metadata": {
  "kernelspec": {
   "display_name": "Python 3",
   "language": "python",
   "name": "python3"
  },
  "language_info": {
   "codemirror_mode": {
    "name": "ipython",
    "version": 3
   },
   "file_extension": ".py",
   "mimetype": "text/x-python",
   "name": "python",
   "nbconvert_exporter": "python",
   "pygments_lexer": "ipython3",
   "version": "3.9.0"
  }
 },
 "nbformat": 4,
 "nbformat_minor": 4
}
