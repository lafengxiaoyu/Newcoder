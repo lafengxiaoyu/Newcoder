{
 "cells": [
  {
   "cell_type": "markdown",
   "metadata": {},
   "source": [
    "记住s[::-1]可以用来反转字符串，还有那个输出0的。。不让他输出就完了"
   ]
  },
  {
   "cell_type": "code",
   "execution_count": null,
   "metadata": {},
   "outputs": [
    {
     "name": "stdout",
     "output_type": "stream",
     "text": [
      "cdabbacc\n",
      "4\n"
     ]
    }
   ],
   "source": [
    "\n",
    "while True:\n",
    "    try:\n",
    "        s = input()\n",
    "        \n",
    "        #s = 'cdabbacc'\n",
    "        \n",
    "        maxs = \"\"\n",
    "        maxl = 0\n",
    "\n",
    "        for i in range(len(s) - 1):\n",
    "            for j in range(i + 1, len(s)):\n",
    "                s1 = s[i:j]\n",
    "                s2 = s1[::-1]\n",
    "                if s1 == s2 and (j - i) > maxl:\n",
    "                    maxs = s1\n",
    "                    maxl = j - i\n",
    "        if max != 0:\n",
    "            print(maxl)\n",
    "    except:\n",
    "        break"
   ]
  }
 ],
 "metadata": {
  "kernelspec": {
   "display_name": "Python 3",
   "language": "python",
   "name": "python3"
  },
  "language_info": {
   "codemirror_mode": {
    "name": "ipython",
    "version": 3
   },
   "file_extension": ".py",
   "mimetype": "text/x-python",
   "name": "python",
   "nbconvert_exporter": "python",
   "pygments_lexer": "ipython3",
   "version": "3.9.0"
  }
 },
 "nbformat": 4,
 "nbformat_minor": 4
}
