{
 "cells": [
  {
   "cell_type": "markdown",
   "metadata": {},
   "source": [
    "- 重点1: 还是得循环到开方级别，注意得用 ** 0.5表示开方，并且得加1\n",
    "- 重点2：注意输出格式"
   ]
  },
  {
   "cell_type": "code",
   "execution_count": 1,
   "metadata": {},
   "outputs": [
    {
     "name": "stdout",
     "output_type": "stream",
     "text": [
      "180\n",
      "2 2 3 3 5 "
     ]
    }
   ],
   "source": [
    "a = int(input())\n",
    "\n",
    "def zhishu(n):\n",
    "    if n <= 3 or n == 5:\n",
    "        return True\n",
    "    if n == 4:\n",
    "        return 2\n",
    "    else:\n",
    "        for i in range(2, int(n ** 0.5) + 1):\n",
    "            if n % i == 0:\n",
    "                return i\n",
    "        return True\n",
    "\n",
    "while True:\n",
    "    tf = zhishu(a)\n",
    "    if tf == True:\n",
    "        print(int(a),end = ' ')\n",
    "        break\n",
    "    else:\n",
    "        print(tf,end = ' ')\n",
    "        a = a / tf"
   ]
  }
 ],
 "metadata": {
  "kernelspec": {
   "display_name": "Python 3",
   "language": "python",
   "name": "python3"
  },
  "language_info": {
   "codemirror_mode": {
    "name": "ipython",
    "version": 3
   },
   "file_extension": ".py",
   "mimetype": "text/x-python",
   "name": "python",
   "nbconvert_exporter": "python",
   "pygments_lexer": "ipython3",
   "version": "3.9.0"
  }
 },
 "nbformat": 4,
 "nbformat_minor": 4
}
