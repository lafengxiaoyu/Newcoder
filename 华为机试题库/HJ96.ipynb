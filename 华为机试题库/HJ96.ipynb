{
 "cells": [
  {
   "cell_type": "markdown",
   "metadata": {},
   "source": [
    "找好判断条件也就还行"
   ]
  },
  {
   "cell_type": "code",
   "execution_count": 27,
   "metadata": {},
   "outputs": [
    {
     "name": "stdout",
     "output_type": "stream",
     "text": [
      "5151\n",
      "*5151*\n"
     ]
    }
   ],
   "source": [
    "try:\n",
    "    while True:\n",
    "        s = input()\n",
    "        news = \"\"\n",
    "\n",
    "        pre_number = False\n",
    "        for i in range(len(s)):\n",
    "            if s[i] >= '0' and s[i] <= '9':\n",
    "                if pre_number == False:\n",
    "                    news += '*' + s[i]\n",
    "                else:\n",
    "                    news += s[i]\n",
    "                if i == (len(s) - 1):\n",
    "                    news += '*'\n",
    "                elif s[i + 1] > '9' or s[i + 1] < '0':\n",
    "                    news += '*'\n",
    "                pre_number = True\n",
    "            else:\n",
    "                pre_number = False\n",
    "                news += s[i]\n",
    "        print(news)\n",
    "except:\n",
    "    pass"
   ]
  }
 ],
 "metadata": {
  "kernelspec": {
   "display_name": "Python 3",
   "language": "python",
   "name": "python3"
  },
  "language_info": {
   "codemirror_mode": {
    "name": "ipython",
    "version": 3
   },
   "file_extension": ".py",
   "mimetype": "text/x-python",
   "name": "python",
   "nbconvert_exporter": "python",
   "pygments_lexer": "ipython3",
   "version": "3.9.0"
  }
 },
 "nbformat": 4,
 "nbformat_minor": 4
}
