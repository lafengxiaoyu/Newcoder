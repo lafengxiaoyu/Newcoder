{
 "cells": [
  {
   "cell_type": "markdown",
   "metadata": {},
   "source": [
    "还是简单题，华为这个困难度好像有点问题"
   ]
  },
  {
   "cell_type": "code",
   "execution_count": 6,
   "metadata": {},
   "outputs": [
    {
     "name": "stdout",
     "output_type": "stream",
     "text": [
      "8\n",
      "1 2 4 9 3 55 64 25\n",
      "0\n",
      "1 2 3 4 9 25 55 64 \n"
     ]
    }
   ],
   "source": [
    "try:\n",
    "    while True:\n",
    "        n = int(input())\n",
    "        listn = list(map(int, input().split()))\n",
    "        o = int(input())\n",
    "        \n",
    "#         n = 8\n",
    "#         listn = [1,2,4,9,3,55,64,25]\n",
    "#         o = 0\n",
    "\n",
    "        if o == 0:\n",
    "            listn = sorted(listn, reverse = False)\n",
    "        else:\n",
    "            listn = sorted(listn, reverse = True)\n",
    "        for c in listn:\n",
    "            print(c, end = ' ')\n",
    "        print()\n",
    "except:\n",
    "    pass"
   ]
  }
 ],
 "metadata": {
  "kernelspec": {
   "display_name": "Python 3",
   "language": "python",
   "name": "python3"
  },
  "language_info": {
   "codemirror_mode": {
    "name": "ipython",
    "version": 3
   },
   "file_extension": ".py",
   "mimetype": "text/x-python",
   "name": "python",
   "nbconvert_exporter": "python",
   "pygments_lexer": "ipython3",
   "version": "3.9.0"
  }
 },
 "nbformat": 4,
 "nbformat_minor": 4
}
