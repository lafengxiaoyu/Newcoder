{
 "cells": [
  {
   "cell_type": "markdown",
   "metadata": {},
   "source": [
    "学会list按照两个keys分别升降序排序，以及样例给的答案是错的。。"
   ]
  },
  {
   "cell_type": "code",
   "execution_count": null,
   "metadata": {},
   "outputs": [],
   "source": [
    "try:\n",
    "    while True:\n",
    "        s = input()\n",
    "#         s = \"aaddccddc\"\n",
    "#         s = '1b1bbbbbbbbb'\n",
    "\n",
    "        lists = []\n",
    "        for c in s:\n",
    "            lists.append(c)\n",
    "\n",
    "        lists_sort = sorted(lists)\n",
    "\n",
    "\n",
    "        list_letter = []\n",
    "        count = []\n",
    "\n",
    "        l = None\n",
    "        n = 1\n",
    "\n",
    "        # 完成统计\n",
    "        for c in lists_sort:\n",
    "            if c != l:\n",
    "                list_letter.append(c)\n",
    "\n",
    "                if l != None:\n",
    "                    count.append(n)\n",
    "\n",
    "                l = c\n",
    "                n = 1\n",
    "            else:\n",
    "                n += 1\n",
    "        count.append(n)\n",
    "\n",
    "\n",
    "        fuhelist = []\n",
    "        for i in range(len(list_letter)):\n",
    "            fuhelist.append([list_letter[i],count[i]])\n",
    "\n",
    "        # 按照降序和升序排序\n",
    "        newfuhelist = sorted(fuhelist, key = lambda fuhe: (fuhe[1], - ord (fuhe[0])), reverse = True)\n",
    "\n",
    "        news = \"\"\n",
    "        for e in newfuhelist:\n",
    "            news += e[0]\n",
    "        print(news)\n",
    "except:\n",
    "    pass"
   ]
  },
  {
   "cell_type": "code",
   "execution_count": null,
   "metadata": {},
   "outputs": [],
   "source": []
  }
 ],
 "metadata": {
  "kernelspec": {
   "display_name": "Python 3",
   "language": "python",
   "name": "python3"
  },
  "language_info": {
   "codemirror_mode": {
    "name": "ipython",
    "version": 3
   },
   "file_extension": ".py",
   "mimetype": "text/x-python",
   "name": "python",
   "nbconvert_exporter": "python",
   "pygments_lexer": "ipython3",
   "version": "3.9.0"
  }
 },
 "nbformat": 4,
 "nbformat_minor": 4
}
