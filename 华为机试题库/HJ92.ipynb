{
 "cells": [
  {
   "cell_type": "markdown",
   "metadata": {},
   "source": [
    "还行这个题"
   ]
  },
  {
   "cell_type": "code",
   "execution_count": 24,
   "metadata": {},
   "outputs": [
    {
     "name": "stdout",
     "output_type": "stream",
     "text": [
      "123058789,9\n"
     ]
    }
   ],
   "source": [
    "try:\n",
    "    while True:\n",
    "        s = input()\n",
    "        #s = \"abcd12345ed125ss123058789\"\n",
    "        #s = 'a8a72a6a5yy98y65ee1r2'\n",
    "        \n",
    "        \n",
    "        listn = []\n",
    "        maxl = 0\n",
    "\n",
    "        num = \"\"\n",
    "        l = 0\n",
    "        for c in s:\n",
    "            if c >= '0' and c <= '9':\n",
    "                num += c\n",
    "                l += 1\n",
    "            else:\n",
    "                if len(num) != 0:\n",
    "                    #print (num, l)\n",
    "                    if l > maxl:\n",
    "                        listn.clear()\n",
    "                        listn.append(num)\n",
    "                        maxl = l\n",
    "                    elif l == maxl:\n",
    "                        listn.append(num)\n",
    "                l = 0\n",
    "                num = \"\"\n",
    "\n",
    "        if len(num) != 0:\n",
    "            #print (num, l)\n",
    "            if l > maxl:\n",
    "                listn.clear()\n",
    "                listn.append(num)\n",
    "                maxl = l\n",
    "            elif l == maxl:\n",
    "                listn.append(num)\n",
    "\n",
    "        #print(listn, maxl)\n",
    "        for e in listn:\n",
    "            print(e, end = '')\n",
    "        print(',{}'.format(maxl))\n",
    "except:\n",
    "    pass"
   ]
  }
 ],
 "metadata": {
  "kernelspec": {
   "display_name": "Python 3",
   "language": "python",
   "name": "python3"
  },
  "language_info": {
   "codemirror_mode": {
    "name": "ipython",
    "version": 3
   },
   "file_extension": ".py",
   "mimetype": "text/x-python",
   "name": "python",
   "nbconvert_exporter": "python",
   "pygments_lexer": "ipython3",
   "version": "3.9.0"
  }
 },
 "nbformat": 4,
 "nbformat_minor": 4
}
