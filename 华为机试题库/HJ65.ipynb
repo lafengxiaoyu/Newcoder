{
 "cells": [
  {
   "cell_type": "markdown",
   "metadata": {},
   "source": [
    "和75那个是一个题。。"
   ]
  },
  {
   "cell_type": "code",
   "execution_count": 15,
   "metadata": {},
   "outputs": [],
   "source": [
    "try:\n",
    "    while True:\n",
    "        s1 = input()\n",
    "        s2 = input()\n",
    "        \n",
    "#         s1 = 'asdfas'\n",
    "#         s2 = 'werasdfaswer'\n",
    "\n",
    "#         s1 = \"ccaabbabcbcacbcbabbacccbcb\"\n",
    "#         s2 = \"cbccccabaacbccbbbbbabaccbabbabccaabcaabaabcbcbcccacaccbaaacacacaaaabcbbaccbacacaabaabcacbcbcabccabbabcbabbbcccb\"\n",
    "\n",
    "\n",
    "\n",
    "        if len(s1) > len(s2):\n",
    "            s1, s2 = s2, s1\n",
    "\n",
    "        maxl = 0\n",
    "        outputs = \"\"\n",
    "        for i in range(len(s1) - 1):\n",
    "            for j in range(i + 1, len(s1)):\n",
    "                if (j + 1 - i) <= maxl:\n",
    "                    continue\n",
    "                elif s1[i: j + 1] in s2:\n",
    "                    # print(s1[i:j + 1])\n",
    "                    maxl = j + 1 - i\n",
    "                    outputs = s1[i: j + 1]\n",
    "        print(outputs)\n",
    "except:\n",
    "    pass"
   ]
  },
  {
   "cell_type": "code",
   "execution_count": null,
   "metadata": {},
   "outputs": [],
   "source": []
  }
 ],
 "metadata": {
  "kernelspec": {
   "display_name": "Python 3",
   "language": "python",
   "name": "python3"
  },
  "language_info": {
   "codemirror_mode": {
    "name": "ipython",
    "version": 3
   },
   "file_extension": ".py",
   "mimetype": "text/x-python",
   "name": "python",
   "nbconvert_exporter": "python",
   "pygments_lexer": "ipython3",
   "version": "3.9.0"
  }
 },
 "nbformat": 4,
 "nbformat_minor": 4
}
