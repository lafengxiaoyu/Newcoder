{
 "cells": [
  {
   "cell_type": "markdown",
   "metadata": {},
   "source": [
    "注意多次输入输出"
   ]
  },
  {
   "cell_type": "code",
   "execution_count": 4,
   "metadata": {},
   "outputs": [
    {
     "name": "stdout",
     "output_type": "stream",
     "text": [
      "5\n",
      "1 2 3 4 5\n",
      "0 3.0\n"
     ]
    }
   ],
   "source": [
    "try:\n",
    "    while True:\n",
    "        listn = []\n",
    "\n",
    "        n = int(input())\n",
    "        listn = list(map(int, input().split()))\n",
    "\n",
    "        n_negative = 0\n",
    "        listnp = []\n",
    "        for n in listn:\n",
    "            if n < 0:\n",
    "                n_negative += 1\n",
    "            elif n > 0:\n",
    "                listnp.append(n)\n",
    "\n",
    "        if len(listnp) != 0:\n",
    "            avg_positive = sum(listnp)/len(listnp)\n",
    "        else:\n",
    "            avg_positive = 0\n",
    "\n",
    "        print(\"{} {:.1f}\".format(n_negative,avg_positive))\n",
    "except:\n",
    "    pass"
   ]
  }
 ],
 "metadata": {
  "kernelspec": {
   "display_name": "Python 3",
   "language": "python",
   "name": "python3"
  },
  "language_info": {
   "codemirror_mode": {
    "name": "ipython",
    "version": 3
   },
   "file_extension": ".py",
   "mimetype": "text/x-python",
   "name": "python",
   "nbconvert_exporter": "python",
   "pygments_lexer": "ipython3",
   "version": "3.9.0"
  }
 },
 "nbformat": 4,
 "nbformat_minor": 4
}
