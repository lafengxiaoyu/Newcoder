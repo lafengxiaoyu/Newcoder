{
 "cells": [
  {
   "cell_type": "markdown",
   "metadata": {},
   "source": [
    "简单题"
   ]
  },
  {
   "cell_type": "code",
   "execution_count": 13,
   "metadata": {},
   "outputs": [
    {
     "name": "stdout",
     "output_type": "stream",
     "text": [
      "1 0 1 0 0 1\n",
      "2 0 0 1 0 1\n",
      "3 1 0 0 1 2\n",
      "4 1 1 0 1 3\n",
      "5 1 1 1 1 4\n",
      "6 2 1 1 2 6\n",
      "7 3 2 1 3 9\n",
      "8 4 3 2 4 13\n",
      "9 6 4 3 6 19\n",
      "10 9 6 4 9 28\n",
      "11 13 9 6 13 41\n",
      "12 19 13 9 19 60\n"
     ]
    }
   ],
   "source": [
    "month = 12\n",
    "\n",
    "total = 0\n",
    "\n",
    "\n",
    "# new born\n",
    "number0 = 1\n",
    "# 1 month \n",
    "number1 = 0\n",
    "# 2 month\n",
    "number2 = 0\n",
    "# adult, older than 3 month\n",
    "adult = 0\n",
    "\n",
    "for i in range(month):\n",
    "    \n",
    "    adult += number2\n",
    "    number2 = number1\n",
    "    number1 = number0\n",
    "    \n",
    "    number0 = adult\n",
    "    \n",
    "    \n",
    "    print(i+1,number0,number1,number2,adult, number0+number1+number2+adult)"
   ]
  },
  {
   "cell_type": "code",
   "execution_count": null,
   "metadata": {},
   "outputs": [],
   "source": []
  }
 ],
 "metadata": {
  "kernelspec": {
   "display_name": "Python 3",
   "language": "python",
   "name": "python3"
  },
  "language_info": {
   "codemirror_mode": {
    "name": "ipython",
    "version": 3
   },
   "file_extension": ".py",
   "mimetype": "text/x-python",
   "name": "python",
   "nbconvert_exporter": "python",
   "pygments_lexer": "ipython3",
   "version": "3.9.0"
  }
 },
 "nbformat": 4,
 "nbformat_minor": 4
}
