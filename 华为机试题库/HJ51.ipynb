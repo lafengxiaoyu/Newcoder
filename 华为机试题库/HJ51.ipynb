{
 "cells": [
  {
   "cell_type": "markdown",
   "metadata": {},
   "source": [
    "重点是ListNode的class，以及k = 0时候的边界条件"
   ]
  },
  {
   "cell_type": "code",
   "execution_count": 12,
   "metadata": {},
   "outputs": [
    {
     "name": "stdout",
     "output_type": "stream",
     "text": [
      "1\n",
      "8108\n",
      "0\n",
      "0\n"
     ]
    }
   ],
   "source": [
    "class ListNode():\n",
    "    def __init__(self, val):\n",
    "        self.val = val\n",
    "        self.next = None\n",
    "\n",
    "try:\n",
    "    while True:\n",
    "        \n",
    "        n = int(input())\n",
    "        list_nodes = list(map(int, input().split()))\n",
    "        k = int(input())\n",
    "        \n",
    "        pre = ListNode(list_nodes[0])\n",
    "        head = pre\n",
    "        \n",
    "        if n != 1:\n",
    "            for i in list_nodes[1:]:\n",
    "                current = ListNode(i)\n",
    "                pre.next = current\n",
    "                pre = current\n",
    "        \n",
    "        list_number = []\n",
    "\n",
    "        current = head\n",
    "        while current.next != None:\n",
    "            list_number.append(current.val)\n",
    "            current = current.next\n",
    "\n",
    "        list_number.append(current.val)\n",
    "        \n",
    "        if k != 0:\n",
    "            print(list_number[-k])\n",
    "        else:\n",
    "            print(0)\n",
    "except:\n",
    "    pass"
   ]
  }
 ],
 "metadata": {
  "kernelspec": {
   "display_name": "Python 3",
   "language": "python",
   "name": "python3"
  },
  "language_info": {
   "codemirror_mode": {
    "name": "ipython",
    "version": 3
   },
   "file_extension": ".py",
   "mimetype": "text/x-python",
   "name": "python",
   "nbconvert_exporter": "python",
   "pygments_lexer": "ipython3",
   "version": "3.9.0"
  }
 },
 "nbformat": 4,
 "nbformat_minor": 4
}
