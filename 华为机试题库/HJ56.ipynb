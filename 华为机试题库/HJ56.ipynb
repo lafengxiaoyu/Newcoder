{
 "cells": [
  {
   "cell_type": "markdown",
   "metadata": {},
   "source": [
    "还是循环sqrt次就可以，注意如果i是因子，那么n/i也是因子，这样可以大大减少循环次数"
   ]
  },
  {
   "cell_type": "code",
   "execution_count": null,
   "metadata": {},
   "outputs": [],
   "source": [
    "try:\n",
    "    while True:\n",
    "        n = int(input())\n",
    "        \n",
    "        # n = 100\n",
    "        wanmei = 0\n",
    "\n",
    "        for ii in range(1, n + 1):\n",
    "\n",
    "            list_yinshu = []\n",
    "            for i in range(1, int (ii ** 0.5 + 1)):\n",
    "                if ii % i == 0:\n",
    "                    list_yinshu.append(i)\n",
    "                    list_yinshu.append(int(ii/i))\n",
    "\n",
    "\n",
    "            list_yinshu = list(set(list_yinshu))\n",
    "\n",
    "            list_yinshu.remove(ii)\n",
    "\n",
    "            if sum(list_yinshu) == ii:\n",
    "                wanmei += 1\n",
    "        print(wanmei)\n",
    "except:\n",
    "    pass"
   ]
  }
 ],
 "metadata": {
  "kernelspec": {
   "display_name": "Python 3",
   "language": "python",
   "name": "python3"
  },
  "language_info": {
   "codemirror_mode": {
    "name": "ipython",
    "version": 3
   },
   "file_extension": ".py",
   "mimetype": "text/x-python",
   "name": "python",
   "nbconvert_exporter": "python",
   "pygments_lexer": "ipython3",
   "version": "3.9.0"
  }
 },
 "nbformat": 4,
 "nbformat_minor": 4
}
