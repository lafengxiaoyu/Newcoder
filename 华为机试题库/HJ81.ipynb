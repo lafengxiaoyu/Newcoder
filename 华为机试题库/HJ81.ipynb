{
 "cells": [
  {
   "cell_type": "markdown",
   "metadata": {},
   "source": [
    "简单题"
   ]
  },
  {
   "cell_type": "code",
   "execution_count": 3,
   "metadata": {},
   "outputs": [
    {
     "name": "stdout",
     "output_type": "stream",
     "text": [
      "bc\n",
      "abc\n",
      "true\n"
     ]
    }
   ],
   "source": [
    "try:\n",
    "    while True:\n",
    "        s1 = input()\n",
    "        s2 = input()\n",
    "        \n",
    "        flag = 1\n",
    "        for c in s1:\n",
    "            if c not in s2:\n",
    "                flag = 0\n",
    "                break\n",
    "        if flag == 1:\n",
    "            print(\"true\")\n",
    "        else:\n",
    "            print(\"false\")\n",
    "except:\n",
    "    pass"
   ]
  }
 ],
 "metadata": {
  "kernelspec": {
   "display_name": "Python 3",
   "language": "python",
   "name": "python3"
  },
  "language_info": {
   "codemirror_mode": {
    "name": "ipython",
    "version": 3
   },
   "file_extension": ".py",
   "mimetype": "text/x-python",
   "name": "python",
   "nbconvert_exporter": "python",
   "pygments_lexer": "ipython3",
   "version": "3.9.0"
  }
 },
 "nbformat": 4,
 "nbformat_minor": 4
}
