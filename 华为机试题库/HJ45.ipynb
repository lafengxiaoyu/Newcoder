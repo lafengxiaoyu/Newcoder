{
 "cells": [
  {
   "cell_type": "markdown",
   "metadata": {},
   "source": [
    "还是有点复杂的"
   ]
  },
  {
   "cell_type": "code",
   "execution_count": 50,
   "metadata": {},
   "outputs": [
    {
     "name": "stdout",
     "output_type": "stream",
     "text": [
      "192\n"
     ]
    }
   ],
   "source": [
    "try:\n",
    "    while True:\n",
    "        nn = int(input())\n",
    "\n",
    "        for ii in range(nn):\n",
    "            s = input()\n",
    "            # 全部转换为小写\n",
    "            s = s.lower()\n",
    "\n",
    "            lists = []\n",
    "            for c in s:\n",
    "                lists.append(c)\n",
    "\n",
    "            lists = sorted(lists)\n",
    "\n",
    "            list_different_c = []\n",
    "            list_different_c_number = []\n",
    "\n",
    "            pre = None\n",
    "            number = 0\n",
    "            for c in lists:\n",
    "                if c != pre:\n",
    "                    if pre != None:\n",
    "                        list_different_c.append(pre)\n",
    "                        list_different_c_number.append(number)\n",
    "\n",
    "                    number = 1\n",
    "                    pre = c\n",
    "\n",
    "\n",
    "                else:\n",
    "                    number += 1\n",
    "\n",
    "            list_different_c.append(c)\n",
    "            list_different_c_number.append(number)\n",
    "\n",
    "            sort_list_different_c_number = sorted(list_different_c_number, reverse = True)\n",
    "\n",
    "            n = 26\n",
    "\n",
    "            pl = 0\n",
    "            for i in sort_list_different_c_number:\n",
    "                pl += n * i\n",
    "                n -= 1\n",
    "\n",
    "            print(pl)\n",
    "except:\n",
    "    pass"
   ]
  }
 ],
 "metadata": {
  "kernelspec": {
   "display_name": "Python 3",
   "language": "python",
   "name": "python3"
  },
  "language_info": {
   "codemirror_mode": {
    "name": "ipython",
    "version": 3
   },
   "file_extension": ".py",
   "mimetype": "text/x-python",
   "name": "python",
   "nbconvert_exporter": "python",
   "pygments_lexer": "ipython3",
   "version": "3.9.0"
  }
 },
 "nbformat": 4,
 "nbformat_minor": 4
}
