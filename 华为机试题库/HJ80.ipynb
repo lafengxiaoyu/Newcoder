{
 "cells": [
  {
   "cell_type": "markdown",
   "metadata": {},
   "source": [
    "最后面再加一个print()区分多组数据"
   ]
  },
  {
   "cell_type": "code",
   "execution_count": 17,
   "metadata": {},
   "outputs": [
    {
     "name": "stdout",
     "output_type": "stream",
     "text": [
      "3\n",
      "1 2 5\n",
      "4\n",
      "-1 0 3 2\n",
      "-101235"
     ]
    }
   ],
   "source": [
    "try:\n",
    "    while True:\n",
    "        n = int(input())\n",
    "        list1 = list(map(int, input().split()))\n",
    "        \n",
    "        m = int(input())\n",
    "        list2 = list(map(int, input().split()))\n",
    "        \n",
    "        list12 = list1 + list2\n",
    "        \n",
    "        newlist = sorted(list(set(list12)))\n",
    "        \n",
    "        for e in newlist:\n",
    "            print (e, end = '')\n",
    "            \n",
    "        print()\n",
    "except:\n",
    "    pass"
   ]
  }
 ],
 "metadata": {
  "kernelspec": {
   "display_name": "Python 3",
   "language": "python",
   "name": "python3"
  },
  "language_info": {
   "codemirror_mode": {
    "name": "ipython",
    "version": 3
   },
   "file_extension": ".py",
   "mimetype": "text/x-python",
   "name": "python",
   "nbconvert_exporter": "python",
   "pygments_lexer": "ipython3",
   "version": "3.9.0"
  }
 },
 "nbformat": 4,
 "nbformat_minor": 4
}
