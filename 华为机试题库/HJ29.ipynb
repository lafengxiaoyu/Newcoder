{
 "cells": [
  {
   "cell_type": "markdown",
   "metadata": {},
   "source": [
    "还行这个题"
   ]
  },
  {
   "cell_type": "code",
   "execution_count": 4,
   "metadata": {},
   "outputs": [
    {
     "data": {
      "text/plain": [
       "'BCDEFGH'"
      ]
     },
     "execution_count": 4,
     "metadata": {},
     "output_type": "execute_result"
    }
   ],
   "source": [
    "try:\n",
    "    while True:\n",
    "        \n",
    "        s1 = input()\n",
    "        s2 = input()\n",
    "#         s1 = 'abcdefg'\n",
    "#         s2 = 'BCDEFGH'\n",
    "\n",
    "        ss1 = \"\"\n",
    "        for c in s1:\n",
    "            if c >= 'A' and c <= 'Y':\n",
    "                ss1 += chr(ord(c) - ord('A') + ord('a') + 1)\n",
    "            if c == 'Z':\n",
    "                ss1 += 'a'\n",
    "            if c >= 'a' and c <= 'y':\n",
    "                ss1 += chr(ord(c) - ord('a') + ord('A') + 1)\n",
    "            if c == 'z':\n",
    "                ss1 += 'A'\n",
    "            if c >= '0' and c <= '8':\n",
    "                ss1 += str (int(c) + 1)\n",
    "            if c == '9':\n",
    "                ss1 += '0'\n",
    "\n",
    "        ss2 = \"\"\n",
    "        for c in s2:\n",
    "            if c >= 'B' and c <= 'Z':\n",
    "                ss2 += chr(ord(c) - ord('A') + ord('a') - 1)\n",
    "            if c == 'A':\n",
    "                ss2 += 'z'\n",
    "            if c >= 'b' and c <= 'z':\n",
    "                ss2 += chr(ord(c) - ord('a') + ord('A') - 1)\n",
    "            if c == 'a':\n",
    "                ss2 += 'Z'\n",
    "            if c >= '1' and c <= '9':\n",
    "                ss2 += str (int(c) - 1)\n",
    "            if c == '0':\n",
    "                ss2 += '9'\n",
    "\n",
    "        print(ss1)\n",
    "        print(ss2)\n",
    "except:\n",
    "    pass"
   ]
  }
 ],
 "metadata": {
  "kernelspec": {
   "display_name": "Python 3",
   "language": "python",
   "name": "python3"
  },
  "language_info": {
   "codemirror_mode": {
    "name": "ipython",
    "version": 3
   },
   "file_extension": ".py",
   "mimetype": "text/x-python",
   "name": "python",
   "nbconvert_exporter": "python",
   "pygments_lexer": "ipython3",
   "version": "3.9.0"
  }
 },
 "nbformat": 4,
 "nbformat_minor": 4
}
