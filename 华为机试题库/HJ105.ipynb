{
 "cells": [
  {
   "cell_type": "markdown",
   "metadata": {},
   "source": [
    "注意输入输出"
   ]
  },
  {
   "cell_type": "code",
   "execution_count": 11,
   "metadata": {},
   "outputs": [
    {
     "name": "stdout",
     "output_type": "stream",
     "text": [
      "0\n",
      "0.0\n"
     ]
    }
   ],
   "source": [
    "listn = []\n",
    "\n",
    "try:\n",
    "    while True:\n",
    "        a = int(input())\n",
    "        listn.append(a)\n",
    "except:\n",
    "    n_negative = 0\n",
    "    listnp = []\n",
    "    for n in listn:\n",
    "        if n < 0:\n",
    "            n_negative += 1\n",
    "        else:\n",
    "            listnp.append(n)\n",
    "\n",
    "    if len(listnp) != 0:\n",
    "        avg_positive = sum(listnp)/len(listnp)\n",
    "    else:\n",
    "        avg_positive = 0\n",
    "    \n",
    "    print(n_negative)\n",
    "    print(\"%.1f\" % avg_positive)\n",
    "    # print(\"{:.1f}\".format(avg_positive))"
   ]
  }
 ],
 "metadata": {
  "kernelspec": {
   "display_name": "Python 3",
   "language": "python",
   "name": "python3"
  },
  "language_info": {
   "codemirror_mode": {
    "name": "ipython",
    "version": 3
   },
   "file_extension": ".py",
   "mimetype": "text/x-python",
   "name": "python",
   "nbconvert_exporter": "python",
   "pygments_lexer": "ipython3",
   "version": "3.9.0"
  }
 },
 "nbformat": 4,
 "nbformat_minor": 4
}
