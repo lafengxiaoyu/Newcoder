{
 "cells": [
  {
   "cell_type": "markdown",
   "metadata": {},
   "source": [
    "简单题，就是样例给的输出有错误"
   ]
  },
  {
   "cell_type": "code",
   "execution_count": 8,
   "metadata": {},
   "outputs": [
    {
     "name": "stdout",
     "output_type": "stream",
     "text": [
      "26\n",
      "3\n",
      "10\n",
      "10\n",
      "\n"
     ]
    }
   ],
   "source": [
    "try:\n",
    "    while True:\n",
    "        s = input()\n",
    "        # s = \"1qazxsw23 edcvfr45tgbn hy67uj m,ki89ol.\\\\/;p0-=\\\\][\"\n",
    "\n",
    "        letter = 0\n",
    "        space = 0\n",
    "        num = 0\n",
    "        other = 0\n",
    "\n",
    "        for c in s:\n",
    "            if (c >= 'A' and c <= 'Z') or (c >= 'a' and c <= 'z'):\n",
    "                letter += 1\n",
    "            elif c >= '0' and c <= '9':\n",
    "                num += 1\n",
    "            elif c == ' ':\n",
    "                space += 1\n",
    "\n",
    "        other = len(s) - letter - num - space\n",
    "\n",
    "        print(letter)\n",
    "        print(space)\n",
    "        print(num)\n",
    "        print(other)\n",
    "except:\n",
    "    pass"
   ]
  }
 ],
 "metadata": {
  "kernelspec": {
   "display_name": "Python 3",
   "language": "python",
   "name": "python3"
  },
  "language_info": {
   "codemirror_mode": {
    "name": "ipython",
    "version": 3
   },
   "file_extension": ".py",
   "mimetype": "text/x-python",
   "name": "python",
   "nbconvert_exporter": "python",
   "pygments_lexer": "ipython3",
   "version": "3.9.0"
  }
 },
 "nbformat": 4,
 "nbformat_minor": 4
}
