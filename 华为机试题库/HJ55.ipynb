{
 "cells": [
  {
   "cell_type": "markdown",
   "metadata": {},
   "source": [
    "倍数是用余数的，数字是用in 字符串的"
   ]
  },
  {
   "cell_type": "code",
   "execution_count": 8,
   "metadata": {},
   "outputs": [
    {
     "name": "stdout",
     "output_type": "stream",
     "text": [
      "7\n",
      "1\n"
     ]
    }
   ],
   "source": [
    "try:\n",
    "    while True:\n",
    "        #N = 10\n",
    "        N = int(input())\n",
    "        \n",
    "        n = 0\n",
    "        for i in range(N + 1):\n",
    "            if '7' in str(i) or (i % 7 == 0 and i != 0):\n",
    "                n += 1\n",
    "        print(n)\n",
    "except:\n",
    "    pass"
   ]
  }
 ],
 "metadata": {
  "kernelspec": {
   "display_name": "Python 3",
   "language": "python",
   "name": "python3"
  },
  "language_info": {
   "codemirror_mode": {
    "name": "ipython",
    "version": 3
   },
   "file_extension": ".py",
   "mimetype": "text/x-python",
   "name": "python",
   "nbconvert_exporter": "python",
   "pygments_lexer": "ipython3",
   "version": "3.9.0"
  }
 },
 "nbformat": 4,
 "nbformat_minor": 4
}
