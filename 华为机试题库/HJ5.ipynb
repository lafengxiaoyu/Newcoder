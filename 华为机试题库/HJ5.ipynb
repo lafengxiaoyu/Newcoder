{
 "cells": [
  {
   "cell_type": "code",
   "execution_count": 31,
   "metadata": {},
   "outputs": [
    {
     "name": "stdout",
     "output_type": "stream",
     "text": [
      "1902\n"
     ]
    }
   ],
   "source": [
    "def sixteen2ten(e):\n",
    "    if e == 'A':\n",
    "        return (10)\n",
    "    elif e == 'B':\n",
    "        return (11)\n",
    "    elif e == 'C':\n",
    "        return (12)\n",
    "    elif e == 'D':\n",
    "        return (13)\n",
    "    elif e == 'E':\n",
    "        return (14)\n",
    "    elif e == 'F':\n",
    "        return (15)\n",
    "\n",
    "try:\n",
    "    while True:\n",
    "        a = input()\n",
    "        if a[: 2] == '0x':\n",
    "            a16 = a[2:]\n",
    "\n",
    "        a10 = 0\n",
    "\n",
    "        for i in range(len(a16)):\n",
    "\n",
    "            e = a16[-1 - i]\n",
    "            if e >= '0' and e <= '9':\n",
    "                number = int(e)\n",
    "            else:\n",
    "                number = sixteen2ten(e)\n",
    "            a10 += number * 16**i\n",
    "\n",
    "        print(a10)\n",
    "except:\n",
    "    pass"
   ]
  }
 ],
 "metadata": {
  "kernelspec": {
   "display_name": "Python 3",
   "language": "python",
   "name": "python3"
  },
  "language_info": {
   "codemirror_mode": {
    "name": "ipython",
    "version": 3
   },
   "file_extension": ".py",
   "mimetype": "text/x-python",
   "name": "python",
   "nbconvert_exporter": "python",
   "pygments_lexer": "ipython3",
   "version": "3.9.0"
  }
 },
 "nbformat": 4,
 "nbformat_minor": 4
}
