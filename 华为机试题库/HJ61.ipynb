{
 "cells": [
  {
   "cell_type": "markdown",
   "metadata": {},
   "source": [
    "递归：\n",
    "\n",
    "借鉴了解题中的思路：\n",
    "\n",
    "'''\n",
    "放苹果分为两种情况，一种是有盘子为空，一种是每个盘子上都有苹果。\n",
    "令(m,n)表示将m个苹果放入n个盘子中的摆放方法总数。\n",
    "1.假设有一个盘子为空，则(m,n)问题转化为将m个苹果放在n-1个盘子上，即求得(m,n-1)即可\n",
    "2.假设所有盘子都装有苹果，则每个盘子上至少有一个苹果，即最多剩下m-n个苹果，问题转化为将m-n个苹果放到n个盘子上\n",
    "即求(m-n，n)\n",
    "'''"
   ]
  },
  {
   "cell_type": "code",
   "execution_count": 6,
   "metadata": {},
   "outputs": [
    {
     "name": "stdout",
     "output_type": "stream",
     "text": [
      "7 3\n",
      "8\n",
      "2 5\n",
      "2\n"
     ]
    }
   ],
   "source": [
    "def pingguo(m, n):\n",
    "    if m < 0 or n < 0:\n",
    "        return 0\n",
    "    elif m == 1 or n == 1:\n",
    "        return 1\n",
    "    else:\n",
    "        return pingguo(m, n - 1) + pingguo(m - n, n)\n",
    "\n",
    "try:\n",
    "    while True:\n",
    "        m, n = list(map(int, input().split()))\n",
    "        # m = 7\n",
    "        # n = 3\n",
    "        \n",
    "        print(pingguo(m, n))\n",
    "\n",
    "except:\n",
    "    pass"
   ]
  }
 ],
 "metadata": {
  "kernelspec": {
   "display_name": "Python 3",
   "language": "python",
   "name": "python3"
  },
  "language_info": {
   "codemirror_mode": {
    "name": "ipython",
    "version": 3
   },
   "file_extension": ".py",
   "mimetype": "text/x-python",
   "name": "python",
   "nbconvert_exporter": "python",
   "pygments_lexer": "ipython3",
   "version": "3.9.0"
  }
 },
 "nbformat": 4,
 "nbformat_minor": 4
}
