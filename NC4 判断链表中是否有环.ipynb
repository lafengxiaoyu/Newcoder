{
 "cells": [
  {
   "cell_type": "markdown",
   "metadata": {},
   "source": [
    "函数部分"
   ]
  },
  {
   "cell_type": "code",
   "execution_count": 1,
   "metadata": {},
   "outputs": [],
   "source": [
    "class ListNode:\n",
    "    def __init__(self, x):\n",
    "        self.val = x\n",
    "        self.next = None\n",
    "\n",
    "#\n",
    "# \n",
    "# @param head ListNode类 \n",
    "# @return bool布尔型\n",
    "#\n",
    "class Solution:\n",
    "    def hasCycle(self , head):\n",
    "        # write code here\n",
    "        list_node = []\n",
    "        flag = 0\n",
    "        while head != None:\n",
    "            if head not in list_node:\n",
    "                list_node.append(head)\n",
    "                head = head.next\n",
    "            else:\n",
    "                flag = 1\n",
    "                break\n",
    "        # 利用set去重\n",
    "        if flag == 0:\n",
    "            return False\n",
    "        else:\n",
    "            return True"
   ]
  },
  {
   "cell_type": "markdown",
   "metadata": {},
   "source": [
    "测试部分"
   ]
  },
  {
   "cell_type": "code",
   "execution_count": 2,
   "metadata": {},
   "outputs": [],
   "source": [
    "def print_link(pHead):\n",
    "    while pHead.next != None:\n",
    "        print(pHead)\n",
    "        pHead = pHead.next\n",
    "    print(pHead)"
   ]
  },
  {
   "cell_type": "code",
   "execution_count": 3,
   "metadata": {},
   "outputs": [
    {
     "name": "stdout",
     "output_type": "stream",
     "text": [
      "<__main__.ListNode object at 0x7ffd74077e80>\n",
      "<__main__.ListNode object at 0x7ffd74077ca0>\n",
      "<__main__.ListNode object at 0x7ffd74077130>\n"
     ]
    }
   ],
   "source": [
    "a = [1,2,3]\n",
    "\n",
    "n0 = ListNode(a[0])\n",
    "n1 = ListNode(a[1])\n",
    "n2 = ListNode(a[2])\n",
    "\n",
    "n0.next = n1\n",
    "n1.next = n2\n",
    "\n",
    "print_link(n0)"
   ]
  },
  {
   "cell_type": "code",
   "execution_count": 4,
   "metadata": {},
   "outputs": [
    {
     "data": {
      "text/plain": [
       "False"
      ]
     },
     "execution_count": 4,
     "metadata": {},
     "output_type": "execute_result"
    }
   ],
   "source": [
    "s = Solution()\n",
    "s.hasCycle(n0)"
   ]
  }
 ],
 "metadata": {
  "kernelspec": {
   "display_name": "Python 3",
   "language": "python",
   "name": "python3"
  },
  "language_info": {
   "codemirror_mode": {
    "name": "ipython",
    "version": 3
   },
   "file_extension": ".py",
   "mimetype": "text/x-python",
   "name": "python",
   "nbconvert_exporter": "python",
   "pygments_lexer": "ipython3",
   "version": "3.9.0"
  }
 },
 "nbformat": 4,
 "nbformat_minor": 4
}
