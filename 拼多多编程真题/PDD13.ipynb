{
 "cells": [
  {
   "cell_type": "markdown",
   "metadata": {},
   "source": [
    "就是所有情况都得考虑到"
   ]
  },
  {
   "cell_type": "code",
   "execution_count": 1,
   "metadata": {},
   "outputs": [
    {
     "name": "stdout",
     "output_type": "stream",
     "text": [
      "13\n",
      "3\n",
      "5\n",
      "5\n"
     ]
    }
   ],
   "source": [
    "HP = int(input())\n",
    "normalAttack = int(input())\n",
    "buffedAttack = int(input())\n",
    "\n",
    "if normalAttack >= buffedAttack/2:\n",
    "    days = int(HP/normalAttack)\n",
    "    if days * normalAttack >= HP:\n",
    "        print(days)\n",
    "    else:\n",
    "        print(days + 1)\n",
    "else:\n",
    "    odd = int(HP/buffedAttack)\n",
    "    if odd * buffedAttack >= HP:\n",
    "        print(odd * 2)\n",
    "    elif odd * buffedAttack + normalAttack >= HP:\n",
    "        print(odd * 2 + 1)\n",
    "    else:\n",
    "        print(odd * 2 + 2)"
   ]
  },
  {
   "cell_type": "code",
   "execution_count": null,
   "metadata": {},
   "outputs": [],
   "source": []
  }
 ],
 "metadata": {
  "kernelspec": {
   "display_name": "Python 3",
   "language": "python",
   "name": "python3"
  },
  "language_info": {
   "codemirror_mode": {
    "name": "ipython",
    "version": 3
   },
   "file_extension": ".py",
   "mimetype": "text/x-python",
   "name": "python",
   "nbconvert_exporter": "python",
   "pygments_lexer": "ipython3",
   "version": "3.9.0"
  }
 },
 "nbformat": 4,
 "nbformat_minor": 4
}
