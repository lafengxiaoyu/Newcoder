{
 "cells": [
  {
   "cell_type": "code",
   "execution_count": 22,
   "metadata": {},
   "outputs": [
    {
     "name": "stdout",
     "output_type": "stream",
     "text": [
      "20000 30000 0 10000\n"
     ]
    }
   ],
   "source": [
    "offset, n, l1, l2 = map(int,input().split())\n",
    "\n",
    "# the offset larger than l1\n",
    "if offset >= l1:\n",
    "    start1 = l1\n",
    "    end1 = l1\n",
    "    if offset >= l1 + l2:\n",
    "        start2 = l2\n",
    "        end2 = l2\n",
    "    else:\n",
    "        start2 = offset - l1\n",
    "        \n",
    "        if start2 + n >= l2:\n",
    "            end2 = l2\n",
    "        else:\n",
    "            end2 = start2 + n\n",
    "        \n",
    "else:\n",
    "\n",
    "    start1 = offset\n",
    "    # l2 is not necessary\n",
    "    if start1 + n <= l1:\n",
    "        end1 = start1 + n\n",
    "        \n",
    "        start2 = 0\n",
    "        end2 = 0\n",
    "    # l2 is used\n",
    "    else:\n",
    "        end1 = l1\n",
    "        \n",
    "        start2 = 0\n",
    "        if l2 + l1 - offset >= n:\n",
    "            end2 = n - (l1 - offset)\n",
    "        else:\n",
    "            end2 = l2\n",
    "            \n",
    "print(start1, end1, start2, end2)"
   ]
  }
 ],
 "metadata": {
  "kernelspec": {
   "display_name": "Python 3",
   "language": "python",
   "name": "python3"
  },
  "language_info": {
   "codemirror_mode": {
    "name": "ipython",
    "version": 3
   },
   "file_extension": ".py",
   "mimetype": "text/x-python",
   "name": "python",
   "nbconvert_exporter": "python",
   "pygments_lexer": "ipython3",
   "version": "3.9.0"
  }
 },
 "nbformat": 4,
 "nbformat_minor": 4
}
