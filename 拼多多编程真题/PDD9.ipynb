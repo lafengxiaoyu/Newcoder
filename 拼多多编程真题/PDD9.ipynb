{
 "cells": [
  {
   "cell_type": "code",
   "execution_count": 1,
   "metadata": {},
   "outputs": [
    {
     "name": "stdout",
     "output_type": "stream",
     "text": [
      "2 5\n",
      "5 6 10 20 30\n",
      "4 34\n",
      "3 35\n",
      "4\n",
      "0\n"
     ]
    }
   ],
   "source": [
    "m, n = list(map(int,input().split()))\n",
    "candies = list(map(int,input().split()))\n",
    "\n",
    "bear = []\n",
    "for i in range(m):\n",
    "    bh = list(map(int,input().split()))\n",
    "    bear.append(bh)\n",
    "\n",
    "# add orignal order\n",
    "i = 0\n",
    "for bh in bear:\n",
    "    bh.append(i)\n",
    "    i += 1\n",
    "\n",
    "# sort according to original index order\n",
    "def sort_bear_original(listbear):\n",
    "    return listbear[2]\n",
    "\n",
    "# sort according to attack\n",
    "def sort_bear_attack(listbear):\n",
    "    return listbear[0]\n",
    "\n",
    "original_bear = bear\n",
    "bear.sort(key = sort_bear_attack,reverse=True)\n",
    "candies.sort(reverse = True)\n",
    "\n",
    "\n",
    "h_list = []\n",
    "for bh in bear:\n",
    "    h = bh[1]\n",
    "    while candies[-1] <= h:\n",
    "        for i in range(len(candies)):\n",
    "            if candies[i] <= h:\n",
    "                h -= candies[i]\n",
    "                candies.pop(i)\n",
    "                break\n",
    "    bh.append(h)\n",
    "\n",
    "bear.sort(key = sort_bear_original)\n",
    "\n",
    "for b in bear:\n",
    "    print(b[-1])"
   ]
  },
  {
   "cell_type": "markdown",
   "metadata": {},
   "source": [
    "测试部分"
   ]
  },
  {
   "cell_type": "code",
   "execution_count": 2,
   "metadata": {},
   "outputs": [],
   "source": [
    "m, n = 2, 62\n",
    "candies = [44,55,59,87,56,34,59,12,34,56,64,44,76,98,71,55,33,52,90,66,45,11,91,42,29,44,51,22,86,17,65,22,48,47,81,59,5,48,32,26,39,93,59,49,40,16,48,70,4,24,84,43,40,45,72,96,89,13,93,92,19,58]\n",
    "bear = [[20, 97], [89, 5]]"
   ]
  },
  {
   "cell_type": "code",
   "execution_count": 3,
   "metadata": {},
   "outputs": [
    {
     "name": "stdout",
     "output_type": "stream",
     "text": [
      "1\n",
      "0\n"
     ]
    }
   ],
   "source": [
    "# add orignal order\n",
    "i = 0\n",
    "for bh in bear:\n",
    "    bh.append(i)\n",
    "    i += 1\n",
    "\n",
    "# sort according to original index order\n",
    "def sort_bear_original(listbear):\n",
    "    return listbear[2]\n",
    "\n",
    "# sort according to attack\n",
    "def sort_bear_attack(listbear):\n",
    "    return listbear[0]\n",
    "\n",
    "original_bear = bear\n",
    "bear.sort(key = sort_bear_attack,reverse=True)\n",
    "candies.sort(reverse = True)\n",
    "\n",
    "\n",
    "h_list = []\n",
    "for bh in bear:\n",
    "    h = bh[1]\n",
    "    while candies[-1] <= h:\n",
    "        for i in range(len(candies)):\n",
    "            if candies[i] <= h:\n",
    "                h -= candies[i]\n",
    "                candies.pop(i)\n",
    "                break\n",
    "    bh.append(h)\n",
    "\n",
    "bear.sort(key = sort_bear_original)\n",
    "for b in bear:\n",
    "    print(b[-1])"
   ]
  }
 ],
 "metadata": {
  "kernelspec": {
   "display_name": "Python 3",
   "language": "python",
   "name": "python3"
  },
  "language_info": {
   "codemirror_mode": {
    "name": "ipython",
    "version": 3
   },
   "file_extension": ".py",
   "mimetype": "text/x-python",
   "name": "python",
   "nbconvert_exporter": "python",
   "pygments_lexer": "ipython3",
   "version": "3.9.0"
  }
 },
 "nbformat": 4,
 "nbformat_minor": 4
}
