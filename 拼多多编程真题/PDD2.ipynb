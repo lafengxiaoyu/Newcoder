{
 "cells": [
  {
   "cell_type": "markdown",
   "metadata": {},
   "source": [
    "优化竖式"
   ]
  },
  {
   "cell_type": "code",
   "execution_count": 12,
   "metadata": {},
   "outputs": [
    {
     "name": "stdout",
     "output_type": "stream",
     "text": [
      "72106547548473106236 982161082972751393\n",
      "70820244829634538040848656466105986748\n"
     ]
    }
   ],
   "source": [
    "n1, n2 = input().split()\n",
    "\n",
    "list_n1 = []\n",
    "for i in range(len(n1)):\n",
    "    list_n1.append(int(n1[i]))\n",
    "    \n",
    "list_n2 = []\n",
    "for i in range(len(n2)):\n",
    "    list_n2.append(int(n2[i]))\n",
    "    \n",
    "def product_with_n1(list_n1, x):\n",
    "    new_list = []\n",
    "    for i in list_n1:\n",
    "        new_list.append(i * x)\n",
    "\n",
    "    jinwei = 0\n",
    "    for i in range(len(new_list)):\n",
    "\n",
    "        if (new_list[- 1 - i] > 9):\n",
    "            jinwei = int(new_list[- 1 - i] / 10)\n",
    "            if i != len(new_list) - 1:\n",
    "                new_list[- 2 - i] += jinwei\n",
    "                jinwei = 0\n",
    "            new_list[- 1 - i] = new_list[- 1 - i] % 10\n",
    "    if jinwei != 0:\n",
    "        new_list.insert(0, jinwei)\n",
    "    return new_list\n",
    "\n",
    "# the inputs are two lists\n",
    "def sumtwo(x1_list, x2_list):\n",
    "    new_list = []\n",
    "\n",
    "    if len(x1_list) < len(x2_list):\n",
    "        x1_list = [0] * (len(x2_list) - len(x1_list)) + x1_list\n",
    "    else:\n",
    "        x2_list = [0] * (len(x1_list) - len(x2_list)) + x2_list\n",
    "\n",
    "\n",
    "    jinwei = 0\n",
    "    for i in range(len(x1_list)):\n",
    "\n",
    "        sum12 = x1_list[- 1 - i] + x2_list[- 1 - i] + jinwei\n",
    "        if sum12 > 9:\n",
    "            new_list.insert(0, sum12 - 10)\n",
    "            jinwei = 1\n",
    "        else:\n",
    "            new_list.insert(0, sum12)\n",
    "            jinwei = 0\n",
    "    if jinwei > 0:\n",
    "        new_list.insert(0, jinwei)\n",
    "    \n",
    "    return new_list\n",
    "\n",
    "\n",
    "current_list = product_with_n1(list_n1, list_n2[- 1])\n",
    "\n",
    "for i in range(1, len(list_n2)):\n",
    "    this_product = product_with_n1(list_n1, list_n2[- 1 - i])\n",
    "    this_product = this_product + i * [0]\n",
    "\n",
    "    current_list = sumtwo(current_list, this_product)\n",
    "\n",
    "product = \"\"\n",
    "for i in range(len(current_list)):\n",
    "    product += str(current_list[i])\n",
    "\n",
    "print(product)"
   ]
  },
  {
   "cell_type": "code",
   "execution_count": null,
   "metadata": {},
   "outputs": [],
   "source": []
  }
 ],
 "metadata": {
  "kernelspec": {
   "display_name": "Python 3",
   "language": "python",
   "name": "python3"
  },
  "language_info": {
   "codemirror_mode": {
    "name": "ipython",
    "version": 3
   },
   "file_extension": ".py",
   "mimetype": "text/x-python",
   "name": "python",
   "nbconvert_exporter": "python",
   "pygments_lexer": "ipython3",
   "version": "3.9.0"
  }
 },
 "nbformat": 4,
 "nbformat_minor": 4
}
