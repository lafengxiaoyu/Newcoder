{
 "cells": [
  {
   "cell_type": "markdown",
   "metadata": {},
   "source": [
    "其实用数学归纳法想一想就应该知道必然是一大一小两两配对的"
   ]
  },
  {
   "cell_type": "code",
   "execution_count": 2,
   "metadata": {},
   "outputs": [
    {
     "name": "stdout",
     "output_type": "stream",
     "text": [
      "4\n",
      "2 6 4 3\n",
      "1\n"
     ]
    }
   ],
   "source": [
    "n = map(int,input())\n",
    "nlist = list(map(int,input().split()))\n",
    "\n",
    "nlist.sort()\n",
    "\n",
    "max_n = nlist[0] + nlist[-1]\n",
    "min_n = nlist[0] + nlist[-1]\n",
    "\n",
    "while len(nlist) != 0:\n",
    "    the_smaller = nlist.pop(0)\n",
    "    the_bigger = nlist.pop(-1)\n",
    "    \n",
    "    \n",
    "    sum_current = the_bigger + the_smaller\n",
    "    if sum_current >= max_n:\n",
    "        max_n = sum_current\n",
    "    if sum_current <= min_n:\n",
    "        min_n = sum_current\n",
    "\n",
    "print(max_n - min_n)    "
   ]
  }
 ],
 "metadata": {
  "kernelspec": {
   "display_name": "Python 3",
   "language": "python",
   "name": "python3"
  },
  "language_info": {
   "codemirror_mode": {
    "name": "ipython",
    "version": 3
   },
   "file_extension": ".py",
   "mimetype": "text/x-python",
   "name": "python",
   "nbconvert_exporter": "python",
   "pygments_lexer": "ipython3",
   "version": "3.9.0"
  }
 },
 "nbformat": 4,
 "nbformat_minor": 4
}
