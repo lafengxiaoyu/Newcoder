{
 "cells": [
  {
   "cell_type": "markdown",
   "metadata": {},
   "source": [
    "边界条件真的是巨多"
   ]
  },
  {
   "cell_type": "code",
   "execution_count": 41,
   "metadata": {},
   "outputs": [
    {
     "name": "stdout",
     "output_type": "stream",
     "text": [
      "4\n",
      "3 4 1 2\n",
      "24\n"
     ]
    }
   ],
   "source": [
    "# A = [3, 4, 1, -5]\n",
    "\n",
    "n = int(input())\n",
    "A = list(map(int, input().split()))\n",
    "\n",
    "poss = []\n",
    "negs = []\n",
    "zero = False\n",
    "\n",
    "if max(A) > 0:\n",
    "    for a in A:\n",
    "        if a > 0:\n",
    "            if len(poss) < 3:\n",
    "                poss.append(a)\n",
    "            else:\n",
    "                if a > min(poss):\n",
    "                    poss.remove(min(poss))\n",
    "                    poss.append(a)\n",
    "        elif a < 0:\n",
    "            if len(negs) < 3:\n",
    "                negs.append(a)\n",
    "            else:\n",
    "                if a < max(negs):\n",
    "                    negs.remove(max(negs))\n",
    "                    negs.append(a)\n",
    "        else:\n",
    "            zero = True\n",
    "elif max(A) < 0:\n",
    "    for a in A:\n",
    "        if len(negs) < 3:\n",
    "            negs.append(a)\n",
    "        else:\n",
    "            if a > min(negs):\n",
    "                negs.remove(min(negs))\n",
    "                negs.append(a)\n",
    "else:\n",
    "    zero = True\n",
    "    print(0)\n",
    "\n",
    "# 最大值为正\n",
    "if len(poss) == 3 or (len(poss) >= 1 and len(negs) >= 2):\n",
    "    if len(poss) == 3:\n",
    "        product1 = poss[0] * poss[1] * poss[2]\n",
    "    else:\n",
    "        product1 = 0\n",
    "    if len(negs) == 3:\n",
    "        negs.remove(max(negs))\n",
    "    if len(negs) == 2:\n",
    "        product2 = negs[0] * negs[1] * max(poss)\n",
    "    else:\n",
    "        product2 = 0\n",
    "    print(max(product1, product2))\n",
    "# 最大值为负\n",
    "elif len(poss) == 0 and zero == False:\n",
    "    print(negs[0] * negs[1] * negs[2])"
   ]
  },
  {
   "cell_type": "code",
   "execution_count": null,
   "metadata": {},
   "outputs": [],
   "source": []
  }
 ],
 "metadata": {
  "kernelspec": {
   "display_name": "Python 3",
   "language": "python",
   "name": "python3"
  },
  "language_info": {
   "codemirror_mode": {
    "name": "ipython",
    "version": 3
   },
   "file_extension": ".py",
   "mimetype": "text/x-python",
   "name": "python",
   "nbconvert_exporter": "python",
   "pygments_lexer": "ipython3",
   "version": "3.9.0"
  }
 },
 "nbformat": 4,
 "nbformat_minor": 4
}
