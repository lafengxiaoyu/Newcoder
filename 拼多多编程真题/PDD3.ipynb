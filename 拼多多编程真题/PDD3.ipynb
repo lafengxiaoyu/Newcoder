{
 "cells": [
  {
   "cell_type": "markdown",
   "metadata": {},
   "source": [
    "直白翻译就可以了，按照从小到大喂"
   ]
  },
  {
   "cell_type": "code",
   "execution_count": 1,
   "metadata": {},
   "outputs": [
    {
     "name": "stdout",
     "output_type": "stream",
     "text": [
      "3\n",
      "2 2 3\n",
      "2\n",
      "3 1\n",
      "1\n"
     ]
    }
   ],
   "source": [
    "n = int(input())\n",
    "h_list = list(map(int, input().split()))\n",
    "m = int(input())\n",
    "w_list = list(map(int, input().split()))\n",
    "\n",
    "h_list.sort()\n",
    "w_list.sort()\n",
    "\n",
    "number = 0\n",
    "for h in h_list:\n",
    "    if len(w_list) == 0 or w_list[-1] < h_list[0]:\n",
    "        break\n",
    "    else:\n",
    "        for i in range(len(w_list)):\n",
    "            if w_list[i] >= h:\n",
    "                number += 1\n",
    "                w_list.pop(i)\n",
    "                break\n",
    "print(number)"
   ]
  }
 ],
 "metadata": {
  "kernelspec": {
   "display_name": "Python 3",
   "language": "python",
   "name": "python3"
  },
  "language_info": {
   "codemirror_mode": {
    "name": "ipython",
    "version": 3
   },
   "file_extension": ".py",
   "mimetype": "text/x-python",
   "name": "python",
   "nbconvert_exporter": "python",
   "pygments_lexer": "ipython3",
   "version": "3.9.0"
  }
 },
 "nbformat": 4,
 "nbformat_minor": 4
}
