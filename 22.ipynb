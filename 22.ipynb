{
 "cells": [
  {
   "cell_type": "code",
   "execution_count": 25,
   "metadata": {},
   "outputs": [],
   "source": [
    "#\n",
    "# \n",
    "# @param A int整型一维数组 \n",
    "# @param B int整型一维数组 \n",
    "# @return void\n",
    "#\n",
    "class Solution:\n",
    "    def merge(self , A, m, B, n):\n",
    "        # write code here\n",
    "        if len(A) == 0:\n",
    "            return B\n",
    "        elif len(B) == 0:\n",
    "            return A\n",
    "        else:\n",
    "            new_array = []\n",
    "            while len(A) != 0 and len(B) != 0:\n",
    "                if A[0] <= B[0]:\n",
    "                    new_array.append(A[0])\n",
    "                    A.pop(0)\n",
    "                else:\n",
    "                    new_array.append(B[0])\n",
    "                    B.pop(0)\n",
    "            if len(A) == 0:\n",
    "                new_array.extend(B)\n",
    "            else:\n",
    "                new_array.extend(A)\n",
    "            return new_array"
   ]
  },
  {
   "cell_type": "code",
   "execution_count": 26,
   "metadata": {},
   "outputs": [],
   "source": [
    "A = [1, 3, 5]\n",
    "m = 3\n",
    "B = [2, 4, 4, 6]\n",
    "n = 4"
   ]
  },
  {
   "cell_type": "code",
   "execution_count": 30,
   "metadata": {},
   "outputs": [],
   "source": [
    "A = []\n",
    "m = 5\n",
    "B = [1]\n",
    "n = 1"
   ]
  },
  {
   "cell_type": "code",
   "execution_count": 31,
   "metadata": {},
   "outputs": [
    {
     "data": {
      "text/plain": [
       "[1]"
      ]
     },
     "execution_count": 31,
     "metadata": {},
     "output_type": "execute_result"
    }
   ],
   "source": [
    "s = Solution()\n",
    "s.merge(A, m, B, n)"
   ]
  },
  {
   "cell_type": "code",
   "execution_count": null,
   "metadata": {},
   "outputs": [],
   "source": []
  }
 ],
 "metadata": {
  "kernelspec": {
   "display_name": "Python 3",
   "language": "python",
   "name": "python3"
  },
  "language_info": {
   "codemirror_mode": {
    "name": "ipython",
    "version": 3
   },
   "file_extension": ".py",
   "mimetype": "text/x-python",
   "name": "python",
   "nbconvert_exporter": "python",
   "pygments_lexer": "ipython3",
   "version": "3.9.0"
  }
 },
 "nbformat": 4,
 "nbformat_minor": 4
}
